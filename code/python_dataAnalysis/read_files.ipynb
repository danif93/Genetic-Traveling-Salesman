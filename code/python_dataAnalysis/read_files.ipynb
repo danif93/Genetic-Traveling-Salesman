{
 "cells": [
  {
   "cell_type": "code",
   "execution_count": 2,
   "metadata": {},
   "outputs": [],
   "source": [
    "import numpy as np\n",
    "import pandas as pd\n",
    "import matplotlib.pyplot as plt\n",
    "import os\n",
    "\n",
    "%matplotlib inline"
   ]
  },
  {
   "cell_type": "markdown",
   "metadata": {},
   "source": [
    "# Increasing numNodes"
   ]
  },
  {
   "cell_type": "markdown",
   "metadata": {},
   "source": [
    "## Total Cost"
   ]
  },
  {
   "cell_type": "code",
   "execution_count": 3,
   "metadata": {},
   "outputs": [],
   "source": [
    "path = \"../results/numNodes\"\n",
    "files = sorted(os.listdir(path))\n",
    "#files = [i for i in os.listdir(path) if os.path.isfile(os.path.join(path,i)) and \"out\" in i]"
   ]
  },
  {
   "cell_type": "code",
   "execution_count": 4,
   "metadata": {},
   "outputs": [],
   "source": [
    "df_time = pd.DataFrame()\n",
    "df_prec = pd.DataFrame()\n",
    "df_conv = pd.DataFrame()"
   ]
  },
  {
   "cell_type": "code",
   "execution_count": 5,
   "metadata": {},
   "outputs": [],
   "source": [
    "for file in files:\n",
    "    with open(os.path.join(path,file)) as f:\n",
    "        col = file.split('.')[0]\n",
    "        for line in f:\n",
    "            vals = line.split(' ')\n",
    "            row = vals[0]+','+vals[1]+','+vals[2]\n",
    "            df_time.loc[row,col] = float(vals[3])\n",
    "            df_prec.loc[row,col] = int(vals[4])\n",
    "            df_conv.loc[row,col] = int(vals[5])==1"
   ]
  },
  {
   "cell_type": "code",
   "execution_count": 6,
   "metadata": {},
   "outputs": [
    {
     "data": {
      "text/html": [
       "<div>\n",
       "<style scoped>\n",
       "    .dataframe tbody tr th:only-of-type {\n",
       "        vertical-align: middle;\n",
       "    }\n",
       "\n",
       "    .dataframe tbody tr th {\n",
       "        vertical-align: top;\n",
       "    }\n",
       "\n",
       "    .dataframe thead th {\n",
       "        text-align: right;\n",
       "    }\n",
       "</style>\n",
       "<table border=\"1\" class=\"dataframe\">\n",
       "  <thead>\n",
       "    <tr style=\"text-align: right;\">\n",
       "      <th></th>\n",
       "      <th>0</th>\n",
       "      <th>1</th>\n",
       "      <th>2</th>\n",
       "      <th>3</th>\n",
       "    </tr>\n",
       "  </thead>\n",
       "  <tbody>\n",
       "    <tr>\n",
       "      <th>10,10000,5000</th>\n",
       "      <td>0.446527</td>\n",
       "      <td>0.451014</td>\n",
       "      <td>0.448205</td>\n",
       "      <td>0.450173</td>\n",
       "    </tr>\n",
       "    <tr>\n",
       "      <th>50,10000,5000</th>\n",
       "      <td>1.672402</td>\n",
       "      <td>1.555578</td>\n",
       "      <td>1.664772</td>\n",
       "      <td>1.678342</td>\n",
       "    </tr>\n",
       "    <tr>\n",
       "      <th>100,10000,5000</th>\n",
       "      <td>3.063831</td>\n",
       "      <td>2.844872</td>\n",
       "      <td>3.031332</td>\n",
       "      <td>3.077066</td>\n",
       "    </tr>\n",
       "  </tbody>\n",
       "</table>\n",
       "</div>"
      ],
      "text/plain": [
       "                       0         1         2         3\n",
       "10,10000,5000   0.446527  0.451014  0.448205  0.450173\n",
       "50,10000,5000   1.672402  1.555578  1.664772  1.678342\n",
       "100,10000,5000  3.063831  2.844872  3.031332  3.077066"
      ]
     },
     "execution_count": 6,
     "metadata": {},
     "output_type": "execute_result"
    }
   ],
   "source": [
    "df_time"
   ]
  },
  {
   "cell_type": "code",
   "execution_count": 7,
   "metadata": {},
   "outputs": [
    {
     "data": {
      "text/html": [
       "<div>\n",
       "<style scoped>\n",
       "    .dataframe tbody tr th:only-of-type {\n",
       "        vertical-align: middle;\n",
       "    }\n",
       "\n",
       "    .dataframe tbody tr th {\n",
       "        vertical-align: top;\n",
       "    }\n",
       "\n",
       "    .dataframe thead th {\n",
       "        text-align: right;\n",
       "    }\n",
       "</style>\n",
       "<table border=\"1\" class=\"dataframe\">\n",
       "  <thead>\n",
       "    <tr style=\"text-align: right;\">\n",
       "      <th></th>\n",
       "      <th>0</th>\n",
       "      <th>1</th>\n",
       "      <th>2</th>\n",
       "      <th>3</th>\n",
       "    </tr>\n",
       "  </thead>\n",
       "  <tbody>\n",
       "    <tr>\n",
       "      <th>10,10000,5000</th>\n",
       "      <td>242.0</td>\n",
       "      <td>242.0</td>\n",
       "      <td>242.0</td>\n",
       "      <td>242.0</td>\n",
       "    </tr>\n",
       "    <tr>\n",
       "      <th>50,10000,5000</th>\n",
       "      <td>696.0</td>\n",
       "      <td>738.0</td>\n",
       "      <td>738.0</td>\n",
       "      <td>738.0</td>\n",
       "    </tr>\n",
       "    <tr>\n",
       "      <th>100,10000,5000</th>\n",
       "      <td>2068.0</td>\n",
       "      <td>2135.0</td>\n",
       "      <td>1988.0</td>\n",
       "      <td>2135.0</td>\n",
       "    </tr>\n",
       "  </tbody>\n",
       "</table>\n",
       "</div>"
      ],
      "text/plain": [
       "                     0       1       2       3\n",
       "10,10000,5000    242.0   242.0   242.0   242.0\n",
       "50,10000,5000    696.0   738.0   738.0   738.0\n",
       "100,10000,5000  2068.0  2135.0  1988.0  2135.0"
      ]
     },
     "execution_count": 7,
     "metadata": {},
     "output_type": "execute_result"
    }
   ],
   "source": [
    "df_prec"
   ]
  },
  {
   "cell_type": "code",
   "execution_count": 8,
   "metadata": {},
   "outputs": [
    {
     "data": {
      "text/html": [
       "<div>\n",
       "<style scoped>\n",
       "    .dataframe tbody tr th:only-of-type {\n",
       "        vertical-align: middle;\n",
       "    }\n",
       "\n",
       "    .dataframe tbody tr th {\n",
       "        vertical-align: top;\n",
       "    }\n",
       "\n",
       "    .dataframe thead th {\n",
       "        text-align: right;\n",
       "    }\n",
       "</style>\n",
       "<table border=\"1\" class=\"dataframe\">\n",
       "  <thead>\n",
       "    <tr style=\"text-align: right;\">\n",
       "      <th></th>\n",
       "      <th>0</th>\n",
       "      <th>1</th>\n",
       "      <th>2</th>\n",
       "      <th>3</th>\n",
       "    </tr>\n",
       "  </thead>\n",
       "  <tbody>\n",
       "    <tr>\n",
       "      <th>10,10000,5000</th>\n",
       "      <td>True</td>\n",
       "      <td>True</td>\n",
       "      <td>True</td>\n",
       "      <td>True</td>\n",
       "    </tr>\n",
       "    <tr>\n",
       "      <th>50,10000,5000</th>\n",
       "      <td>False</td>\n",
       "      <td>True</td>\n",
       "      <td>True</td>\n",
       "      <td>True</td>\n",
       "    </tr>\n",
       "    <tr>\n",
       "      <th>100,10000,5000</th>\n",
       "      <td>True</td>\n",
       "      <td>True</td>\n",
       "      <td>True</td>\n",
       "      <td>False</td>\n",
       "    </tr>\n",
       "  </tbody>\n",
       "</table>\n",
       "</div>"
      ],
      "text/plain": [
       "                    0     1     2      3\n",
       "10,10000,5000    True  True  True   True\n",
       "50,10000,5000   False  True  True   True\n",
       "100,10000,5000   True  True  True  False"
      ]
     },
     "execution_count": 8,
     "metadata": {},
     "output_type": "execute_result"
    }
   ],
   "source": [
    "df_conv"
   ]
  },
  {
   "cell_type": "code",
   "execution_count": 10,
   "metadata": {},
   "outputs": [
    {
     "data": {
      "image/png": "[encoded data removed]",
      "text/plain": [
       "<Figure size 432x288 with 1 Axes>"
      ]
     },
     "metadata": {},
     "output_type": "display_data"
    }
   ],
   "source": [
    "plt.plot(df_prec);\n",
    "plt.legend(df_prec.columns);"
   ]
  },
  {
   "cell_type": "markdown",
   "metadata": {},
   "source": [
    "## Detailed Cost"
   ]
  },
  {
   "cell_type": "markdown",
   "metadata": {},
   "source": [
    "### Sequential"
   ]
  },
  {
   "cell_type": "code",
   "execution_count": 11,
   "metadata": {},
   "outputs": [],
   "source": [
    "path = \"../results/detailed/sequential\"\n",
    "genFiles = sorted([i for i in os.listdir(path) if \"generation\" in i])\n",
    "pathFiles = sorted([i for i in os.listdir(path) if \"path\" in i])\n",
    "rearrFiles = sorted([i for i in os.listdir(path) if \"rearrange\" in i])\n",
    "sortFiles = sorted([i for i in os.listdir(path) if \"sort\" in i])\n",
    "transFiles = sorted([i for i in os.listdir(path) if \"transfer\" in i])"
   ]
  },
  {
   "cell_type": "code",
   "execution_count": 12,
   "metadata": {
    "scrolled": true
   },
   "outputs": [
    {
     "data": {
      "text/html": [
       "<div>\n",
       "<style scoped>\n",
       "    .dataframe tbody tr th:only-of-type {\n",
       "        vertical-align: middle;\n",
       "    }\n",
       "\n",
       "    .dataframe tbody tr th {\n",
       "        vertical-align: top;\n",
       "    }\n",
       "\n",
       "    .dataframe thead th {\n",
       "        text-align: right;\n",
       "    }\n",
       "</style>\n",
       "<table border=\"1\" class=\"dataframe\">\n",
       "  <thead>\n",
       "    <tr style=\"text-align: right;\">\n",
       "      <th></th>\n",
       "      <th>generation_0</th>\n",
       "    </tr>\n",
       "  </thead>\n",
       "  <tbody>\n",
       "    <tr>\n",
       "      <th>10,10000,5000</th>\n",
       "      <td>0.002125 0.002087 0.002073 0.002068 0.002066 0...</td>\n",
       "    </tr>\n",
       "    <tr>\n",
       "      <th>50,10000,5000</th>\n",
       "      <td>0.014853 0.014658 0.014713 0.014661 0.014638 0...</td>\n",
       "    </tr>\n",
       "    <tr>\n",
       "      <th>100,10000,5000</th>\n",
       "      <td>0.033073 0.032723 0.032687 0.032599 0.032521 0...</td>\n",
       "    </tr>\n",
       "  </tbody>\n",
       "</table>\n",
       "</div>"
      ],
      "text/plain": [
       "                                                     generation_0\n",
       "10,10000,5000   0.002125 0.002087 0.002073 0.002068 0.002066 0...\n",
       "50,10000,5000   0.014853 0.014658 0.014713 0.014661 0.014638 0...\n",
       "100,10000,5000  0.033073 0.032723 0.032687 0.032599 0.032521 0..."
      ]
     },
     "execution_count": 12,
     "metadata": {},
     "output_type": "execute_result"
    }
   ],
   "source": [
    "df_gen = pd.DataFrame()\n",
    "\n",
    "for file in genFiles:\n",
    "    with open(os.path.join(path,file)) as f:\n",
    "        col = file.split('.')[0]\n",
    "        for line in f:\n",
    "            vals = line.split(' ')\n",
    "            row = vals[0]+','+vals[1]+','+vals[2]\n",
    "            try:\n",
    "                df_gen.loc[row,col] += ' '+vals[3][:-1]\n",
    "            except KeyError:\n",
    "                df_gen.loc[row,col] = vals[3][:-1]\n",
    "            except TypeError:\n",
    "                df_gen.loc[row,col] = vals[3][:-1]\n",
    "df_gen"
   ]
  },
  {
   "cell_type": "code",
   "execution_count": 13,
   "metadata": {},
   "outputs": [
    {
     "data": {
      "text/plain": [
       "28"
      ]
     },
     "execution_count": 13,
     "metadata": {},
     "output_type": "execute_result"
    }
   ],
   "source": [
    "len(df_gen.iloc[0,0].split(' '))"
   ]
  },
  {
   "cell_type": "code",
   "execution_count": 14,
   "metadata": {},
   "outputs": [
    {
     "data": {
      "text/html": [
       "<div>\n",
       "<style scoped>\n",
       "    .dataframe tbody tr th:only-of-type {\n",
       "        vertical-align: middle;\n",
       "    }\n",
       "\n",
       "    .dataframe tbody tr th {\n",
       "        vertical-align: top;\n",
       "    }\n",
       "\n",
       "    .dataframe thead th {\n",
       "        text-align: right;\n",
       "    }\n",
       "</style>\n",
       "<table border=\"1\" class=\"dataframe\">\n",
       "  <thead>\n",
       "    <tr style=\"text-align: right;\">\n",
       "      <th></th>\n",
       "      <th>path_0</th>\n",
       "    </tr>\n",
       "  </thead>\n",
       "  <tbody>\n",
       "    <tr>\n",
       "      <th>10,10000,5000</th>\n",
       "      <td>0.000103 0.000088 0.000087 0.000089 0.000087 0...</td>\n",
       "    </tr>\n",
       "    <tr>\n",
       "      <th>50,10000,5000</th>\n",
       "      <td>0.000482 0.000468 0.000468 0.000466 0.000468 0...</td>\n",
       "    </tr>\n",
       "    <tr>\n",
       "      <th>100,10000,5000</th>\n",
       "      <td>0.000915 0.000895 0.000891 0.000890 0.000901 0...</td>\n",
       "    </tr>\n",
       "  </tbody>\n",
       "</table>\n",
       "</div>"
      ],
      "text/plain": [
       "                                                           path_0\n",
       "10,10000,5000   0.000103 0.000088 0.000087 0.000089 0.000087 0...\n",
       "50,10000,5000   0.000482 0.000468 0.000468 0.000466 0.000468 0...\n",
       "100,10000,5000  0.000915 0.000895 0.000891 0.000890 0.000901 0..."
      ]
     },
     "execution_count": 14,
     "metadata": {},
     "output_type": "execute_result"
    }
   ],
   "source": [
    "df_path = pd.DataFrame()\n",
    "\n",
    "for file in pathFiles:\n",
    "    with open(os.path.join(path,file)) as f:\n",
    "        col = file.split('.')[0]\n",
    "        for line in f:\n",
    "            vals = line.split(' ')\n",
    "            row = vals[0]+','+vals[1]+','+vals[2]\n",
    "            try:\n",
    "                df_path.loc[row,col] += ' '+vals[3][:-1]\n",
    "            except KeyError:\n",
    "                df_path.loc[row,col] = vals[3][:-1]\n",
    "            except TypeError:\n",
    "                df_path.loc[row,col] = vals[3][:-1]\n",
    "df_path"
   ]
  },
  {
   "cell_type": "code",
   "execution_count": 15,
   "metadata": {},
   "outputs": [
    {
     "data": {
      "text/plain": [
       "29"
      ]
     },
     "execution_count": 15,
     "metadata": {},
     "output_type": "execute_result"
    }
   ],
   "source": [
    "len(df_path.iloc[0,0].split(' '))"
   ]
  },
  {
   "cell_type": "code",
   "execution_count": 16,
   "metadata": {},
   "outputs": [
    {
     "data": {
      "text/html": [
       "<div>\n",
       "<style scoped>\n",
       "    .dataframe tbody tr th:only-of-type {\n",
       "        vertical-align: middle;\n",
       "    }\n",
       "\n",
       "    .dataframe tbody tr th {\n",
       "        vertical-align: top;\n",
       "    }\n",
       "\n",
       "    .dataframe thead th {\n",
       "        text-align: right;\n",
       "    }\n",
       "</style>\n",
       "<table border=\"1\" class=\"dataframe\">\n",
       "  <thead>\n",
       "    <tr style=\"text-align: right;\">\n",
       "      <th></th>\n",
       "      <th>rearrange_0</th>\n",
       "    </tr>\n",
       "  </thead>\n",
       "  <tbody>\n",
       "    <tr>\n",
       "      <th>10,10000,5000</th>\n",
       "      <td>0.000066 0.000030 0.000029 0.000030 0.000029 0...</td>\n",
       "    </tr>\n",
       "    <tr>\n",
       "      <th>50,10000,5000</th>\n",
       "      <td>0.000278 0.000105 0.000104 0.000103 0.000102 0...</td>\n",
       "    </tr>\n",
       "    <tr>\n",
       "      <th>100,10000,5000</th>\n",
       "      <td>0.000320 0.000161 0.000158 0.000157 0.000157 0...</td>\n",
       "    </tr>\n",
       "  </tbody>\n",
       "</table>\n",
       "</div>"
      ],
      "text/plain": [
       "                                                      rearrange_0\n",
       "10,10000,5000   0.000066 0.000030 0.000029 0.000030 0.000029 0...\n",
       "50,10000,5000   0.000278 0.000105 0.000104 0.000103 0.000102 0...\n",
       "100,10000,5000  0.000320 0.000161 0.000158 0.000157 0.000157 0..."
      ]
     },
     "execution_count": 16,
     "metadata": {},
     "output_type": "execute_result"
    }
   ],
   "source": [
    "df_rearr = pd.DataFrame()\n",
    "\n",
    "for file in rearrFiles:\n",
    "    with open(os.path.join(path,file)) as f:\n",
    "        col = file.split('.')[0]\n",
    "        for line in f:\n",
    "            vals = line.split(' ')\n",
    "            row = vals[0]+','+vals[1]+','+vals[2]\n",
    "            try:\n",
    "                df_rearr.loc[row,col] += ' '+vals[3][:-1]\n",
    "            except KeyError:\n",
    "                df_rearr.loc[row,col] = vals[3][:-1]\n",
    "            except TypeError:\n",
    "                df_rearr.loc[row,col] = vals[3][:-1]\n",
    "df_rearr"
   ]
  },
  {
   "cell_type": "code",
   "execution_count": 17,
   "metadata": {},
   "outputs": [
    {
     "data": {
      "text/plain": [
       "29"
      ]
     },
     "execution_count": 17,
     "metadata": {},
     "output_type": "execute_result"
    }
   ],
   "source": [
    "len(df_rearr.iloc[0,0].split(' '))"
   ]
  },
  {
   "cell_type": "code",
   "execution_count": 18,
   "metadata": {},
   "outputs": [
    {
     "data": {
      "text/html": [
       "<div>\n",
       "<style scoped>\n",
       "    .dataframe tbody tr th:only-of-type {\n",
       "        vertical-align: middle;\n",
       "    }\n",
       "\n",
       "    .dataframe tbody tr th {\n",
       "        vertical-align: top;\n",
       "    }\n",
       "\n",
       "    .dataframe thead th {\n",
       "        text-align: right;\n",
       "    }\n",
       "</style>\n",
       "<table border=\"1\" class=\"dataframe\">\n",
       "  <thead>\n",
       "    <tr style=\"text-align: right;\">\n",
       "      <th></th>\n",
       "      <th>sort_0</th>\n",
       "    </tr>\n",
       "  </thead>\n",
       "  <tbody>\n",
       "    <tr>\n",
       "      <th>10,10000,5000</th>\n",
       "      <td>0.000729 0.000512 0.000493 0.000490 0.000493 0...</td>\n",
       "    </tr>\n",
       "    <tr>\n",
       "      <th>50,10000,5000</th>\n",
       "      <td>0.000753 0.000520 0.000506 0.000510 0.000507 0...</td>\n",
       "    </tr>\n",
       "    <tr>\n",
       "      <th>100,10000,5000</th>\n",
       "      <td>0.000756 0.000529 0.000518 0.000514 0.000513 0...</td>\n",
       "    </tr>\n",
       "  </tbody>\n",
       "</table>\n",
       "</div>"
      ],
      "text/plain": [
       "                                                           sort_0\n",
       "10,10000,5000   0.000729 0.000512 0.000493 0.000490 0.000493 0...\n",
       "50,10000,5000   0.000753 0.000520 0.000506 0.000510 0.000507 0...\n",
       "100,10000,5000  0.000756 0.000529 0.000518 0.000514 0.000513 0..."
      ]
     },
     "execution_count": 18,
     "metadata": {},
     "output_type": "execute_result"
    }
   ],
   "source": [
    "df_sort = pd.DataFrame()\n",
    "\n",
    "for file in sortFiles:\n",
    "    with open(os.path.join(path,file)) as f:\n",
    "        col = file.split('.')[0]\n",
    "        for line in f:\n",
    "            vals = line.split(' ')\n",
    "            row = vals[0]+','+vals[1]+','+vals[2]\n",
    "            try:\n",
    "                df_sort.loc[row,col] += ' '+vals[3][:-1]\n",
    "            except KeyError:\n",
    "                df_sort.loc[row,col] = vals[3][:-1]\n",
    "            except TypeError:\n",
    "                df_sort.loc[row,col] = vals[3][:-1]\n",
    "df_sort"
   ]
  },
  {
   "cell_type": "code",
   "execution_count": 19,
   "metadata": {},
   "outputs": [
    {
     "data": {
      "text/plain": [
       "29"
      ]
     },
     "execution_count": 19,
     "metadata": {},
     "output_type": "execute_result"
    }
   ],
   "source": [
    "len(df_sort.iloc[0,0].split(' '))"
   ]
  },
  {
   "cell_type": "markdown",
   "metadata": {},
   "source": [
    "### Parallel"
   ]
  },
  {
   "cell_type": "code",
   "execution_count": 21,
   "metadata": {},
   "outputs": [],
   "source": [
    "path = \"../results/detailed/parallel\"\n",
    "genFiles = sorted([i for i in os.listdir(path) if \"generation\" in i])\n",
    "pathFiles = sorted([i for i in os.listdir(path) if \"path\" in i])\n",
    "rearrFiles = sorted([i for i in os.listdir(path) if \"rearrange\" in i])\n",
    "sortFiles = sorted([i for i in os.listdir(path) if \"sort\" in i])\n",
    "transFiles = sorted([i for i in os.listdir(path) if \"transfer\" in i])"
   ]
  },
  {
   "cell_type": "code",
   "execution_count": 22,
   "metadata": {
    "scrolled": true
   },
   "outputs": [
    {
     "data": {
      "text/html": [
       "<div>\n",
       "<style scoped>\n",
       "    .dataframe tbody tr th:only-of-type {\n",
       "        vertical-align: middle;\n",
       "    }\n",
       "\n",
       "    .dataframe tbody tr th {\n",
       "        vertical-align: top;\n",
       "    }\n",
       "\n",
       "    .dataframe thead th {\n",
       "        text-align: right;\n",
       "    }\n",
       "</style>\n",
       "<table border=\"1\" class=\"dataframe\">\n",
       "  <thead>\n",
       "    <tr style=\"text-align: right;\">\n",
       "      <th></th>\n",
       "      <th>generation_0</th>\n",
       "    </tr>\n",
       "  </thead>\n",
       "  <tbody>\n",
       "    <tr>\n",
       "      <th>10,10000,5000</th>\n",
       "      <td>0.004086 0.004093 0.004120 0.004070 0.004117 0...</td>\n",
       "    </tr>\n",
       "    <tr>\n",
       "      <th>50,10000,5000</th>\n",
       "      <td>0.006382 0.006292 0.006333 0.006264 0.006374 0...</td>\n",
       "    </tr>\n",
       "    <tr>\n",
       "      <th>100,10000,5000</th>\n",
       "      <td>0.011623 0.012313 0.011913 0.011929 0.011853 0...</td>\n",
       "    </tr>\n",
       "  </tbody>\n",
       "</table>\n",
       "</div>"
      ],
      "text/plain": [
       "                                                     generation_0\n",
       "10,10000,5000   0.004086 0.004093 0.004120 0.004070 0.004117 0...\n",
       "50,10000,5000   0.006382 0.006292 0.006333 0.006264 0.006374 0...\n",
       "100,10000,5000  0.011623 0.012313 0.011913 0.011929 0.011853 0..."
      ]
     },
     "execution_count": 22,
     "metadata": {},
     "output_type": "execute_result"
    }
   ],
   "source": [
    "df_gen = pd.DataFrame()\n",
    "\n",
    "for file in genFiles:\n",
    "    with open(os.path.join(path,file)) as f:\n",
    "        col = file.split('.')[0]\n",
    "        for line in f:\n",
    "            vals = line.split(' ')\n",
    "            row = vals[0]+','+vals[1]+','+vals[2]\n",
    "            try:\n",
    "                df_gen.loc[row,col] += ' '+vals[3][:-1]\n",
    "            except KeyError:\n",
    "                df_gen.loc[row,col] = vals[3][:-1]\n",
    "            except TypeError:\n",
    "                df_gen.loc[row,col] = vals[3][:-1]\n",
    "df_gen"
   ]
  },
  {
   "cell_type": "code",
   "execution_count": 23,
   "metadata": {},
   "outputs": [
    {
     "data": {
      "text/plain": [
       "28"
      ]
     },
     "execution_count": 23,
     "metadata": {},
     "output_type": "execute_result"
    }
   ],
   "source": [
    "len(df_gen.iloc[0,0].split(' '))"
   ]
  },
  {
   "cell_type": "code",
   "execution_count": 24,
   "metadata": {},
   "outputs": [
    {
     "data": {
      "text/html": [
       "<div>\n",
       "<style scoped>\n",
       "    .dataframe tbody tr th:only-of-type {\n",
       "        vertical-align: middle;\n",
       "    }\n",
       "\n",
       "    .dataframe tbody tr th {\n",
       "        vertical-align: top;\n",
       "    }\n",
       "\n",
       "    .dataframe thead th {\n",
       "        text-align: right;\n",
       "    }\n",
       "</style>\n",
       "<table border=\"1\" class=\"dataframe\">\n",
       "  <thead>\n",
       "    <tr style=\"text-align: right;\">\n",
       "      <th></th>\n",
       "      <th>path_0</th>\n",
       "    </tr>\n",
       "  </thead>\n",
       "  <tbody>\n",
       "    <tr>\n",
       "      <th>10,10000,5000</th>\n",
       "      <td>0.000101 0.000087 0.000087 0.000087 0.000087 0...</td>\n",
       "    </tr>\n",
       "    <tr>\n",
       "      <th>50,10000,5000</th>\n",
       "      <td>0.000481 0.000467 0.000466 0.000466 0.000472 0...</td>\n",
       "    </tr>\n",
       "    <tr>\n",
       "      <th>100,10000,5000</th>\n",
       "      <td>0.000914 0.000892 0.000895 0.000913 0.000914 0...</td>\n",
       "    </tr>\n",
       "  </tbody>\n",
       "</table>\n",
       "</div>"
      ],
      "text/plain": [
       "                                                           path_0\n",
       "10,10000,5000   0.000101 0.000087 0.000087 0.000087 0.000087 0...\n",
       "50,10000,5000   0.000481 0.000467 0.000466 0.000466 0.000472 0...\n",
       "100,10000,5000  0.000914 0.000892 0.000895 0.000913 0.000914 0..."
      ]
     },
     "execution_count": 24,
     "metadata": {},
     "output_type": "execute_result"
    }
   ],
   "source": [
    "df_path = pd.DataFrame()\n",
    "\n",
    "for file in pathFiles:\n",
    "    with open(os.path.join(path,file)) as f:\n",
    "        col = file.split('.')[0]\n",
    "        for line in f:\n",
    "            vals = line.split(' ')\n",
    "            row = vals[0]+','+vals[1]+','+vals[2]\n",
    "            try:\n",
    "                df_path.loc[row,col] += ' '+vals[3][:-1]\n",
    "            except KeyError:\n",
    "                df_path.loc[row,col] = vals[3][:-1]\n",
    "            except TypeError:\n",
    "                df_path.loc[row,col] = vals[3][:-1]\n",
    "df_path"
   ]
  },
  {
   "cell_type": "code",
   "execution_count": 25,
   "metadata": {},
   "outputs": [
    {
     "data": {
      "text/plain": [
       "29"
      ]
     },
     "execution_count": 25,
     "metadata": {},
     "output_type": "execute_result"
    }
   ],
   "source": [
    "len(df_path.iloc[0,0].split(' '))"
   ]
  },
  {
   "cell_type": "code",
   "execution_count": 26,
   "metadata": {},
   "outputs": [
    {
     "data": {
      "text/html": [
       "<div>\n",
       "<style scoped>\n",
       "    .dataframe tbody tr th:only-of-type {\n",
       "        vertical-align: middle;\n",
       "    }\n",
       "\n",
       "    .dataframe tbody tr th {\n",
       "        vertical-align: top;\n",
       "    }\n",
       "\n",
       "    .dataframe thead th {\n",
       "        text-align: right;\n",
       "    }\n",
       "</style>\n",
       "<table border=\"1\" class=\"dataframe\">\n",
       "  <thead>\n",
       "    <tr style=\"text-align: right;\">\n",
       "      <th></th>\n",
       "      <th>rearrange_0</th>\n",
       "    </tr>\n",
       "  </thead>\n",
       "  <tbody>\n",
       "    <tr>\n",
       "      <th>10,10000,5000</th>\n",
       "      <td>0.000061 0.000028 0.000042 0.000035 0.000035 0...</td>\n",
       "    </tr>\n",
       "    <tr>\n",
       "      <th>50,10000,5000</th>\n",
       "      <td>0.000238 0.000106 0.000146 0.000144 0.000142 0...</td>\n",
       "    </tr>\n",
       "    <tr>\n",
       "      <th>100,10000,5000</th>\n",
       "      <td>0.000444 0.000158 0.000203 0.000204 0.000201 0...</td>\n",
       "    </tr>\n",
       "  </tbody>\n",
       "</table>\n",
       "</div>"
      ],
      "text/plain": [
       "                                                      rearrange_0\n",
       "10,10000,5000   0.000061 0.000028 0.000042 0.000035 0.000035 0...\n",
       "50,10000,5000   0.000238 0.000106 0.000146 0.000144 0.000142 0...\n",
       "100,10000,5000  0.000444 0.000158 0.000203 0.000204 0.000201 0..."
      ]
     },
     "execution_count": 26,
     "metadata": {},
     "output_type": "execute_result"
    }
   ],
   "source": [
    "df_rearr = pd.DataFrame()\n",
    "\n",
    "for file in rearrFiles:\n",
    "    with open(os.path.join(path,file)) as f:\n",
    "        col = file.split('.')[0]\n",
    "        for line in f:\n",
    "            vals = line.split(' ')\n",
    "            row = vals[0]+','+vals[1]+','+vals[2]\n",
    "            try:\n",
    "                df_rearr.loc[row,col] += ' '+vals[3][:-1]\n",
    "            except KeyError:\n",
    "                df_rearr.loc[row,col] = vals[3][:-1]\n",
    "            except TypeError:\n",
    "                df_rearr.loc[row,col] = vals[3][:-1]\n",
    "df_rearr"
   ]
  },
  {
   "cell_type": "code",
   "execution_count": 27,
   "metadata": {},
   "outputs": [
    {
     "data": {
      "text/plain": [
       "29"
      ]
     },
     "execution_count": 27,
     "metadata": {},
     "output_type": "execute_result"
    }
   ],
   "source": [
    "len(df_rearr.iloc[0,0].split(' '))"
   ]
  },
  {
   "cell_type": "code",
   "execution_count": 28,
   "metadata": {},
   "outputs": [
    {
     "data": {
      "text/html": [
       "<div>\n",
       "<style scoped>\n",
       "    .dataframe tbody tr th:only-of-type {\n",
       "        vertical-align: middle;\n",
       "    }\n",
       "\n",
       "    .dataframe tbody tr th {\n",
       "        vertical-align: top;\n",
       "    }\n",
       "\n",
       "    .dataframe thead th {\n",
       "        text-align: right;\n",
       "    }\n",
       "</style>\n",
       "<table border=\"1\" class=\"dataframe\">\n",
       "  <thead>\n",
       "    <tr style=\"text-align: right;\">\n",
       "      <th></th>\n",
       "      <th>sort_0</th>\n",
       "    </tr>\n",
       "  </thead>\n",
       "  <tbody>\n",
       "    <tr>\n",
       "      <th>10,10000,5000</th>\n",
       "      <td>0.000285 0.000218 0.000220 0.000208 0.000211 0...</td>\n",
       "    </tr>\n",
       "    <tr>\n",
       "      <th>50,10000,5000</th>\n",
       "      <td>0.000299 0.000232 0.000233 0.000224 0.000228 0...</td>\n",
       "    </tr>\n",
       "    <tr>\n",
       "      <th>100,10000,5000</th>\n",
       "      <td>0.000305 0.000235 0.000236 0.000234 0.000224 0...</td>\n",
       "    </tr>\n",
       "  </tbody>\n",
       "</table>\n",
       "</div>"
      ],
      "text/plain": [
       "                                                           sort_0\n",
       "10,10000,5000   0.000285 0.000218 0.000220 0.000208 0.000211 0...\n",
       "50,10000,5000   0.000299 0.000232 0.000233 0.000224 0.000228 0...\n",
       "100,10000,5000  0.000305 0.000235 0.000236 0.000234 0.000224 0..."
      ]
     },
     "execution_count": 28,
     "metadata": {},
     "output_type": "execute_result"
    }
   ],
   "source": [
    "df_sort = pd.DataFrame()\n",
    "\n",
    "for file in sortFiles:\n",
    "    with open(os.path.join(path,file)) as f:\n",
    "        col = file.split('.')[0]\n",
    "        for line in f:\n",
    "            vals = line.split(' ')\n",
    "            row = vals[0]+','+vals[1]+','+vals[2]\n",
    "            try:\n",
    "                df_sort.loc[row,col] += ' '+vals[3][:-1]\n",
    "            except KeyError:\n",
    "                df_sort.loc[row,col] = vals[3][:-1]\n",
    "            except TypeError:\n",
    "                df_sort.loc[row,col] = vals[3][:-1]\n",
    "df_sort"
   ]
  },
  {
   "cell_type": "code",
   "execution_count": 29,
   "metadata": {},
   "outputs": [
    {
     "data": {
      "text/plain": [
       "29"
      ]
     },
     "execution_count": 29,
     "metadata": {},
     "output_type": "execute_result"
    }
   ],
   "source": [
    "len(df_sort.iloc[0,0].split(' '))"
   ]
  },
  {
   "cell_type": "markdown",
   "metadata": {},
   "source": [
    "### Parallel MPI"
   ]
  },
  {
   "cell_type": "code",
   "execution_count": 31,
   "metadata": {},
   "outputs": [],
   "source": [
    "path = \"../results/detailed/parallelMPI\"\n",
    "genFiles = sorted([i for i in os.listdir(path) if \"generation\" in i])\n",
    "pathFiles = sorted([i for i in os.listdir(path) if \"path\" in i])\n",
    "rearrFiles = sorted([i for i in os.listdir(path) if \"rearrange\" in i])\n",
    "sortFiles = sorted([i for i in os.listdir(path) if \"sort\" in i])\n",
    "transFiles = sorted([i for i in os.listdir(path) if \"transfer\" in i])"
   ]
  },
  {
   "cell_type": "code",
   "execution_count": 32,
   "metadata": {
    "scrolled": true
   },
   "outputs": [
    {
     "data": {
      "text/html": [
       "<div>\n",
       "<style scoped>\n",
       "    .dataframe tbody tr th:only-of-type {\n",
       "        vertical-align: middle;\n",
       "    }\n",
       "\n",
       "    .dataframe tbody tr th {\n",
       "        vertical-align: top;\n",
       "    }\n",
       "\n",
       "    .dataframe thead th {\n",
       "        text-align: right;\n",
       "    }\n",
       "</style>\n",
       "<table border=\"1\" class=\"dataframe\">\n",
       "  <thead>\n",
       "    <tr style=\"text-align: right;\">\n",
       "      <th></th>\n",
       "      <th>generation_0</th>\n",
       "      <th>generation_1</th>\n",
       "      <th>generation_2</th>\n",
       "      <th>generation_3</th>\n",
       "    </tr>\n",
       "  </thead>\n",
       "  <tbody>\n",
       "    <tr>\n",
       "      <th>10,10000,5000</th>\n",
       "      <td>0.007622 0.014199 0.007071 0.005227 0.006596 0...</td>\n",
       "      <td>0.004221 0.005438 0.008186 0.004201 0.009128 0...</td>\n",
       "      <td>0.007321 0.004837 0.007227 0.006044 0.006731 0...</td>\n",
       "      <td>0.007931 0.004793 0.008387 0.004838 0.004086 0...</td>\n",
       "    </tr>\n",
       "    <tr>\n",
       "      <th>50,10000,5000</th>\n",
       "      <td>0.022803 0.011006 0.011945 0.009912 0.010461 0...</td>\n",
       "      <td>0.010704 0.016285 0.017704 0.016217 0.020973 0...</td>\n",
       "      <td>0.025102 0.011564 0.027183 0.013466 0.017202 0...</td>\n",
       "      <td>0.015746 0.013961 0.010849 0.015181 0.011457 0...</td>\n",
       "    </tr>\n",
       "    <tr>\n",
       "      <th>100,10000,5000</th>\n",
       "      <td>0.038836 0.042630 0.025142 0.034094 0.023799 0...</td>\n",
       "      <td>0.035818 0.023898 0.021024 0.029903 0.021710 0...</td>\n",
       "      <td>0.020939 0.020942 0.038219 0.026725 0.029549 0...</td>\n",
       "      <td>0.028592 0.025467 0.027116 0.029427 0.021505 0...</td>\n",
       "    </tr>\n",
       "  </tbody>\n",
       "</table>\n",
       "</div>"
      ],
      "text/plain": [
       "                                                     generation_0  \\\n",
       "10,10000,5000   0.007622 0.014199 0.007071 0.005227 0.006596 0...   \n",
       "50,10000,5000   0.022803 0.011006 0.011945 0.009912 0.010461 0...   \n",
       "100,10000,5000  0.038836 0.042630 0.025142 0.034094 0.023799 0...   \n",
       "\n",
       "                                                     generation_1  \\\n",
       "10,10000,5000   0.004221 0.005438 0.008186 0.004201 0.009128 0...   \n",
       "50,10000,5000   0.010704 0.016285 0.017704 0.016217 0.020973 0...   \n",
       "100,10000,5000  0.035818 0.023898 0.021024 0.029903 0.021710 0...   \n",
       "\n",
       "                                                     generation_2  \\\n",
       "10,10000,5000   0.007321 0.004837 0.007227 0.006044 0.006731 0...   \n",
       "50,10000,5000   0.025102 0.011564 0.027183 0.013466 0.017202 0...   \n",
       "100,10000,5000  0.020939 0.020942 0.038219 0.026725 0.029549 0...   \n",
       "\n",
       "                                                     generation_3  \n",
       "10,10000,5000   0.007931 0.004793 0.008387 0.004838 0.004086 0...  \n",
       "50,10000,5000   0.015746 0.013961 0.010849 0.015181 0.011457 0...  \n",
       "100,10000,5000  0.028592 0.025467 0.027116 0.029427 0.021505 0...  "
      ]
     },
     "execution_count": 32,
     "metadata": {},
     "output_type": "execute_result"
    }
   ],
   "source": [
    "df_gen = pd.DataFrame()\n",
    "\n",
    "for file in genFiles:\n",
    "    with open(os.path.join(path,file)) as f:\n",
    "        col = file.split('.')[0]\n",
    "        for line in f:\n",
    "            vals = line.split(' ')\n",
    "            row = vals[0]+','+vals[1]+','+vals[2]\n",
    "            try:\n",
    "                df_gen.loc[row,col] += ' '+vals[3][:-1]\n",
    "            except KeyError:\n",
    "                df_gen.loc[row,col] = vals[3][:-1]\n",
    "            except TypeError:\n",
    "                df_gen.loc[row,col] = vals[3][:-1]\n",
    "df_gen"
   ]
  },
  {
   "cell_type": "code",
   "execution_count": 33,
   "metadata": {},
   "outputs": [
    {
     "data": {
      "text/plain": [
       "36"
      ]
     },
     "execution_count": 33,
     "metadata": {},
     "output_type": "execute_result"
    }
   ],
   "source": [
    "len(df_gen.iloc[0,0].split(' '))"
   ]
  },
  {
   "cell_type": "code",
   "execution_count": 34,
   "metadata": {},
   "outputs": [
    {
     "data": {
      "text/html": [
       "<div>\n",
       "<style scoped>\n",
       "    .dataframe tbody tr th:only-of-type {\n",
       "        vertical-align: middle;\n",
       "    }\n",
       "\n",
       "    .dataframe tbody tr th {\n",
       "        vertical-align: top;\n",
       "    }\n",
       "\n",
       "    .dataframe thead th {\n",
       "        text-align: right;\n",
       "    }\n",
       "</style>\n",
       "<table border=\"1\" class=\"dataframe\">\n",
       "  <thead>\n",
       "    <tr style=\"text-align: right;\">\n",
       "      <th></th>\n",
       "      <th>path_0</th>\n",
       "      <th>path_1</th>\n",
       "      <th>path_2</th>\n",
       "      <th>path_3</th>\n",
       "    </tr>\n",
       "  </thead>\n",
       "  <tbody>\n",
       "    <tr>\n",
       "      <th>10,10000,5000</th>\n",
       "      <td>0.000105 0.000094 0.000087 0.000087 0.000087 0...</td>\n",
       "      <td>0.000105 0.000094 0.000087 0.000087 0.000090 0...</td>\n",
       "      <td>0.000103 0.000095 0.000089 0.000087 0.000087 0...</td>\n",
       "      <td>0.000105 0.000087 0.000087 0.000087 0.000088 0...</td>\n",
       "    </tr>\n",
       "    <tr>\n",
       "      <th>50,10000,5000</th>\n",
       "      <td>0.000482 0.000484 0.000472 0.000469 0.000467 0...</td>\n",
       "      <td>0.000487 0.000467 0.000488 0.000469 0.002300 0...</td>\n",
       "      <td>0.000483 0.000476 0.000469 0.000471 0.000468 0...</td>\n",
       "      <td>0.000484 0.000479 0.000465 0.000467 0.000468 0...</td>\n",
       "    </tr>\n",
       "    <tr>\n",
       "      <th>100,10000,5000</th>\n",
       "      <td>0.000998 0.000939 0.000957 0.000929 0.000940 0...</td>\n",
       "      <td>0.000962 0.000949 0.000927 0.000908 0.000938 0...</td>\n",
       "      <td>0.000982 0.000926 0.000919 0.000939 0.000944 0...</td>\n",
       "      <td>0.000969 0.000931 0.000929 0.000917 0.000919 0...</td>\n",
       "    </tr>\n",
       "  </tbody>\n",
       "</table>\n",
       "</div>"
      ],
      "text/plain": [
       "                                                           path_0  \\\n",
       "10,10000,5000   0.000105 0.000094 0.000087 0.000087 0.000087 0...   \n",
       "50,10000,5000   0.000482 0.000484 0.000472 0.000469 0.000467 0...   \n",
       "100,10000,5000  0.000998 0.000939 0.000957 0.000929 0.000940 0...   \n",
       "\n",
       "                                                           path_1  \\\n",
       "10,10000,5000   0.000105 0.000094 0.000087 0.000087 0.000090 0...   \n",
       "50,10000,5000   0.000487 0.000467 0.000488 0.000469 0.002300 0...   \n",
       "100,10000,5000  0.000962 0.000949 0.000927 0.000908 0.000938 0...   \n",
       "\n",
       "                                                           path_2  \\\n",
       "10,10000,5000   0.000103 0.000095 0.000089 0.000087 0.000087 0...   \n",
       "50,10000,5000   0.000483 0.000476 0.000469 0.000471 0.000468 0...   \n",
       "100,10000,5000  0.000982 0.000926 0.000919 0.000939 0.000944 0...   \n",
       "\n",
       "                                                           path_3  \n",
       "10,10000,5000   0.000105 0.000087 0.000087 0.000087 0.000088 0...  \n",
       "50,10000,5000   0.000484 0.000479 0.000465 0.000467 0.000468 0...  \n",
       "100,10000,5000  0.000969 0.000931 0.000929 0.000917 0.000919 0...  "
      ]
     },
     "execution_count": 34,
     "metadata": {},
     "output_type": "execute_result"
    }
   ],
   "source": [
    "df_path = pd.DataFrame()\n",
    "\n",
    "for file in pathFiles:\n",
    "    with open(os.path.join(path,file)) as f:\n",
    "        col = file.split('.')[0]\n",
    "        for line in f:\n",
    "            vals = line.split(' ')\n",
    "            row = vals[0]+','+vals[1]+','+vals[2]\n",
    "            try:\n",
    "                df_path.loc[row,col] += ' '+vals[3][:-1]\n",
    "            except KeyError:\n",
    "                df_path.loc[row,col] = vals[3][:-1]\n",
    "            except TypeError:\n",
    "                df_path.loc[row,col] = vals[3][:-1]\n",
    "df_path"
   ]
  },
  {
   "cell_type": "code",
   "execution_count": 35,
   "metadata": {},
   "outputs": [
    {
     "data": {
      "text/plain": [
       "37"
      ]
     },
     "execution_count": 35,
     "metadata": {},
     "output_type": "execute_result"
    }
   ],
   "source": [
    "len(df_path.iloc[0,0].split(' '))"
   ]
  },
  {
   "cell_type": "code",
   "execution_count": 36,
   "metadata": {},
   "outputs": [
    {
     "data": {
      "text/html": [
       "<div>\n",
       "<style scoped>\n",
       "    .dataframe tbody tr th:only-of-type {\n",
       "        vertical-align: middle;\n",
       "    }\n",
       "\n",
       "    .dataframe tbody tr th {\n",
       "        vertical-align: top;\n",
       "    }\n",
       "\n",
       "    .dataframe thead th {\n",
       "        text-align: right;\n",
       "    }\n",
       "</style>\n",
       "<table border=\"1\" class=\"dataframe\">\n",
       "  <thead>\n",
       "    <tr style=\"text-align: right;\">\n",
       "      <th></th>\n",
       "      <th>rearrange_0</th>\n",
       "      <th>rearrange_1</th>\n",
       "      <th>rearrange_2</th>\n",
       "      <th>rearrange_3</th>\n",
       "    </tr>\n",
       "  </thead>\n",
       "  <tbody>\n",
       "    <tr>\n",
       "      <th>10,10000,5000</th>\n",
       "      <td>0.000067 0.000041 0.000041 0.000043 0.000040 0...</td>\n",
       "      <td>0.000066 0.000030 0.000042 0.000039 0.000040 0...</td>\n",
       "      <td>0.000075 0.000040 0.000044 0.000041 0.000037 0...</td>\n",
       "      <td>0.000068 0.000043 0.000038 0.000040 0.000040 0...</td>\n",
       "    </tr>\n",
       "    <tr>\n",
       "      <th>50,10000,5000</th>\n",
       "      <td>0.000283 0.000149 0.000153 0.000147 0.000147 0...</td>\n",
       "      <td>0.000311 0.000114 0.000165 0.000151 0.000153 0...</td>\n",
       "      <td>0.000293 0.000148 0.000149 0.000157 0.000149 0...</td>\n",
       "      <td>0.000294 0.000154 0.000161 0.000150 0.000145 0...</td>\n",
       "    </tr>\n",
       "    <tr>\n",
       "      <th>100,10000,5000</th>\n",
       "      <td>0.000683 0.000298 0.000240 0.000275 0.000292 0...</td>\n",
       "      <td>0.000524 0.000274 0.000226 0.000258 0.000287 0...</td>\n",
       "      <td>0.000690 0.000266 0.000311 0.000239 0.000250 0...</td>\n",
       "      <td>0.000677 0.000247 0.000222 0.000252 0.000263 0...</td>\n",
       "    </tr>\n",
       "  </tbody>\n",
       "</table>\n",
       "</div>"
      ],
      "text/plain": [
       "                                                      rearrange_0  \\\n",
       "10,10000,5000   0.000067 0.000041 0.000041 0.000043 0.000040 0...   \n",
       "50,10000,5000   0.000283 0.000149 0.000153 0.000147 0.000147 0...   \n",
       "100,10000,5000  0.000683 0.000298 0.000240 0.000275 0.000292 0...   \n",
       "\n",
       "                                                      rearrange_1  \\\n",
       "10,10000,5000   0.000066 0.000030 0.000042 0.000039 0.000040 0...   \n",
       "50,10000,5000   0.000311 0.000114 0.000165 0.000151 0.000153 0...   \n",
       "100,10000,5000  0.000524 0.000274 0.000226 0.000258 0.000287 0...   \n",
       "\n",
       "                                                      rearrange_2  \\\n",
       "10,10000,5000   0.000075 0.000040 0.000044 0.000041 0.000037 0...   \n",
       "50,10000,5000   0.000293 0.000148 0.000149 0.000157 0.000149 0...   \n",
       "100,10000,5000  0.000690 0.000266 0.000311 0.000239 0.000250 0...   \n",
       "\n",
       "                                                      rearrange_3  \n",
       "10,10000,5000   0.000068 0.000043 0.000038 0.000040 0.000040 0...  \n",
       "50,10000,5000   0.000294 0.000154 0.000161 0.000150 0.000145 0...  \n",
       "100,10000,5000  0.000677 0.000247 0.000222 0.000252 0.000263 0...  "
      ]
     },
     "execution_count": 36,
     "metadata": {},
     "output_type": "execute_result"
    }
   ],
   "source": [
    "df_rearr = pd.DataFrame()\n",
    "\n",
    "for file in rearrFiles:\n",
    "    with open(os.path.join(path,file)) as f:\n",
    "        col = file.split('.')[0]\n",
    "        for line in f:\n",
    "            vals = line.split(' ')\n",
    "            row = vals[0]+','+vals[1]+','+vals[2]\n",
    "            try:\n",
    "                df_rearr.loc[row,col] += ' '+vals[3][:-1]\n",
    "            except KeyError:\n",
    "                df_rearr.loc[row,col] = vals[3][:-1]\n",
    "            except TypeError:\n",
    "                df_rearr.loc[row,col] = vals[3][:-1]\n",
    "df_rearr"
   ]
  },
  {
   "cell_type": "code",
   "execution_count": 37,
   "metadata": {},
   "outputs": [
    {
     "data": {
      "text/plain": [
       "37"
      ]
     },
     "execution_count": 37,
     "metadata": {},
     "output_type": "execute_result"
    }
   ],
   "source": [
    "len(df_rearr.iloc[0,0].split(' '))"
   ]
  },
  {
   "cell_type": "code",
   "execution_count": 38,
   "metadata": {},
   "outputs": [
    {
     "data": {
      "text/html": [
       "<div>\n",
       "<style scoped>\n",
       "    .dataframe tbody tr th:only-of-type {\n",
       "        vertical-align: middle;\n",
       "    }\n",
       "\n",
       "    .dataframe tbody tr th {\n",
       "        vertical-align: top;\n",
       "    }\n",
       "\n",
       "    .dataframe thead th {\n",
       "        text-align: right;\n",
       "    }\n",
       "</style>\n",
       "<table border=\"1\" class=\"dataframe\">\n",
       "  <thead>\n",
       "    <tr style=\"text-align: right;\">\n",
       "      <th></th>\n",
       "      <th>sort_0</th>\n",
       "      <th>sort_1</th>\n",
       "      <th>sort_2</th>\n",
       "      <th>sort_3</th>\n",
       "    </tr>\n",
       "  </thead>\n",
       "  <tbody>\n",
       "    <tr>\n",
       "      <th>10,10000,5000</th>\n",
       "      <td>0.005569 0.005427 0.006341 0.003375 0.004877 0...</td>\n",
       "      <td>0.005559 0.004601 0.001675 0.004072 0.002741 0...</td>\n",
       "      <td>0.008518 0.003877 0.005573 0.007847 0.004226 0...</td>\n",
       "      <td>0.005310 0.005295 0.002634 0.002360 0.004101 0...</td>\n",
       "    </tr>\n",
       "    <tr>\n",
       "      <th>50,10000,5000</th>\n",
       "      <td>0.004073 0.001482 0.004546 0.004329 0.006106 0...</td>\n",
       "      <td>0.006681 0.000964 0.013066 0.006701 0.012650 0...</td>\n",
       "      <td>0.005618 0.004022 0.000972 0.013860 0.004996 0...</td>\n",
       "      <td>0.005655 0.007214 0.008690 0.007533 0.002700 0...</td>\n",
       "    </tr>\n",
       "    <tr>\n",
       "      <th>100,10000,5000</th>\n",
       "      <td>0.005615 0.010905 0.000673 0.005974 0.016454 0...</td>\n",
       "      <td>0.004049 0.008513 0.002779 0.002726 0.006527 0...</td>\n",
       "      <td>0.005605 0.010592 0.018812 0.001481 0.007730 0...</td>\n",
       "      <td>0.005668 0.002948 0.000238 0.006090 0.005103 0...</td>\n",
       "    </tr>\n",
       "  </tbody>\n",
       "</table>\n",
       "</div>"
      ],
      "text/plain": [
       "                                                           sort_0  \\\n",
       "10,10000,5000   0.005569 0.005427 0.006341 0.003375 0.004877 0...   \n",
       "50,10000,5000   0.004073 0.001482 0.004546 0.004329 0.006106 0...   \n",
       "100,10000,5000  0.005615 0.010905 0.000673 0.005974 0.016454 0...   \n",
       "\n",
       "                                                           sort_1  \\\n",
       "10,10000,5000   0.005559 0.004601 0.001675 0.004072 0.002741 0...   \n",
       "50,10000,5000   0.006681 0.000964 0.013066 0.006701 0.012650 0...   \n",
       "100,10000,5000  0.004049 0.008513 0.002779 0.002726 0.006527 0...   \n",
       "\n",
       "                                                           sort_2  \\\n",
       "10,10000,5000   0.008518 0.003877 0.005573 0.007847 0.004226 0...   \n",
       "50,10000,5000   0.005618 0.004022 0.000972 0.013860 0.004996 0...   \n",
       "100,10000,5000  0.005605 0.010592 0.018812 0.001481 0.007730 0...   \n",
       "\n",
       "                                                           sort_3  \n",
       "10,10000,5000   0.005310 0.005295 0.002634 0.002360 0.004101 0...  \n",
       "50,10000,5000   0.005655 0.007214 0.008690 0.007533 0.002700 0...  \n",
       "100,10000,5000  0.005668 0.002948 0.000238 0.006090 0.005103 0...  "
      ]
     },
     "execution_count": 38,
     "metadata": {},
     "output_type": "execute_result"
    }
   ],
   "source": [
    "df_sort = pd.DataFrame()\n",
    "\n",
    "for file in sortFiles:\n",
    "    with open(os.path.join(path,file)) as f:\n",
    "        col = file.split('.')[0]\n",
    "        for line in f:\n",
    "            vals = line.split(' ')\n",
    "            row = vals[0]+','+vals[1]+','+vals[2]\n",
    "            try:\n",
    "                df_sort.loc[row,col] += ' '+vals[3][:-1]\n",
    "            except KeyError:\n",
    "                df_sort.loc[row,col] = vals[3][:-1]\n",
    "            except TypeError:\n",
    "                df_sort.loc[row,col] = vals[3][:-1]\n",
    "df_sort"
   ]
  },
  {
   "cell_type": "code",
   "execution_count": 39,
   "metadata": {},
   "outputs": [
    {
     "data": {
      "text/plain": [
       "37"
      ]
     },
     "execution_count": 39,
     "metadata": {},
     "output_type": "execute_result"
    }
   ],
   "source": [
    "len(df_sort.iloc[0,0].split(' '))"
   ]
  },
  {
   "cell_type": "code",
   "execution_count": 40,
   "metadata": {},
   "outputs": [
    {
     "data": {
      "text/html": [
       "<div>\n",
       "<style scoped>\n",
       "    .dataframe tbody tr th:only-of-type {\n",
       "        vertical-align: middle;\n",
       "    }\n",
       "\n",
       "    .dataframe tbody tr th {\n",
       "        vertical-align: top;\n",
       "    }\n",
       "\n",
       "    .dataframe thead th {\n",
       "        text-align: right;\n",
       "    }\n",
       "</style>\n",
       "<table border=\"1\" class=\"dataframe\">\n",
       "  <thead>\n",
       "    <tr style=\"text-align: right;\">\n",
       "      <th></th>\n",
       "      <th>transfer_0</th>\n",
       "      <th>transfer_1</th>\n",
       "      <th>transfer_2</th>\n",
       "      <th>transfer_3</th>\n",
       "    </tr>\n",
       "  </thead>\n",
       "  <tbody>\n",
       "    <tr>\n",
       "      <th>10,10000,5000</th>\n",
       "      <td>0.000026 0.000005 0.000005 0.000004 0.004443 0...</td>\n",
       "      <td>0.019740 0.042889 0.019139 0.008445 0.008584 0...</td>\n",
       "      <td>0.016775 0.016431 0.017086 0.008574 0.009802 0...</td>\n",
       "      <td>0.011551 0.022363 0.012969 0.007241 0.000006 0...</td>\n",
       "    </tr>\n",
       "    <tr>\n",
       "      <th>50,10000,5000</th>\n",
       "      <td>0.032067 0.000008 0.001217 0.066754 0.126839 0...</td>\n",
       "      <td>0.010881 0.023044 0.025710 0.000010 0.104031 0...</td>\n",
       "      <td>0.000040 0.001190 0.028077 0.089571 0.000010 0...</td>\n",
       "      <td>0.041991 0.007794 0.000012 0.044162 0.012347 0...</td>\n",
       "    </tr>\n",
       "    <tr>\n",
       "      <th>100,10000,5000</th>\n",
       "      <td>0.000039 0.030732 0.006970 0.044739 0.063598 0...</td>\n",
       "      <td>0.038443 0.005930 0.007183 0.000011 0.000012 0...</td>\n",
       "      <td>0.009423 0.000012 0.000013 0.015026 0.020254 0...</td>\n",
       "      <td>0.051215 0.021194 0.002054 0.032787 0.007566 0...</td>\n",
       "    </tr>\n",
       "  </tbody>\n",
       "</table>\n",
       "</div>"
      ],
      "text/plain": [
       "                                                       transfer_0  \\\n",
       "10,10000,5000   0.000026 0.000005 0.000005 0.000004 0.004443 0...   \n",
       "50,10000,5000   0.032067 0.000008 0.001217 0.066754 0.126839 0...   \n",
       "100,10000,5000  0.000039 0.030732 0.006970 0.044739 0.063598 0...   \n",
       "\n",
       "                                                       transfer_1  \\\n",
       "10,10000,5000   0.019740 0.042889 0.019139 0.008445 0.008584 0...   \n",
       "50,10000,5000   0.010881 0.023044 0.025710 0.000010 0.104031 0...   \n",
       "100,10000,5000  0.038443 0.005930 0.007183 0.000011 0.000012 0...   \n",
       "\n",
       "                                                       transfer_2  \\\n",
       "10,10000,5000   0.016775 0.016431 0.017086 0.008574 0.009802 0...   \n",
       "50,10000,5000   0.000040 0.001190 0.028077 0.089571 0.000010 0...   \n",
       "100,10000,5000  0.009423 0.000012 0.000013 0.015026 0.020254 0...   \n",
       "\n",
       "                                                       transfer_3  \n",
       "10,10000,5000   0.011551 0.022363 0.012969 0.007241 0.000006 0...  \n",
       "50,10000,5000   0.041991 0.007794 0.000012 0.044162 0.012347 0...  \n",
       "100,10000,5000  0.051215 0.021194 0.002054 0.032787 0.007566 0...  "
      ]
     },
     "execution_count": 40,
     "metadata": {},
     "output_type": "execute_result"
    }
   ],
   "source": [
    "df_trans = pd.DataFrame()\n",
    "\n",
    "for file in transFiles:\n",
    "    with open(os.path.join(path,file)) as f:\n",
    "        col = file.split('.')[0]\n",
    "        for line in f:\n",
    "            vals = line.split(' ')\n",
    "            row = vals[0]+','+vals[1]+','+vals[2]\n",
    "            try:\n",
    "                df_trans.loc[row,col] += ' '+vals[3][:-1]\n",
    "            except KeyError:\n",
    "                df_trans.loc[row,col] = vals[3][:-1]\n",
    "            except TypeError:\n",
    "                df_trans.loc[row,col] = vals[3][:-1]\n",
    "df_trans"
   ]
  },
  {
   "cell_type": "code",
   "execution_count": 41,
   "metadata": {},
   "outputs": [
    {
     "data": {
      "text/plain": [
       "9"
      ]
     },
     "execution_count": 41,
     "metadata": {},
     "output_type": "execute_result"
    }
   ],
   "source": [
    "len(df_trans.iloc[0,0].split(' '))"
   ]
  }
 ],
 "metadata": {
  "kernelspec": {
   "display_name": "Python 3",
   "language": "python",
   "name": "python3"
  },
  "language_info": {
   "codemirror_mode": {
    "name": "ipython",
    "version": 3
   },
   "file_extension": ".py",
   "mimetype": "text/x-python",
   "name": "python",
   "nbconvert_exporter": "python",
   "pygments_lexer": "ipython3",
   "version": "3.7.1"
  }
 },
 "nbformat": 4,
 "nbformat_minor": 2
}
