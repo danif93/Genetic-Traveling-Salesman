{
 "cells": [
  {
   "cell_type": "code",
   "execution_count": 1,
   "metadata": {},
   "outputs": [],
   "source": [
    "import numpy as np\n",
    "import pandas as pd\n",
    "import matplotlib.pyplot as plt\n",
    "import os\n",
    "\n",
    "%matplotlib inline"
   ]
  },
  {
   "cell_type": "markdown",
   "metadata": {},
   "source": [
    "# Increasing numNodes"
   ]
  },
  {
   "cell_type": "markdown",
   "metadata": {},
   "source": [
    "## Total Cost"
   ]
  },
  {
   "cell_type": "code",
   "execution_count": 9,
   "metadata": {},
   "outputs": [],
   "source": [
    "def fill_dataFrame_total(path, files):\n",
    "    df_time = pd.DataFrame()\n",
    "    df_prec = pd.DataFrame()\n",
    "    df_conv = pd.DataFrame()\n",
    "    for file in files:\n",
    "        with open(os.path.join(path,file)) as f:\n",
    "            col = \"try_\"+file.split('.')[0]\n",
    "            for line in f:\n",
    "                vals = line.split(' ')\n",
    "                row = vals[0]+','+vals[1]+','+vals[2]\n",
    "                df_time.loc[row,col] = float(vals[3])\n",
    "                df_prec.loc[row,col] = int(vals[4])\n",
    "                df_conv.loc[row,col] = int(vals[5])==1\n",
    "    return df_time,df_prec,df_conv"
   ]
  },
  {
   "cell_type": "markdown",
   "metadata": {},
   "source": [
    "### Sequential"
   ]
  },
  {
   "cell_type": "code",
   "execution_count": 10,
   "metadata": {},
   "outputs": [],
   "source": [
    "path = \"../results/total/sequential\"\n",
    "files = sorted(os.listdir(path))"
   ]
  },
  {
   "cell_type": "code",
   "execution_count": 11,
   "metadata": {},
   "outputs": [],
   "source": [
    "df_seq_time,df_seq_prec,df_seq_conv = fill_dataFrame_total(path,files)"
   ]
  },
  {
   "cell_type": "code",
   "execution_count": 12,
   "metadata": {},
   "outputs": [
    {
     "data": {
      "text/html": [
       "<div>\n",
       "<style scoped>\n",
       "    .dataframe tbody tr th:only-of-type {\n",
       "        vertical-align: middle;\n",
       "    }\n",
       "\n",
       "    .dataframe tbody tr th {\n",
       "        vertical-align: top;\n",
       "    }\n",
       "\n",
       "    .dataframe thead th {\n",
       "        text-align: right;\n",
       "    }\n",
       "</style>\n",
       "<table border=\"1\" class=\"dataframe\">\n",
       "  <thead>\n",
       "    <tr style=\"text-align: right;\">\n",
       "      <th></th>\n",
       "      <th>try_0</th>\n",
       "      <th>try_1</th>\n",
       "      <th>try_2</th>\n",
       "    </tr>\n",
       "  </thead>\n",
       "  <tbody>\n",
       "    <tr>\n",
       "      <th>10,10000,5000</th>\n",
       "      <td>0.053687</td>\n",
       "      <td>0.054051</td>\n",
       "      <td>0.054596</td>\n",
       "    </tr>\n",
       "    <tr>\n",
       "      <th>50,10000,5000</th>\n",
       "      <td>0.547339</td>\n",
       "      <td>0.447483</td>\n",
       "      <td>0.525872</td>\n",
       "    </tr>\n",
       "    <tr>\n",
       "      <th>100,10000,5000</th>\n",
       "      <td>1.963346</td>\n",
       "      <td>2.087576</td>\n",
       "      <td>2.235936</td>\n",
       "    </tr>\n",
       "  </tbody>\n",
       "</table>\n",
       "</div>"
      ],
      "text/plain": [
       "                   try_0     try_1     try_2\n",
       "10,10000,5000   0.053687  0.054051  0.054596\n",
       "50,10000,5000   0.547339  0.447483  0.525872\n",
       "100,10000,5000  1.963346  2.087576  2.235936"
      ]
     },
     "execution_count": 12,
     "metadata": {},
     "output_type": "execute_result"
    }
   ],
   "source": [
    "df_seq_time"
   ]
  },
  {
   "cell_type": "code",
   "execution_count": 13,
   "metadata": {},
   "outputs": [
    {
     "data": {
      "text/html": [
       "<div>\n",
       "<style scoped>\n",
       "    .dataframe tbody tr th:only-of-type {\n",
       "        vertical-align: middle;\n",
       "    }\n",
       "\n",
       "    .dataframe tbody tr th {\n",
       "        vertical-align: top;\n",
       "    }\n",
       "\n",
       "    .dataframe thead th {\n",
       "        text-align: right;\n",
       "    }\n",
       "</style>\n",
       "<table border=\"1\" class=\"dataframe\">\n",
       "  <thead>\n",
       "    <tr style=\"text-align: right;\">\n",
       "      <th></th>\n",
       "      <th>try_0</th>\n",
       "      <th>try_1</th>\n",
       "      <th>try_2</th>\n",
       "    </tr>\n",
       "  </thead>\n",
       "  <tbody>\n",
       "    <tr>\n",
       "      <th>10,10000,5000</th>\n",
       "      <td>112.0</td>\n",
       "      <td>112.0</td>\n",
       "      <td>112.0</td>\n",
       "    </tr>\n",
       "    <tr>\n",
       "      <th>50,10000,5000</th>\n",
       "      <td>1034.0</td>\n",
       "      <td>1192.0</td>\n",
       "      <td>1031.0</td>\n",
       "    </tr>\n",
       "    <tr>\n",
       "      <th>100,10000,5000</th>\n",
       "      <td>2416.0</td>\n",
       "      <td>2293.0</td>\n",
       "      <td>2161.0</td>\n",
       "    </tr>\n",
       "  </tbody>\n",
       "</table>\n",
       "</div>"
      ],
      "text/plain": [
       "                 try_0   try_1   try_2\n",
       "10,10000,5000    112.0   112.0   112.0\n",
       "50,10000,5000   1034.0  1192.0  1031.0\n",
       "100,10000,5000  2416.0  2293.0  2161.0"
      ]
     },
     "execution_count": 13,
     "metadata": {},
     "output_type": "execute_result"
    }
   ],
   "source": [
    "df_seq_prec"
   ]
  },
  {
   "cell_type": "code",
   "execution_count": 14,
   "metadata": {},
   "outputs": [
    {
     "data": {
      "text/html": [
       "<div>\n",
       "<style scoped>\n",
       "    .dataframe tbody tr th:only-of-type {\n",
       "        vertical-align: middle;\n",
       "    }\n",
       "\n",
       "    .dataframe tbody tr th {\n",
       "        vertical-align: top;\n",
       "    }\n",
       "\n",
       "    .dataframe thead th {\n",
       "        text-align: right;\n",
       "    }\n",
       "</style>\n",
       "<table border=\"1\" class=\"dataframe\">\n",
       "  <thead>\n",
       "    <tr style=\"text-align: right;\">\n",
       "      <th></th>\n",
       "      <th>try_0</th>\n",
       "      <th>try_1</th>\n",
       "      <th>try_2</th>\n",
       "    </tr>\n",
       "  </thead>\n",
       "  <tbody>\n",
       "    <tr>\n",
       "      <th>10,10000,5000</th>\n",
       "      <td>True</td>\n",
       "      <td>True</td>\n",
       "      <td>True</td>\n",
       "    </tr>\n",
       "    <tr>\n",
       "      <th>50,10000,5000</th>\n",
       "      <td>True</td>\n",
       "      <td>True</td>\n",
       "      <td>True</td>\n",
       "    </tr>\n",
       "    <tr>\n",
       "      <th>100,10000,5000</th>\n",
       "      <td>True</td>\n",
       "      <td>True</td>\n",
       "      <td>True</td>\n",
       "    </tr>\n",
       "  </tbody>\n",
       "</table>\n",
       "</div>"
      ],
      "text/plain": [
       "                try_0  try_1  try_2\n",
       "10,10000,5000    True   True   True\n",
       "50,10000,5000    True   True   True\n",
       "100,10000,5000   True   True   True"
      ]
     },
     "execution_count": 14,
     "metadata": {},
     "output_type": "execute_result"
    }
   ],
   "source": [
    "df_seq_conv"
   ]
  },
  {
   "cell_type": "code",
   "execution_count": 15,
   "metadata": {},
   "outputs": [
    {
     "data": {
      "image/png": "[encoded data removed]",
      "text/plain": [
       "<Figure size 432x288 with 1 Axes>"
      ]
     },
     "metadata": {},
     "output_type": "display_data"
    }
   ],
   "source": [
    "plt.plot(df_seq_prec);\n",
    "plt.legend(df_seq_prec.columns);"
   ]
  },
  {
   "cell_type": "markdown",
   "metadata": {},
   "source": [
    "### Parallel"
   ]
  },
  {
   "cell_type": "code",
   "execution_count": 16,
   "metadata": {},
   "outputs": [],
   "source": [
    "path = \"../results/total/parallel\"\n",
    "files = sorted(os.listdir(path))"
   ]
  },
  {
   "cell_type": "code",
   "execution_count": 17,
   "metadata": {},
   "outputs": [],
   "source": [
    "df_par_time,df_par_prec,df_par_conv = fill_dataFrame_total(path,files)"
   ]
  },
  {
   "cell_type": "code",
   "execution_count": 18,
   "metadata": {},
   "outputs": [
    {
     "data": {
      "text/html": [
       "<div>\n",
       "<style scoped>\n",
       "    .dataframe tbody tr th:only-of-type {\n",
       "        vertical-align: middle;\n",
       "    }\n",
       "\n",
       "    .dataframe tbody tr th {\n",
       "        vertical-align: top;\n",
       "    }\n",
       "\n",
       "    .dataframe thead th {\n",
       "        text-align: right;\n",
       "    }\n",
       "</style>\n",
       "<table border=\"1\" class=\"dataframe\">\n",
       "  <thead>\n",
       "    <tr style=\"text-align: right;\">\n",
       "      <th></th>\n",
       "      <th>try_0</th>\n",
       "      <th>try_1</th>\n",
       "      <th>try_2</th>\n",
       "    </tr>\n",
       "  </thead>\n",
       "  <tbody>\n",
       "    <tr>\n",
       "      <th>10,10000,5000</th>\n",
       "      <td>0.177972</td>\n",
       "      <td>0.164420</td>\n",
       "      <td>0.188860</td>\n",
       "    </tr>\n",
       "    <tr>\n",
       "      <th>50,10000,5000</th>\n",
       "      <td>0.525436</td>\n",
       "      <td>0.533552</td>\n",
       "      <td>0.481810</td>\n",
       "    </tr>\n",
       "    <tr>\n",
       "      <th>100,10000,5000</th>\n",
       "      <td>1.679427</td>\n",
       "      <td>1.861223</td>\n",
       "      <td>1.880414</td>\n",
       "    </tr>\n",
       "  </tbody>\n",
       "</table>\n",
       "</div>"
      ],
      "text/plain": [
       "                   try_0     try_1     try_2\n",
       "10,10000,5000   0.177972  0.164420  0.188860\n",
       "50,10000,5000   0.525436  0.533552  0.481810\n",
       "100,10000,5000  1.679427  1.861223  1.880414"
      ]
     },
     "execution_count": 18,
     "metadata": {},
     "output_type": "execute_result"
    }
   ],
   "source": [
    "df_par_time"
   ]
  },
  {
   "cell_type": "code",
   "execution_count": 19,
   "metadata": {},
   "outputs": [
    {
     "data": {
      "text/html": [
       "<div>\n",
       "<style scoped>\n",
       "    .dataframe tbody tr th:only-of-type {\n",
       "        vertical-align: middle;\n",
       "    }\n",
       "\n",
       "    .dataframe tbody tr th {\n",
       "        vertical-align: top;\n",
       "    }\n",
       "\n",
       "    .dataframe thead th {\n",
       "        text-align: right;\n",
       "    }\n",
       "</style>\n",
       "<table border=\"1\" class=\"dataframe\">\n",
       "  <thead>\n",
       "    <tr style=\"text-align: right;\">\n",
       "      <th></th>\n",
       "      <th>try_0</th>\n",
       "      <th>try_1</th>\n",
       "      <th>try_2</th>\n",
       "    </tr>\n",
       "  </thead>\n",
       "  <tbody>\n",
       "    <tr>\n",
       "      <th>10,10000,5000</th>\n",
       "      <td>112.0</td>\n",
       "      <td>112.0</td>\n",
       "      <td>112.0</td>\n",
       "    </tr>\n",
       "    <tr>\n",
       "      <th>50,10000,5000</th>\n",
       "      <td>1219.0</td>\n",
       "      <td>1129.0</td>\n",
       "      <td>1168.0</td>\n",
       "    </tr>\n",
       "    <tr>\n",
       "      <th>100,10000,5000</th>\n",
       "      <td>2380.0</td>\n",
       "      <td>2210.0</td>\n",
       "      <td>2495.0</td>\n",
       "    </tr>\n",
       "  </tbody>\n",
       "</table>\n",
       "</div>"
      ],
      "text/plain": [
       "                 try_0   try_1   try_2\n",
       "10,10000,5000    112.0   112.0   112.0\n",
       "50,10000,5000   1219.0  1129.0  1168.0\n",
       "100,10000,5000  2380.0  2210.0  2495.0"
      ]
     },
     "execution_count": 19,
     "metadata": {},
     "output_type": "execute_result"
    }
   ],
   "source": [
    "df_par_prec"
   ]
  },
  {
   "cell_type": "code",
   "execution_count": 20,
   "metadata": {},
   "outputs": [
    {
     "data": {
      "text/html": [
       "<div>\n",
       "<style scoped>\n",
       "    .dataframe tbody tr th:only-of-type {\n",
       "        vertical-align: middle;\n",
       "    }\n",
       "\n",
       "    .dataframe tbody tr th {\n",
       "        vertical-align: top;\n",
       "    }\n",
       "\n",
       "    .dataframe thead th {\n",
       "        text-align: right;\n",
       "    }\n",
       "</style>\n",
       "<table border=\"1\" class=\"dataframe\">\n",
       "  <thead>\n",
       "    <tr style=\"text-align: right;\">\n",
       "      <th></th>\n",
       "      <th>try_0</th>\n",
       "      <th>try_1</th>\n",
       "      <th>try_2</th>\n",
       "    </tr>\n",
       "  </thead>\n",
       "  <tbody>\n",
       "    <tr>\n",
       "      <th>10,10000,5000</th>\n",
       "      <td>True</td>\n",
       "      <td>True</td>\n",
       "      <td>True</td>\n",
       "    </tr>\n",
       "    <tr>\n",
       "      <th>50,10000,5000</th>\n",
       "      <td>True</td>\n",
       "      <td>True</td>\n",
       "      <td>True</td>\n",
       "    </tr>\n",
       "    <tr>\n",
       "      <th>100,10000,5000</th>\n",
       "      <td>True</td>\n",
       "      <td>True</td>\n",
       "      <td>True</td>\n",
       "    </tr>\n",
       "  </tbody>\n",
       "</table>\n",
       "</div>"
      ],
      "text/plain": [
       "                try_0  try_1  try_2\n",
       "10,10000,5000    True   True   True\n",
       "50,10000,5000    True   True   True\n",
       "100,10000,5000   True   True   True"
      ]
     },
     "execution_count": 20,
     "metadata": {},
     "output_type": "execute_result"
    }
   ],
   "source": [
    "df_par_conv"
   ]
  },
  {
   "cell_type": "code",
   "execution_count": 21,
   "metadata": {},
   "outputs": [
    {
     "data": {
      "image/png": "[encoded data removed]",
      "text/plain": [
       "<Figure size 432x288 with 1 Axes>"
      ]
     },
     "metadata": {},
     "output_type": "display_data"
    }
   ],
   "source": [
    "plt.plot(df_par_prec);\n",
    "plt.legend(df_par_prec.columns);"
   ]
  },
  {
   "cell_type": "markdown",
   "metadata": {},
   "source": [
    "### Parallel MPI"
   ]
  },
  {
   "cell_type": "code",
   "execution_count": 22,
   "metadata": {},
   "outputs": [],
   "source": [
    "path = \"../results/total/parallelMPI\"\n",
    "files = sorted(os.listdir(path))"
   ]
  },
  {
   "cell_type": "code",
   "execution_count": 23,
   "metadata": {},
   "outputs": [],
   "source": [
    "df_mpi_time,df_mpi_prec,df_mpi_conv = fill_dataFrame_total(path,files)"
   ]
  },
  {
   "cell_type": "code",
   "execution_count": 24,
   "metadata": {},
   "outputs": [
    {
     "data": {
      "text/html": [
       "<div>\n",
       "<style scoped>\n",
       "    .dataframe tbody tr th:only-of-type {\n",
       "        vertical-align: middle;\n",
       "    }\n",
       "\n",
       "    .dataframe tbody tr th {\n",
       "        vertical-align: top;\n",
       "    }\n",
       "\n",
       "    .dataframe thead th {\n",
       "        text-align: right;\n",
       "    }\n",
       "</style>\n",
       "<table border=\"1\" class=\"dataframe\">\n",
       "  <thead>\n",
       "    <tr style=\"text-align: right;\">\n",
       "      <th></th>\n",
       "      <th>try_0</th>\n",
       "      <th>try_1</th>\n",
       "      <th>try_2</th>\n",
       "      <th>try_3</th>\n",
       "    </tr>\n",
       "  </thead>\n",
       "  <tbody>\n",
       "    <tr>\n",
       "      <th>10,10000,5000</th>\n",
       "      <td>0.558621</td>\n",
       "      <td>0.546203</td>\n",
       "      <td>0.562681</td>\n",
       "      <td>0.549825</td>\n",
       "    </tr>\n",
       "    <tr>\n",
       "      <th>50,10000,5000</th>\n",
       "      <td>1.573003</td>\n",
       "      <td>1.582228</td>\n",
       "      <td>1.561829</td>\n",
       "      <td>1.578248</td>\n",
       "    </tr>\n",
       "    <tr>\n",
       "      <th>100,10000,5000</th>\n",
       "      <td>3.137370</td>\n",
       "      <td>3.140054</td>\n",
       "      <td>3.127392</td>\n",
       "      <td>3.120288</td>\n",
       "    </tr>\n",
       "  </tbody>\n",
       "</table>\n",
       "</div>"
      ],
      "text/plain": [
       "                   try_0     try_1     try_2     try_3\n",
       "10,10000,5000   0.558621  0.546203  0.562681  0.549825\n",
       "50,10000,5000   1.573003  1.582228  1.561829  1.578248\n",
       "100,10000,5000  3.137370  3.140054  3.127392  3.120288"
      ]
     },
     "execution_count": 24,
     "metadata": {},
     "output_type": "execute_result"
    }
   ],
   "source": [
    "df_mpi_time"
   ]
  },
  {
   "cell_type": "code",
   "execution_count": 25,
   "metadata": {},
   "outputs": [
    {
     "data": {
      "text/html": [
       "<div>\n",
       "<style scoped>\n",
       "    .dataframe tbody tr th:only-of-type {\n",
       "        vertical-align: middle;\n",
       "    }\n",
       "\n",
       "    .dataframe tbody tr th {\n",
       "        vertical-align: top;\n",
       "    }\n",
       "\n",
       "    .dataframe thead th {\n",
       "        text-align: right;\n",
       "    }\n",
       "</style>\n",
       "<table border=\"1\" class=\"dataframe\">\n",
       "  <thead>\n",
       "    <tr style=\"text-align: right;\">\n",
       "      <th></th>\n",
       "      <th>try_0</th>\n",
       "      <th>try_1</th>\n",
       "      <th>try_2</th>\n",
       "      <th>try_3</th>\n",
       "    </tr>\n",
       "  </thead>\n",
       "  <tbody>\n",
       "    <tr>\n",
       "      <th>10,10000,5000</th>\n",
       "      <td>181.0</td>\n",
       "      <td>181.0</td>\n",
       "      <td>181.0</td>\n",
       "      <td>181.0</td>\n",
       "    </tr>\n",
       "    <tr>\n",
       "      <th>50,10000,5000</th>\n",
       "      <td>973.0</td>\n",
       "      <td>877.0</td>\n",
       "      <td>927.0</td>\n",
       "      <td>927.0</td>\n",
       "    </tr>\n",
       "    <tr>\n",
       "      <th>100,10000,5000</th>\n",
       "      <td>2423.0</td>\n",
       "      <td>2250.0</td>\n",
       "      <td>2248.0</td>\n",
       "      <td>2423.0</td>\n",
       "    </tr>\n",
       "  </tbody>\n",
       "</table>\n",
       "</div>"
      ],
      "text/plain": [
       "                 try_0   try_1   try_2   try_3\n",
       "10,10000,5000    181.0   181.0   181.0   181.0\n",
       "50,10000,5000    973.0   877.0   927.0   927.0\n",
       "100,10000,5000  2423.0  2250.0  2248.0  2423.0"
      ]
     },
     "execution_count": 25,
     "metadata": {},
     "output_type": "execute_result"
    }
   ],
   "source": [
    "df_mpi_prec"
   ]
  },
  {
   "cell_type": "code",
   "execution_count": 26,
   "metadata": {},
   "outputs": [
    {
     "data": {
      "text/html": [
       "<div>\n",
       "<style scoped>\n",
       "    .dataframe tbody tr th:only-of-type {\n",
       "        vertical-align: middle;\n",
       "    }\n",
       "\n",
       "    .dataframe tbody tr th {\n",
       "        vertical-align: top;\n",
       "    }\n",
       "\n",
       "    .dataframe thead th {\n",
       "        text-align: right;\n",
       "    }\n",
       "</style>\n",
       "<table border=\"1\" class=\"dataframe\">\n",
       "  <thead>\n",
       "    <tr style=\"text-align: right;\">\n",
       "      <th></th>\n",
       "      <th>try_0</th>\n",
       "      <th>try_1</th>\n",
       "      <th>try_2</th>\n",
       "      <th>try_3</th>\n",
       "    </tr>\n",
       "  </thead>\n",
       "  <tbody>\n",
       "    <tr>\n",
       "      <th>10,10000,5000</th>\n",
       "      <td>True</td>\n",
       "      <td>True</td>\n",
       "      <td>True</td>\n",
       "      <td>True</td>\n",
       "    </tr>\n",
       "    <tr>\n",
       "      <th>50,10000,5000</th>\n",
       "      <td>True</td>\n",
       "      <td>True</td>\n",
       "      <td>True</td>\n",
       "      <td>True</td>\n",
       "    </tr>\n",
       "    <tr>\n",
       "      <th>100,10000,5000</th>\n",
       "      <td>True</td>\n",
       "      <td>True</td>\n",
       "      <td>True</td>\n",
       "      <td>True</td>\n",
       "    </tr>\n",
       "  </tbody>\n",
       "</table>\n",
       "</div>"
      ],
      "text/plain": [
       "                try_0  try_1  try_2  try_3\n",
       "10,10000,5000    True   True   True   True\n",
       "50,10000,5000    True   True   True   True\n",
       "100,10000,5000   True   True   True   True"
      ]
     },
     "execution_count": 26,
     "metadata": {},
     "output_type": "execute_result"
    }
   ],
   "source": [
    "df_mpi_conv"
   ]
  },
  {
   "cell_type": "code",
   "execution_count": 27,
   "metadata": {},
   "outputs": [
    {
     "data": {
      "image/png": "[encoded data removed]",
      "text/plain": [
       "<Figure size 432x288 with 1 Axes>"
      ]
     },
     "metadata": {},
     "output_type": "display_data"
    }
   ],
   "source": [
    "plt.plot(df_mpi_prec);\n",
    "plt.legend(df_mpi_prec.columns);"
   ]
  },
  {
   "cell_type": "markdown",
   "metadata": {},
   "source": [
    "## Detailed Cost"
   ]
  },
  {
   "cell_type": "code",
   "execution_count": 28,
   "metadata": {},
   "outputs": [],
   "source": [
    "def fill_dataFrame_detailed(path, files):\n",
    "    df = pd.DataFrame()\n",
    "    for file in files:\n",
    "        with open(os.path.join(path,file)) as f:\n",
    "            col = file.split('.')[0]\n",
    "            for line in f:\n",
    "                vals = line.split(' ')\n",
    "                row = vals[0]+','+vals[1]+','+vals[2]\n",
    "                try:\n",
    "                    df.loc[row,col] += ' '+vals[3][:-1]\n",
    "                except KeyError:\n",
    "                    df.loc[row,col] = vals[3][:-1]\n",
    "                except TypeError:\n",
    "                    df.loc[row,col] = vals[3][:-1]\n",
    "    return df"
   ]
  },
  {
   "cell_type": "markdown",
   "metadata": {},
   "source": [
    "### Sequential"
   ]
  },
  {
   "cell_type": "code",
   "execution_count": 35,
   "metadata": {},
   "outputs": [],
   "source": [
    "path = \"../results/detailed/sequential\"\n",
    "genFiles = sorted([i for i in os.listdir(path) if \"generation\" in i])\n",
    "pathFiles = sorted([i for i in os.listdir(path) if \"path\" in i])\n",
    "rearrFiles = sorted([i for i in os.listdir(path) if \"rearrange\" in i])\n",
    "sortFiles = sorted([i for i in os.listdir(path) if \"sort\" in i])"
   ]
  },
  {
   "cell_type": "code",
   "execution_count": 36,
   "metadata": {
    "scrolled": true
   },
   "outputs": [
    {
     "data": {
      "text/html": [
       "<div>\n",
       "<style scoped>\n",
       "    .dataframe tbody tr th:only-of-type {\n",
       "        vertical-align: middle;\n",
       "    }\n",
       "\n",
       "    .dataframe tbody tr th {\n",
       "        vertical-align: top;\n",
       "    }\n",
       "\n",
       "    .dataframe thead th {\n",
       "        text-align: right;\n",
       "    }\n",
       "</style>\n",
       "<table border=\"1\" class=\"dataframe\">\n",
       "  <thead>\n",
       "    <tr style=\"text-align: right;\">\n",
       "      <th></th>\n",
       "      <th>generation_0</th>\n",
       "      <th>generation_1</th>\n",
       "      <th>generation_2</th>\n",
       "    </tr>\n",
       "  </thead>\n",
       "  <tbody>\n",
       "    <tr>\n",
       "      <th>10,10000,5000</th>\n",
       "      <td>0.002075 0.002019 0.002020 0.002010 0.001999 0...</td>\n",
       "      <td>0.002089 0.002042 0.002037 0.002029 0.002017 0...</td>\n",
       "      <td>0.002072 0.002021 0.002007 0.002004 0.001992 0...</td>\n",
       "    </tr>\n",
       "    <tr>\n",
       "      <th>50,10000,5000</th>\n",
       "      <td>0.014761 0.014485 0.014551 0.014472 0.014468 0...</td>\n",
       "      <td>0.014793 0.014591 0.014639 0.014505 0.014485 0...</td>\n",
       "      <td>0.014756 0.014596 0.014719 0.014474 0.014460 0...</td>\n",
       "    </tr>\n",
       "    <tr>\n",
       "      <th>100,10000,5000</th>\n",
       "      <td>0.032422 0.032144 0.032060 0.032044 0.032040 0...</td>\n",
       "      <td>0.032641 0.032172 0.032142 0.032146 0.032125 0...</td>\n",
       "      <td>0.032474 0.032144 0.032149 0.032141 0.032118 0...</td>\n",
       "    </tr>\n",
       "  </tbody>\n",
       "</table>\n",
       "</div>"
      ],
      "text/plain": [
       "                                                     generation_0  \\\n",
       "10,10000,5000   0.002075 0.002019 0.002020 0.002010 0.001999 0...   \n",
       "50,10000,5000   0.014761 0.014485 0.014551 0.014472 0.014468 0...   \n",
       "100,10000,5000  0.032422 0.032144 0.032060 0.032044 0.032040 0...   \n",
       "\n",
       "                                                     generation_1  \\\n",
       "10,10000,5000   0.002089 0.002042 0.002037 0.002029 0.002017 0...   \n",
       "50,10000,5000   0.014793 0.014591 0.014639 0.014505 0.014485 0...   \n",
       "100,10000,5000  0.032641 0.032172 0.032142 0.032146 0.032125 0...   \n",
       "\n",
       "                                                     generation_2  \n",
       "10,10000,5000   0.002072 0.002021 0.002007 0.002004 0.001992 0...  \n",
       "50,10000,5000   0.014756 0.014596 0.014719 0.014474 0.014460 0...  \n",
       "100,10000,5000  0.032474 0.032144 0.032149 0.032141 0.032118 0...  "
      ]
     },
     "execution_count": 36,
     "metadata": {},
     "output_type": "execute_result"
    }
   ],
   "source": [
    "df_gen = fill_dataFrame_detailed(path,genFiles)\n",
    "df_gen"
   ]
  },
  {
   "cell_type": "code",
   "execution_count": 37,
   "metadata": {},
   "outputs": [
    {
     "data": {
      "text/plain": [
       "20"
      ]
     },
     "execution_count": 37,
     "metadata": {},
     "output_type": "execute_result"
    }
   ],
   "source": [
    "len(df_gen.iloc[0,2].split(' '))"
   ]
  },
  {
   "cell_type": "code",
   "execution_count": 38,
   "metadata": {},
   "outputs": [
    {
     "data": {
      "text/html": [
       "<div>\n",
       "<style scoped>\n",
       "    .dataframe tbody tr th:only-of-type {\n",
       "        vertical-align: middle;\n",
       "    }\n",
       "\n",
       "    .dataframe tbody tr th {\n",
       "        vertical-align: top;\n",
       "    }\n",
       "\n",
       "    .dataframe thead th {\n",
       "        text-align: right;\n",
       "    }\n",
       "</style>\n",
       "<table border=\"1\" class=\"dataframe\">\n",
       "  <thead>\n",
       "    <tr style=\"text-align: right;\">\n",
       "      <th></th>\n",
       "      <th>path_0</th>\n",
       "      <th>path_1</th>\n",
       "      <th>path_2</th>\n",
       "    </tr>\n",
       "  </thead>\n",
       "  <tbody>\n",
       "    <tr>\n",
       "      <th>10,10000,5000</th>\n",
       "      <td>0.000151 0.000132 0.000132 0.000131 0.000134 0...</td>\n",
       "      <td>0.000154 0.000132 0.000132 0.000131 0.000133 0...</td>\n",
       "      <td>0.000152 0.000131 0.000132 0.000131 0.000134 0...</td>\n",
       "    </tr>\n",
       "    <tr>\n",
       "      <th>50,10000,5000</th>\n",
       "      <td>0.000723 0.000698 0.000697 0.000701 0.000698 0...</td>\n",
       "      <td>0.000719 0.000700 0.000700 0.000699 0.000698 0...</td>\n",
       "      <td>0.000720 0.000700 0.000699 0.000698 0.000696 0...</td>\n",
       "    </tr>\n",
       "    <tr>\n",
       "      <th>100,10000,5000</th>\n",
       "      <td>0.001418 0.001377 0.001377 0.001377 0.001376 0...</td>\n",
       "      <td>0.001414 0.001375 0.001376 0.001374 0.001375 0...</td>\n",
       "      <td>0.001410 0.001375 0.001377 0.001374 0.001372 0...</td>\n",
       "    </tr>\n",
       "  </tbody>\n",
       "</table>\n",
       "</div>"
      ],
      "text/plain": [
       "                                                           path_0  \\\n",
       "10,10000,5000   0.000151 0.000132 0.000132 0.000131 0.000134 0...   \n",
       "50,10000,5000   0.000723 0.000698 0.000697 0.000701 0.000698 0...   \n",
       "100,10000,5000  0.001418 0.001377 0.001377 0.001377 0.001376 0...   \n",
       "\n",
       "                                                           path_1  \\\n",
       "10,10000,5000   0.000154 0.000132 0.000132 0.000131 0.000133 0...   \n",
       "50,10000,5000   0.000719 0.000700 0.000700 0.000699 0.000698 0...   \n",
       "100,10000,5000  0.001414 0.001375 0.001376 0.001374 0.001375 0...   \n",
       "\n",
       "                                                           path_2  \n",
       "10,10000,5000   0.000152 0.000131 0.000132 0.000131 0.000134 0...  \n",
       "50,10000,5000   0.000720 0.000700 0.000699 0.000698 0.000696 0...  \n",
       "100,10000,5000  0.001410 0.001375 0.001377 0.001374 0.001372 0...  "
      ]
     },
     "execution_count": 38,
     "metadata": {},
     "output_type": "execute_result"
    }
   ],
   "source": [
    "df_path = fill_dataFrame_detailed(path,pathFiles)\n",
    "df_path"
   ]
  },
  {
   "cell_type": "code",
   "execution_count": 39,
   "metadata": {},
   "outputs": [
    {
     "data": {
      "text/plain": [
       "21"
      ]
     },
     "execution_count": 39,
     "metadata": {},
     "output_type": "execute_result"
    }
   ],
   "source": [
    "len(df_path.iloc[0,0].split(' '))"
   ]
  },
  {
   "cell_type": "code",
   "execution_count": 40,
   "metadata": {},
   "outputs": [
    {
     "data": {
      "text/html": [
       "<div>\n",
       "<style scoped>\n",
       "    .dataframe tbody tr th:only-of-type {\n",
       "        vertical-align: middle;\n",
       "    }\n",
       "\n",
       "    .dataframe tbody tr th {\n",
       "        vertical-align: top;\n",
       "    }\n",
       "\n",
       "    .dataframe thead th {\n",
       "        text-align: right;\n",
       "    }\n",
       "</style>\n",
       "<table border=\"1\" class=\"dataframe\">\n",
       "  <thead>\n",
       "    <tr style=\"text-align: right;\">\n",
       "      <th></th>\n",
       "      <th>rearrange_0</th>\n",
       "      <th>rearrange_1</th>\n",
       "      <th>rearrange_2</th>\n",
       "    </tr>\n",
       "  </thead>\n",
       "  <tbody>\n",
       "    <tr>\n",
       "      <th>10,10000,5000</th>\n",
       "      <td>0.000062 0.000030 0.000030 0.000029 0.000029 0...</td>\n",
       "      <td>0.000064 0.000031 0.000029 0.000030 0.000028 0...</td>\n",
       "      <td>0.000062 0.000031 0.000030 0.000029 0.000029 0...</td>\n",
       "    </tr>\n",
       "    <tr>\n",
       "      <th>50,10000,5000</th>\n",
       "      <td>0.000288 0.000117 0.000121 0.000127 0.000111 0...</td>\n",
       "      <td>0.000290 0.000119 0.000132 0.000131 0.000113 0...</td>\n",
       "      <td>0.000283 0.000114 0.000127 0.000132 0.000110 0...</td>\n",
       "    </tr>\n",
       "    <tr>\n",
       "      <th>100,10000,5000</th>\n",
       "      <td>0.000599 0.000287 0.000285 0.000286 0.000275 0...</td>\n",
       "      <td>0.000395 0.000269 0.000272 0.000279 0.000285 0...</td>\n",
       "      <td>0.000509 0.000272 0.000265 0.000274 0.000281 0...</td>\n",
       "    </tr>\n",
       "  </tbody>\n",
       "</table>\n",
       "</div>"
      ],
      "text/plain": [
       "                                                      rearrange_0  \\\n",
       "10,10000,5000   0.000062 0.000030 0.000030 0.000029 0.000029 0...   \n",
       "50,10000,5000   0.000288 0.000117 0.000121 0.000127 0.000111 0...   \n",
       "100,10000,5000  0.000599 0.000287 0.000285 0.000286 0.000275 0...   \n",
       "\n",
       "                                                      rearrange_1  \\\n",
       "10,10000,5000   0.000064 0.000031 0.000029 0.000030 0.000028 0...   \n",
       "50,10000,5000   0.000290 0.000119 0.000132 0.000131 0.000113 0...   \n",
       "100,10000,5000  0.000395 0.000269 0.000272 0.000279 0.000285 0...   \n",
       "\n",
       "                                                      rearrange_2  \n",
       "10,10000,5000   0.000062 0.000031 0.000030 0.000029 0.000029 0...  \n",
       "50,10000,5000   0.000283 0.000114 0.000127 0.000132 0.000110 0...  \n",
       "100,10000,5000  0.000509 0.000272 0.000265 0.000274 0.000281 0...  "
      ]
     },
     "execution_count": 40,
     "metadata": {},
     "output_type": "execute_result"
    }
   ],
   "source": [
    "df_rearr = fill_dataFrame_detailed(path, rearrFiles)\n",
    "df_rearr"
   ]
  },
  {
   "cell_type": "code",
   "execution_count": 41,
   "metadata": {},
   "outputs": [
    {
     "data": {
      "text/plain": [
       "21"
      ]
     },
     "execution_count": 41,
     "metadata": {},
     "output_type": "execute_result"
    }
   ],
   "source": [
    "len(df_rearr.iloc[0,0].split(' '))"
   ]
  },
  {
   "cell_type": "code",
   "execution_count": 42,
   "metadata": {},
   "outputs": [
    {
     "data": {
      "text/html": [
       "<div>\n",
       "<style scoped>\n",
       "    .dataframe tbody tr th:only-of-type {\n",
       "        vertical-align: middle;\n",
       "    }\n",
       "\n",
       "    .dataframe tbody tr th {\n",
       "        vertical-align: top;\n",
       "    }\n",
       "\n",
       "    .dataframe thead th {\n",
       "        text-align: right;\n",
       "    }\n",
       "</style>\n",
       "<table border=\"1\" class=\"dataframe\">\n",
       "  <thead>\n",
       "    <tr style=\"text-align: right;\">\n",
       "      <th></th>\n",
       "      <th>sort_0</th>\n",
       "      <th>sort_1</th>\n",
       "      <th>sort_2</th>\n",
       "    </tr>\n",
       "  </thead>\n",
       "  <tbody>\n",
       "    <tr>\n",
       "      <th>10,10000,5000</th>\n",
       "      <td>0.000733 0.000512 0.000497 0.000496 0.000494 0...</td>\n",
       "      <td>0.000730 0.000509 0.000497 0.000497 0.000493 0...</td>\n",
       "      <td>0.000731 0.000514 0.000499 0.000489 0.000493 0...</td>\n",
       "    </tr>\n",
       "    <tr>\n",
       "      <th>50,10000,5000</th>\n",
       "      <td>0.000757 0.000527 0.000510 0.000515 0.000512 0...</td>\n",
       "      <td>0.000759 0.000530 0.000513 0.000513 0.000511 0...</td>\n",
       "      <td>0.000758 0.000529 0.000515 0.000511 0.000510 0...</td>\n",
       "    </tr>\n",
       "    <tr>\n",
       "      <th>100,10000,5000</th>\n",
       "      <td>0.000761 0.000530 0.000516 0.000517 0.000520 0...</td>\n",
       "      <td>0.000761 0.000532 0.000517 0.000519 0.000514 0...</td>\n",
       "      <td>0.000755 0.000532 0.000517 0.000517 0.000519 0...</td>\n",
       "    </tr>\n",
       "  </tbody>\n",
       "</table>\n",
       "</div>"
      ],
      "text/plain": [
       "                                                           sort_0  \\\n",
       "10,10000,5000   0.000733 0.000512 0.000497 0.000496 0.000494 0...   \n",
       "50,10000,5000   0.000757 0.000527 0.000510 0.000515 0.000512 0...   \n",
       "100,10000,5000  0.000761 0.000530 0.000516 0.000517 0.000520 0...   \n",
       "\n",
       "                                                           sort_1  \\\n",
       "10,10000,5000   0.000730 0.000509 0.000497 0.000497 0.000493 0...   \n",
       "50,10000,5000   0.000759 0.000530 0.000513 0.000513 0.000511 0...   \n",
       "100,10000,5000  0.000761 0.000532 0.000517 0.000519 0.000514 0...   \n",
       "\n",
       "                                                           sort_2  \n",
       "10,10000,5000   0.000731 0.000514 0.000499 0.000489 0.000493 0...  \n",
       "50,10000,5000   0.000758 0.000529 0.000515 0.000511 0.000510 0...  \n",
       "100,10000,5000  0.000755 0.000532 0.000517 0.000517 0.000519 0...  "
      ]
     },
     "execution_count": 42,
     "metadata": {},
     "output_type": "execute_result"
    }
   ],
   "source": [
    "df_sort = fill_dataFrame_detailed(path, sortFiles)\n",
    "df_sort"
   ]
  },
  {
   "cell_type": "code",
   "execution_count": 43,
   "metadata": {},
   "outputs": [
    {
     "data": {
      "text/plain": [
       "21"
      ]
     },
     "execution_count": 43,
     "metadata": {},
     "output_type": "execute_result"
    }
   ],
   "source": [
    "len(df_sort.iloc[0,0].split(' '))"
   ]
  },
  {
   "cell_type": "markdown",
   "metadata": {},
   "source": [
    "### Parallel"
   ]
  },
  {
   "cell_type": "code",
   "execution_count": 44,
   "metadata": {},
   "outputs": [],
   "source": [
    "path = \"../results/detailed/parallel\"\n",
    "genFiles = sorted([i for i in os.listdir(path) if \"generation\" in i])\n",
    "pathFiles = sorted([i for i in os.listdir(path) if \"path\" in i])\n",
    "rearrFiles = sorted([i for i in os.listdir(path) if \"rearrange\" in i])\n",
    "sortFiles = sorted([i for i in os.listdir(path) if \"sort\" in i])"
   ]
  },
  {
   "cell_type": "code",
   "execution_count": 45,
   "metadata": {
    "scrolled": true
   },
   "outputs": [
    {
     "data": {
      "text/html": [
       "<div>\n",
       "<style scoped>\n",
       "    .dataframe tbody tr th:only-of-type {\n",
       "        vertical-align: middle;\n",
       "    }\n",
       "\n",
       "    .dataframe tbody tr th {\n",
       "        vertical-align: top;\n",
       "    }\n",
       "\n",
       "    .dataframe thead th {\n",
       "        text-align: right;\n",
       "    }\n",
       "</style>\n",
       "<table border=\"1\" class=\"dataframe\">\n",
       "  <thead>\n",
       "    <tr style=\"text-align: right;\">\n",
       "      <th></th>\n",
       "      <th>generation_0</th>\n",
       "      <th>generation_1</th>\n",
       "      <th>generation_2</th>\n",
       "    </tr>\n",
       "  </thead>\n",
       "  <tbody>\n",
       "    <tr>\n",
       "      <th>10,10000,5000</th>\n",
       "      <td>0.005908 0.004663 0.003150 0.005192 0.005141 0...</td>\n",
       "      <td>0.003510 0.006639 0.003960 0.003271 0.004770 0...</td>\n",
       "      <td>0.003474 0.004559 0.005389 0.005286 0.002388 0...</td>\n",
       "    </tr>\n",
       "    <tr>\n",
       "      <th>50,10000,5000</th>\n",
       "      <td>0.009631 0.012365 0.013648 0.009830 0.014117 0...</td>\n",
       "      <td>0.012401 0.012080 0.009920 0.007791 0.009898 0...</td>\n",
       "      <td>0.012566 0.010739 0.013131 0.012450 0.010792 0...</td>\n",
       "    </tr>\n",
       "    <tr>\n",
       "      <th>100,10000,5000</th>\n",
       "      <td>0.026676 0.021133 0.024541 0.021502 0.016362 0...</td>\n",
       "      <td>0.025390 0.019364 0.019343 0.022337 0.019537 0...</td>\n",
       "      <td>0.020947 0.016378 0.019737 0.022718 0.022421 0...</td>\n",
       "    </tr>\n",
       "  </tbody>\n",
       "</table>\n",
       "</div>"
      ],
      "text/plain": [
       "                                                     generation_0  \\\n",
       "10,10000,5000   0.005908 0.004663 0.003150 0.005192 0.005141 0...   \n",
       "50,10000,5000   0.009631 0.012365 0.013648 0.009830 0.014117 0...   \n",
       "100,10000,5000  0.026676 0.021133 0.024541 0.021502 0.016362 0...   \n",
       "\n",
       "                                                     generation_1  \\\n",
       "10,10000,5000   0.003510 0.006639 0.003960 0.003271 0.004770 0...   \n",
       "50,10000,5000   0.012401 0.012080 0.009920 0.007791 0.009898 0...   \n",
       "100,10000,5000  0.025390 0.019364 0.019343 0.022337 0.019537 0...   \n",
       "\n",
       "                                                     generation_2  \n",
       "10,10000,5000   0.003474 0.004559 0.005389 0.005286 0.002388 0...  \n",
       "50,10000,5000   0.012566 0.010739 0.013131 0.012450 0.010792 0...  \n",
       "100,10000,5000  0.020947 0.016378 0.019737 0.022718 0.022421 0...  "
      ]
     },
     "execution_count": 45,
     "metadata": {},
     "output_type": "execute_result"
    }
   ],
   "source": [
    "df_gen = fill_dataFrame_detailed(path,genFiles)\n",
    "df_gen"
   ]
  },
  {
   "cell_type": "code",
   "execution_count": 46,
   "metadata": {},
   "outputs": [
    {
     "data": {
      "text/plain": [
       "20"
      ]
     },
     "execution_count": 46,
     "metadata": {},
     "output_type": "execute_result"
    }
   ],
   "source": [
    "len(df_gen.iloc[0,0].split(' '))"
   ]
  },
  {
   "cell_type": "code",
   "execution_count": 47,
   "metadata": {},
   "outputs": [
    {
     "data": {
      "text/html": [
       "<div>\n",
       "<style scoped>\n",
       "    .dataframe tbody tr th:only-of-type {\n",
       "        vertical-align: middle;\n",
       "    }\n",
       "\n",
       "    .dataframe tbody tr th {\n",
       "        vertical-align: top;\n",
       "    }\n",
       "\n",
       "    .dataframe thead th {\n",
       "        text-align: right;\n",
       "    }\n",
       "</style>\n",
       "<table border=\"1\" class=\"dataframe\">\n",
       "  <thead>\n",
       "    <tr style=\"text-align: right;\">\n",
       "      <th></th>\n",
       "      <th>path_0</th>\n",
       "      <th>path_1</th>\n",
       "      <th>path_2</th>\n",
       "    </tr>\n",
       "  </thead>\n",
       "  <tbody>\n",
       "    <tr>\n",
       "      <th>10,10000,5000</th>\n",
       "      <td>0.003770 0.002480 0.002470 0.003672 0.005575 0...</td>\n",
       "      <td>0.002520 0.004881 0.001252 0.001910 0.003054 0...</td>\n",
       "      <td>0.002523 0.003552 0.000049 0.005244 0.001236 0...</td>\n",
       "    </tr>\n",
       "    <tr>\n",
       "      <th>50,10000,5000</th>\n",
       "      <td>0.002811 0.002860 0.002744 0.004614 0.003969 0...</td>\n",
       "      <td>0.002810 0.003766 0.002759 0.007264 0.000177 0...</td>\n",
       "      <td>0.000229 0.003423 0.002987 0.003091 0.009015 0...</td>\n",
       "    </tr>\n",
       "    <tr>\n",
       "      <th>100,10000,5000</th>\n",
       "      <td>0.004284 0.004317 0.004740 0.007286 0.007666 0...</td>\n",
       "      <td>0.005873 0.003929 0.003115 0.004541 0.000593 0...</td>\n",
       "      <td>0.000429 0.003104 0.010002 0.008599 0.005544 0...</td>\n",
       "    </tr>\n",
       "  </tbody>\n",
       "</table>\n",
       "</div>"
      ],
      "text/plain": [
       "                                                           path_0  \\\n",
       "10,10000,5000   0.003770 0.002480 0.002470 0.003672 0.005575 0...   \n",
       "50,10000,5000   0.002811 0.002860 0.002744 0.004614 0.003969 0...   \n",
       "100,10000,5000  0.004284 0.004317 0.004740 0.007286 0.007666 0...   \n",
       "\n",
       "                                                           path_1  \\\n",
       "10,10000,5000   0.002520 0.004881 0.001252 0.001910 0.003054 0...   \n",
       "50,10000,5000   0.002810 0.003766 0.002759 0.007264 0.000177 0...   \n",
       "100,10000,5000  0.005873 0.003929 0.003115 0.004541 0.000593 0...   \n",
       "\n",
       "                                                           path_2  \n",
       "10,10000,5000   0.002523 0.003552 0.000049 0.005244 0.001236 0...  \n",
       "50,10000,5000   0.000229 0.003423 0.002987 0.003091 0.009015 0...  \n",
       "100,10000,5000  0.000429 0.003104 0.010002 0.008599 0.005544 0...  "
      ]
     },
     "execution_count": 47,
     "metadata": {},
     "output_type": "execute_result"
    }
   ],
   "source": [
    "df_path = fill_dataFrame_detailed(path, pathFiles)\n",
    "df_path"
   ]
  },
  {
   "cell_type": "code",
   "execution_count": 48,
   "metadata": {},
   "outputs": [
    {
     "data": {
      "text/plain": [
       "21"
      ]
     },
     "execution_count": 48,
     "metadata": {},
     "output_type": "execute_result"
    }
   ],
   "source": [
    "len(df_path.iloc[0,0].split(' '))"
   ]
  },
  {
   "cell_type": "code",
   "execution_count": 49,
   "metadata": {},
   "outputs": [
    {
     "data": {
      "text/html": [
       "<div>\n",
       "<style scoped>\n",
       "    .dataframe tbody tr th:only-of-type {\n",
       "        vertical-align: middle;\n",
       "    }\n",
       "\n",
       "    .dataframe tbody tr th {\n",
       "        vertical-align: top;\n",
       "    }\n",
       "\n",
       "    .dataframe thead th {\n",
       "        text-align: right;\n",
       "    }\n",
       "</style>\n",
       "<table border=\"1\" class=\"dataframe\">\n",
       "  <thead>\n",
       "    <tr style=\"text-align: right;\">\n",
       "      <th></th>\n",
       "      <th>rearrange_0</th>\n",
       "      <th>rearrange_1</th>\n",
       "      <th>rearrange_2</th>\n",
       "    </tr>\n",
       "  </thead>\n",
       "  <tbody>\n",
       "    <tr>\n",
       "      <th>10,10000,5000</th>\n",
       "      <td>0.000062 0.000034 0.000039 0.000042 0.000044 0...</td>\n",
       "      <td>0.000061 0.000034 0.000044 0.000044 0.000043 0...</td>\n",
       "      <td>0.000062 0.000035 0.000043 0.000041 0.000043 0...</td>\n",
       "    </tr>\n",
       "    <tr>\n",
       "      <th>50,10000,5000</th>\n",
       "      <td>0.000284 0.000130 0.000160 0.000160 0.000160 0...</td>\n",
       "      <td>0.000306 0.000153 0.000158 0.000158 0.000155 0...</td>\n",
       "      <td>0.000275 0.000154 0.000164 0.000158 0.000158 0...</td>\n",
       "    </tr>\n",
       "    <tr>\n",
       "      <th>100,10000,5000</th>\n",
       "      <td>0.000715 0.000255 0.000271 0.000247 0.000239 0...</td>\n",
       "      <td>0.000539 0.000267 0.000242 0.000240 0.000239 0...</td>\n",
       "      <td>0.000495 0.000244 0.000264 0.000249 0.000244 0...</td>\n",
       "    </tr>\n",
       "  </tbody>\n",
       "</table>\n",
       "</div>"
      ],
      "text/plain": [
       "                                                      rearrange_0  \\\n",
       "10,10000,5000   0.000062 0.000034 0.000039 0.000042 0.000044 0...   \n",
       "50,10000,5000   0.000284 0.000130 0.000160 0.000160 0.000160 0...   \n",
       "100,10000,5000  0.000715 0.000255 0.000271 0.000247 0.000239 0...   \n",
       "\n",
       "                                                      rearrange_1  \\\n",
       "10,10000,5000   0.000061 0.000034 0.000044 0.000044 0.000043 0...   \n",
       "50,10000,5000   0.000306 0.000153 0.000158 0.000158 0.000155 0...   \n",
       "100,10000,5000  0.000539 0.000267 0.000242 0.000240 0.000239 0...   \n",
       "\n",
       "                                                      rearrange_2  \n",
       "10,10000,5000   0.000062 0.000035 0.000043 0.000041 0.000043 0...  \n",
       "50,10000,5000   0.000275 0.000154 0.000164 0.000158 0.000158 0...  \n",
       "100,10000,5000  0.000495 0.000244 0.000264 0.000249 0.000244 0...  "
      ]
     },
     "execution_count": 49,
     "metadata": {},
     "output_type": "execute_result"
    }
   ],
   "source": [
    "df_rearr = fill_dataFrame_detailed(path, rearrFiles)\n",
    "df_rearr"
   ]
  },
  {
   "cell_type": "code",
   "execution_count": 50,
   "metadata": {},
   "outputs": [
    {
     "data": {
      "text/plain": [
       "21"
      ]
     },
     "execution_count": 50,
     "metadata": {},
     "output_type": "execute_result"
    }
   ],
   "source": [
    "len(df_rearr.iloc[0,0].split(' '))"
   ]
  },
  {
   "cell_type": "code",
   "execution_count": 51,
   "metadata": {},
   "outputs": [
    {
     "data": {
      "text/html": [
       "<div>\n",
       "<style scoped>\n",
       "    .dataframe tbody tr th:only-of-type {\n",
       "        vertical-align: middle;\n",
       "    }\n",
       "\n",
       "    .dataframe tbody tr th {\n",
       "        vertical-align: top;\n",
       "    }\n",
       "\n",
       "    .dataframe thead th {\n",
       "        text-align: right;\n",
       "    }\n",
       "</style>\n",
       "<table border=\"1\" class=\"dataframe\">\n",
       "  <thead>\n",
       "    <tr style=\"text-align: right;\">\n",
       "      <th></th>\n",
       "      <th>sort_0</th>\n",
       "      <th>sort_1</th>\n",
       "      <th>sort_2</th>\n",
       "    </tr>\n",
       "  </thead>\n",
       "  <tbody>\n",
       "    <tr>\n",
       "      <th>10,10000,5000</th>\n",
       "      <td>0.002776 0.002757 0.002746 0.001703 0.003596 0...</td>\n",
       "      <td>0.005414 0.002912 0.000219 0.001389 0.001629 0...</td>\n",
       "      <td>0.005556 0.002629 0.000217 0.004635 0.000218 0...</td>\n",
       "    </tr>\n",
       "    <tr>\n",
       "      <th>50,10000,5000</th>\n",
       "      <td>0.002822 0.004779 0.001364 0.004099 0.004204 0...</td>\n",
       "      <td>0.007292 0.004642 0.002658 0.002678 0.000238 0...</td>\n",
       "      <td>0.000256 0.003637 0.005666 0.001454 0.000240 0...</td>\n",
       "    </tr>\n",
       "    <tr>\n",
       "      <th>100,10000,5000</th>\n",
       "      <td>0.000253 0.003531 0.005806 0.002680 0.001325 0...</td>\n",
       "      <td>0.002824 0.006402 0.001070 0.002648 0.000240 0...</td>\n",
       "      <td>0.000254 0.000247 0.002228 0.002679 0.002910 0...</td>\n",
       "    </tr>\n",
       "  </tbody>\n",
       "</table>\n",
       "</div>"
      ],
      "text/plain": [
       "                                                           sort_0  \\\n",
       "10,10000,5000   0.002776 0.002757 0.002746 0.001703 0.003596 0...   \n",
       "50,10000,5000   0.002822 0.004779 0.001364 0.004099 0.004204 0...   \n",
       "100,10000,5000  0.000253 0.003531 0.005806 0.002680 0.001325 0...   \n",
       "\n",
       "                                                           sort_1  \\\n",
       "10,10000,5000   0.005414 0.002912 0.000219 0.001389 0.001629 0...   \n",
       "50,10000,5000   0.007292 0.004642 0.002658 0.002678 0.000238 0...   \n",
       "100,10000,5000  0.002824 0.006402 0.001070 0.002648 0.000240 0...   \n",
       "\n",
       "                                                           sort_2  \n",
       "10,10000,5000   0.005556 0.002629 0.000217 0.004635 0.000218 0...  \n",
       "50,10000,5000   0.000256 0.003637 0.005666 0.001454 0.000240 0...  \n",
       "100,10000,5000  0.000254 0.000247 0.002228 0.002679 0.002910 0...  "
      ]
     },
     "execution_count": 51,
     "metadata": {},
     "output_type": "execute_result"
    }
   ],
   "source": [
    "df_sort = fill_dataFrame_detailed(path, sortFiles)\n",
    "df_sort"
   ]
  },
  {
   "cell_type": "code",
   "execution_count": 52,
   "metadata": {},
   "outputs": [
    {
     "data": {
      "text/plain": [
       "21"
      ]
     },
     "execution_count": 52,
     "metadata": {},
     "output_type": "execute_result"
    }
   ],
   "source": [
    "len(df_sort.iloc[0,0].split(' '))"
   ]
  },
  {
   "cell_type": "markdown",
   "metadata": {},
   "source": [
    "### Parallel MPI"
   ]
  },
  {
   "cell_type": "code",
   "execution_count": 53,
   "metadata": {},
   "outputs": [],
   "source": [
    "path = \"../results/detailed/parallelMPI\"\n",
    "genFiles = sorted([i for i in os.listdir(path) if \"generation\" in i])\n",
    "pathFiles = sorted([i for i in os.listdir(path) if \"path\" in i])\n",
    "rearrFiles = sorted([i for i in os.listdir(path) if \"rearrange\" in i])\n",
    "sortFiles = sorted([i for i in os.listdir(path) if \"sort\" in i])\n",
    "transFiles = sorted([i for i in os.listdir(path) if \"transfer\" in i])"
   ]
  },
  {
   "cell_type": "code",
   "execution_count": 54,
   "metadata": {
    "scrolled": true
   },
   "outputs": [
    {
     "data": {
      "text/html": [
       "<div>\n",
       "<style scoped>\n",
       "    .dataframe tbody tr th:only-of-type {\n",
       "        vertical-align: middle;\n",
       "    }\n",
       "\n",
       "    .dataframe tbody tr th {\n",
       "        vertical-align: top;\n",
       "    }\n",
       "\n",
       "    .dataframe thead th {\n",
       "        text-align: right;\n",
       "    }\n",
       "</style>\n",
       "<table border=\"1\" class=\"dataframe\">\n",
       "  <thead>\n",
       "    <tr style=\"text-align: right;\">\n",
       "      <th></th>\n",
       "      <th>generation_0</th>\n",
       "      <th>generation_1</th>\n",
       "      <th>generation_2</th>\n",
       "      <th>generation_3</th>\n",
       "    </tr>\n",
       "  </thead>\n",
       "  <tbody>\n",
       "    <tr>\n",
       "      <th>10,10000,5000</th>\n",
       "      <td>0.018032 0.005993 0.005375 0.009060 0.006752 0...</td>\n",
       "      <td>0.003336 0.009762 0.011885 0.004859 0.003643 0...</td>\n",
       "      <td>0.006078 0.006900 0.008084 0.005762 0.004401 0...</td>\n",
       "      <td>0.005093 0.007142 0.006805 0.005191 0.006121 0...</td>\n",
       "    </tr>\n",
       "    <tr>\n",
       "      <th>50,10000,5000</th>\n",
       "      <td>0.014813 0.014732 0.012389 0.013893 0.010534 0...</td>\n",
       "      <td>0.015900 0.017831 0.010406 0.014597 0.014963 0...</td>\n",
       "      <td>0.018128 0.017546 0.015135 0.015674 0.010410 0...</td>\n",
       "      <td>0.014782 0.016112 0.016044 0.014374 0.019827 0...</td>\n",
       "    </tr>\n",
       "    <tr>\n",
       "      <th>100,10000,5000</th>\n",
       "      <td>0.028883 0.024993 0.029376 0.034893 0.023447 0...</td>\n",
       "      <td>0.030011 0.030778 0.027144 0.026997 0.021258 0...</td>\n",
       "      <td>0.031778 0.022046 0.020350 0.017180 0.024164 0...</td>\n",
       "      <td>0.026665 0.024024 0.022106 0.029415 0.029282 0...</td>\n",
       "    </tr>\n",
       "  </tbody>\n",
       "</table>\n",
       "</div>"
      ],
      "text/plain": [
       "                                                     generation_0  \\\n",
       "10,10000,5000   0.018032 0.005993 0.005375 0.009060 0.006752 0...   \n",
       "50,10000,5000   0.014813 0.014732 0.012389 0.013893 0.010534 0...   \n",
       "100,10000,5000  0.028883 0.024993 0.029376 0.034893 0.023447 0...   \n",
       "\n",
       "                                                     generation_1  \\\n",
       "10,10000,5000   0.003336 0.009762 0.011885 0.004859 0.003643 0...   \n",
       "50,10000,5000   0.015900 0.017831 0.010406 0.014597 0.014963 0...   \n",
       "100,10000,5000  0.030011 0.030778 0.027144 0.026997 0.021258 0...   \n",
       "\n",
       "                                                     generation_2  \\\n",
       "10,10000,5000   0.006078 0.006900 0.008084 0.005762 0.004401 0...   \n",
       "50,10000,5000   0.018128 0.017546 0.015135 0.015674 0.010410 0...   \n",
       "100,10000,5000  0.031778 0.022046 0.020350 0.017180 0.024164 0...   \n",
       "\n",
       "                                                     generation_3  \n",
       "10,10000,5000   0.005093 0.007142 0.006805 0.005191 0.006121 0...  \n",
       "50,10000,5000   0.014782 0.016112 0.016044 0.014374 0.019827 0...  \n",
       "100,10000,5000  0.026665 0.024024 0.022106 0.029415 0.029282 0...  "
      ]
     },
     "execution_count": 54,
     "metadata": {},
     "output_type": "execute_result"
    }
   ],
   "source": [
    "df_gen = fill_dataFrame_detailed(path, genFiles)\n",
    "df_gen"
   ]
  },
  {
   "cell_type": "code",
   "execution_count": 55,
   "metadata": {},
   "outputs": [
    {
     "data": {
      "text/plain": [
       "108"
      ]
     },
     "execution_count": 55,
     "metadata": {},
     "output_type": "execute_result"
    }
   ],
   "source": [
    "len(df_gen.iloc[0,0].split(' '))"
   ]
  },
  {
   "cell_type": "code",
   "execution_count": 56,
   "metadata": {},
   "outputs": [
    {
     "data": {
      "text/html": [
       "<div>\n",
       "<style scoped>\n",
       "    .dataframe tbody tr th:only-of-type {\n",
       "        vertical-align: middle;\n",
       "    }\n",
       "\n",
       "    .dataframe tbody tr th {\n",
       "        vertical-align: top;\n",
       "    }\n",
       "\n",
       "    .dataframe thead th {\n",
       "        text-align: right;\n",
       "    }\n",
       "</style>\n",
       "<table border=\"1\" class=\"dataframe\">\n",
       "  <thead>\n",
       "    <tr style=\"text-align: right;\">\n",
       "      <th></th>\n",
       "      <th>path_0</th>\n",
       "      <th>path_1</th>\n",
       "      <th>path_2</th>\n",
       "      <th>path_3</th>\n",
       "    </tr>\n",
       "  </thead>\n",
       "  <tbody>\n",
       "    <tr>\n",
       "      <th>10,10000,5000</th>\n",
       "      <td>0.003741 0.002434 0.001666 0.000038 0.002817 0...</td>\n",
       "      <td>0.004958 0.010631 0.002476 0.002471 0.000036 0...</td>\n",
       "      <td>0.004962 0.002475 0.001241 0.003919 0.001230 0...</td>\n",
       "      <td>0.006193 0.002440 0.003684 0.000846 0.002536 0...</td>\n",
       "    </tr>\n",
       "    <tr>\n",
       "      <th>50,10000,5000</th>\n",
       "      <td>0.003955 0.005673 0.004140 0.006004 0.014606 0...</td>\n",
       "      <td>0.005382 0.011419 0.004247 0.008665 0.005735 0...</td>\n",
       "      <td>0.007878 0.004074 0.002875 0.005833 0.005091 0...</td>\n",
       "      <td>0.005437 0.003216 0.006751 0.006938 0.003235 0...</td>\n",
       "    </tr>\n",
       "    <tr>\n",
       "      <th>100,10000,5000</th>\n",
       "      <td>0.007315 0.003096 0.006523 0.006098 0.012434 0...</td>\n",
       "      <td>0.005821 0.009110 0.006311 0.016014 0.004721 0...</td>\n",
       "      <td>0.004390 0.000409 0.000359 0.009438 0.000346 0...</td>\n",
       "      <td>0.005897 0.009208 0.018066 0.005342 0.007440 0...</td>\n",
       "    </tr>\n",
       "  </tbody>\n",
       "</table>\n",
       "</div>"
      ],
      "text/plain": [
       "                                                           path_0  \\\n",
       "10,10000,5000   0.003741 0.002434 0.001666 0.000038 0.002817 0...   \n",
       "50,10000,5000   0.003955 0.005673 0.004140 0.006004 0.014606 0...   \n",
       "100,10000,5000  0.007315 0.003096 0.006523 0.006098 0.012434 0...   \n",
       "\n",
       "                                                           path_1  \\\n",
       "10,10000,5000   0.004958 0.010631 0.002476 0.002471 0.000036 0...   \n",
       "50,10000,5000   0.005382 0.011419 0.004247 0.008665 0.005735 0...   \n",
       "100,10000,5000  0.005821 0.009110 0.006311 0.016014 0.004721 0...   \n",
       "\n",
       "                                                           path_2  \\\n",
       "10,10000,5000   0.004962 0.002475 0.001241 0.003919 0.001230 0...   \n",
       "50,10000,5000   0.007878 0.004074 0.002875 0.005833 0.005091 0...   \n",
       "100,10000,5000  0.004390 0.000409 0.000359 0.009438 0.000346 0...   \n",
       "\n",
       "                                                           path_3  \n",
       "10,10000,5000   0.006193 0.002440 0.003684 0.000846 0.002536 0...  \n",
       "50,10000,5000   0.005437 0.003216 0.006751 0.006938 0.003235 0...  \n",
       "100,10000,5000  0.005897 0.009208 0.018066 0.005342 0.007440 0...  "
      ]
     },
     "execution_count": 56,
     "metadata": {},
     "output_type": "execute_result"
    }
   ],
   "source": [
    "df_path = fill_dataFrame_detailed(path, pathFiles)\n",
    "df_path"
   ]
  },
  {
   "cell_type": "code",
   "execution_count": 57,
   "metadata": {},
   "outputs": [
    {
     "data": {
      "text/plain": [
       "111"
      ]
     },
     "execution_count": 57,
     "metadata": {},
     "output_type": "execute_result"
    }
   ],
   "source": [
    "len(df_path.iloc[0,0].split(' '))"
   ]
  },
  {
   "cell_type": "code",
   "execution_count": 58,
   "metadata": {},
   "outputs": [
    {
     "data": {
      "text/html": [
       "<div>\n",
       "<style scoped>\n",
       "    .dataframe tbody tr th:only-of-type {\n",
       "        vertical-align: middle;\n",
       "    }\n",
       "\n",
       "    .dataframe tbody tr th {\n",
       "        vertical-align: top;\n",
       "    }\n",
       "\n",
       "    .dataframe thead th {\n",
       "        text-align: right;\n",
       "    }\n",
       "</style>\n",
       "<table border=\"1\" class=\"dataframe\">\n",
       "  <thead>\n",
       "    <tr style=\"text-align: right;\">\n",
       "      <th></th>\n",
       "      <th>rearrange_0</th>\n",
       "      <th>rearrange_1</th>\n",
       "      <th>rearrange_2</th>\n",
       "      <th>rearrange_3</th>\n",
       "    </tr>\n",
       "  </thead>\n",
       "  <tbody>\n",
       "    <tr>\n",
       "      <th>10,10000,5000</th>\n",
       "      <td>0.000066 0.000046 0.000043 0.000042 0.000045 0...</td>\n",
       "      <td>0.000073 0.000041 0.000043 0.000040 0.000042 0...</td>\n",
       "      <td>0.000066 0.000032 0.000045 0.000044 0.000043 0...</td>\n",
       "      <td>0.000071 0.000043 0.000045 0.000043 0.000043 0...</td>\n",
       "    </tr>\n",
       "    <tr>\n",
       "      <th>50,10000,5000</th>\n",
       "      <td>0.000293 0.000154 0.000159 0.000160 0.000149 0...</td>\n",
       "      <td>0.000294 0.000151 0.000159 0.000154 0.000154 0...</td>\n",
       "      <td>0.000318 0.000148 0.000145 0.000162 0.000156 0...</td>\n",
       "      <td>0.000342 0.000161 0.000160 0.000160 0.000149 0...</td>\n",
       "    </tr>\n",
       "    <tr>\n",
       "      <th>100,10000,5000</th>\n",
       "      <td>0.000639 0.000264 0.000239 0.000283 0.000257 0...</td>\n",
       "      <td>0.000617 0.000291 0.000280 0.000245 0.000266 0...</td>\n",
       "      <td>0.000571 0.000240 0.000240 0.000244 0.000229 0...</td>\n",
       "      <td>0.000765 0.000318 0.000309 0.000265 0.000285 0...</td>\n",
       "    </tr>\n",
       "  </tbody>\n",
       "</table>\n",
       "</div>"
      ],
      "text/plain": [
       "                                                      rearrange_0  \\\n",
       "10,10000,5000   0.000066 0.000046 0.000043 0.000042 0.000045 0...   \n",
       "50,10000,5000   0.000293 0.000154 0.000159 0.000160 0.000149 0...   \n",
       "100,10000,5000  0.000639 0.000264 0.000239 0.000283 0.000257 0...   \n",
       "\n",
       "                                                      rearrange_1  \\\n",
       "10,10000,5000   0.000073 0.000041 0.000043 0.000040 0.000042 0...   \n",
       "50,10000,5000   0.000294 0.000151 0.000159 0.000154 0.000154 0...   \n",
       "100,10000,5000  0.000617 0.000291 0.000280 0.000245 0.000266 0...   \n",
       "\n",
       "                                                      rearrange_2  \\\n",
       "10,10000,5000   0.000066 0.000032 0.000045 0.000044 0.000043 0...   \n",
       "50,10000,5000   0.000318 0.000148 0.000145 0.000162 0.000156 0...   \n",
       "100,10000,5000  0.000571 0.000240 0.000240 0.000244 0.000229 0...   \n",
       "\n",
       "                                                      rearrange_3  \n",
       "10,10000,5000   0.000071 0.000043 0.000045 0.000043 0.000043 0...  \n",
       "50,10000,5000   0.000342 0.000161 0.000160 0.000160 0.000149 0...  \n",
       "100,10000,5000  0.000765 0.000318 0.000309 0.000265 0.000285 0...  "
      ]
     },
     "execution_count": 58,
     "metadata": {},
     "output_type": "execute_result"
    }
   ],
   "source": [
    "df_rearr = fill_dataFrame_detailed(path, rearrFiles)\n",
    "df_rearr"
   ]
  },
  {
   "cell_type": "code",
   "execution_count": 59,
   "metadata": {},
   "outputs": [
    {
     "data": {
      "text/plain": [
       "111"
      ]
     },
     "execution_count": 59,
     "metadata": {},
     "output_type": "execute_result"
    }
   ],
   "source": [
    "len(df_rearr.iloc[0,0].split(' '))"
   ]
  },
  {
   "cell_type": "code",
   "execution_count": 60,
   "metadata": {},
   "outputs": [
    {
     "data": {
      "text/html": [
       "<div>\n",
       "<style scoped>\n",
       "    .dataframe tbody tr th:only-of-type {\n",
       "        vertical-align: middle;\n",
       "    }\n",
       "\n",
       "    .dataframe tbody tr th {\n",
       "        vertical-align: top;\n",
       "    }\n",
       "\n",
       "    .dataframe thead th {\n",
       "        text-align: right;\n",
       "    }\n",
       "</style>\n",
       "<table border=\"1\" class=\"dataframe\">\n",
       "  <thead>\n",
       "    <tr style=\"text-align: right;\">\n",
       "      <th></th>\n",
       "      <th>sort_0</th>\n",
       "      <th>sort_1</th>\n",
       "      <th>sort_2</th>\n",
       "      <th>sort_3</th>\n",
       "    </tr>\n",
       "  </thead>\n",
       "  <tbody>\n",
       "    <tr>\n",
       "      <th>10,10000,5000</th>\n",
       "      <td>0.002785 0.005261 0.005800 0.000224 0.006554 0...</td>\n",
       "      <td>0.005194 0.006132 0.002753 0.000230 0.000215 0...</td>\n",
       "      <td>0.005527 0.002761 0.000218 0.006393 0.000213 0...</td>\n",
       "      <td>0.003990 0.004261 0.001420 0.000220 0.005985 0...</td>\n",
       "    </tr>\n",
       "    <tr>\n",
       "      <th>50,10000,5000</th>\n",
       "      <td>0.002519 0.003800 0.001568 0.005765 0.002663 0...</td>\n",
       "      <td>0.002823 0.003204 0.005335 0.002656 0.004818 0...</td>\n",
       "      <td>0.003516 0.006606 0.004490 0.004935 0.008016 0...</td>\n",
       "      <td>0.008847 0.006853 0.006618 0.005634 0.005156 0...</td>\n",
       "    </tr>\n",
       "    <tr>\n",
       "      <th>100,10000,5000</th>\n",
       "      <td>0.014969 0.003913 0.000248 0.001442 0.002424 0...</td>\n",
       "      <td>0.002828 0.009159 0.002715 0.000247 0.008057 0...</td>\n",
       "      <td>0.005555 0.000234 0.000237 0.000241 0.000229 0...</td>\n",
       "      <td>0.013562 0.019613 0.009879 0.002619 0.012509 0...</td>\n",
       "    </tr>\n",
       "  </tbody>\n",
       "</table>\n",
       "</div>"
      ],
      "text/plain": [
       "                                                           sort_0  \\\n",
       "10,10000,5000   0.002785 0.005261 0.005800 0.000224 0.006554 0...   \n",
       "50,10000,5000   0.002519 0.003800 0.001568 0.005765 0.002663 0...   \n",
       "100,10000,5000  0.014969 0.003913 0.000248 0.001442 0.002424 0...   \n",
       "\n",
       "                                                           sort_1  \\\n",
       "10,10000,5000   0.005194 0.006132 0.002753 0.000230 0.000215 0...   \n",
       "50,10000,5000   0.002823 0.003204 0.005335 0.002656 0.004818 0...   \n",
       "100,10000,5000  0.002828 0.009159 0.002715 0.000247 0.008057 0...   \n",
       "\n",
       "                                                           sort_2  \\\n",
       "10,10000,5000   0.005527 0.002761 0.000218 0.006393 0.000213 0...   \n",
       "50,10000,5000   0.003516 0.006606 0.004490 0.004935 0.008016 0...   \n",
       "100,10000,5000  0.005555 0.000234 0.000237 0.000241 0.000229 0...   \n",
       "\n",
       "                                                           sort_3  \n",
       "10,10000,5000   0.003990 0.004261 0.001420 0.000220 0.005985 0...  \n",
       "50,10000,5000   0.008847 0.006853 0.006618 0.005634 0.005156 0...  \n",
       "100,10000,5000  0.013562 0.019613 0.009879 0.002619 0.012509 0...  "
      ]
     },
     "execution_count": 60,
     "metadata": {},
     "output_type": "execute_result"
    }
   ],
   "source": [
    "df_sort = fill_dataFrame_detailed(path, sortFiles)\n",
    "df_sort"
   ]
  },
  {
   "cell_type": "code",
   "execution_count": 61,
   "metadata": {},
   "outputs": [
    {
     "data": {
      "text/plain": [
       "111"
      ]
     },
     "execution_count": 61,
     "metadata": {},
     "output_type": "execute_result"
    }
   ],
   "source": [
    "len(df_sort.iloc[0,0].split(' '))"
   ]
  },
  {
   "cell_type": "code",
   "execution_count": 62,
   "metadata": {},
   "outputs": [
    {
     "data": {
      "text/html": [
       "<div>\n",
       "<style scoped>\n",
       "    .dataframe tbody tr th:only-of-type {\n",
       "        vertical-align: middle;\n",
       "    }\n",
       "\n",
       "    .dataframe tbody tr th {\n",
       "        vertical-align: top;\n",
       "    }\n",
       "\n",
       "    .dataframe thead th {\n",
       "        text-align: right;\n",
       "    }\n",
       "</style>\n",
       "<table border=\"1\" class=\"dataframe\">\n",
       "  <thead>\n",
       "    <tr style=\"text-align: right;\">\n",
       "      <th></th>\n",
       "      <th>transfer_0</th>\n",
       "      <th>transfer_1</th>\n",
       "      <th>transfer_2</th>\n",
       "      <th>transfer_3</th>\n",
       "    </tr>\n",
       "  </thead>\n",
       "  <tbody>\n",
       "    <tr>\n",
       "      <th>10,10000,5000</th>\n",
       "      <td>0.000028 0.002917 0.000006 0.000005 0.000005 0...</td>\n",
       "      <td>0.018113 0.008784 0.012489 0.010825 0.008983 0...</td>\n",
       "      <td>0.023657 0.028972 0.005105 0.005504 0.014361 0...</td>\n",
       "      <td>0.026727 0.000007 0.008669 0.007776 0.006326 0...</td>\n",
       "    </tr>\n",
       "    <tr>\n",
       "      <th>50,10000,5000</th>\n",
       "      <td>0.000036 0.025582 0.000007 0.150333 0.017845 0...</td>\n",
       "      <td>0.027674 0.018918 0.003191 0.137170 0.024672 0...</td>\n",
       "      <td>0.004931 0.014490 0.012292 0.000011 0.002370 0...</td>\n",
       "      <td>0.006625 0.000011 0.004083 0.005444 0.000010 0...</td>\n",
       "    </tr>\n",
       "    <tr>\n",
       "      <th>100,10000,5000</th>\n",
       "      <td>0.016406 0.013219 0.049100 0.056081 0.097105 0...</td>\n",
       "      <td>0.016206 0.000012 0.135685 0.015973 0.210515 0...</td>\n",
       "      <td>0.093149 0.011639 0.004194 0.000012 0.201510 0...</td>\n",
       "      <td>0.000042 0.069663 0.000016 0.272762 0.000016 0...</td>\n",
       "    </tr>\n",
       "  </tbody>\n",
       "</table>\n",
       "</div>"
      ],
      "text/plain": [
       "                                                       transfer_0  \\\n",
       "10,10000,5000   0.000028 0.002917 0.000006 0.000005 0.000005 0...   \n",
       "50,10000,5000   0.000036 0.025582 0.000007 0.150333 0.017845 0...   \n",
       "100,10000,5000  0.016406 0.013219 0.049100 0.056081 0.097105 0...   \n",
       "\n",
       "                                                       transfer_1  \\\n",
       "10,10000,5000   0.018113 0.008784 0.012489 0.010825 0.008983 0...   \n",
       "50,10000,5000   0.027674 0.018918 0.003191 0.137170 0.024672 0...   \n",
       "100,10000,5000  0.016206 0.000012 0.135685 0.015973 0.210515 0...   \n",
       "\n",
       "                                                       transfer_2  \\\n",
       "10,10000,5000   0.023657 0.028972 0.005105 0.005504 0.014361 0...   \n",
       "50,10000,5000   0.004931 0.014490 0.012292 0.000011 0.002370 0...   \n",
       "100,10000,5000  0.093149 0.011639 0.004194 0.000012 0.201510 0...   \n",
       "\n",
       "                                                       transfer_3  \n",
       "10,10000,5000   0.026727 0.000007 0.008669 0.007776 0.006326 0...  \n",
       "50,10000,5000   0.006625 0.000011 0.004083 0.005444 0.000010 0...  \n",
       "100,10000,5000  0.000042 0.069663 0.000016 0.272762 0.000016 0...  "
      ]
     },
     "execution_count": 62,
     "metadata": {},
     "output_type": "execute_result"
    }
   ],
   "source": [
    "df_trans = fill_dataFrame_detailed(path, transFiles)\n",
    "df_trans"
   ]
  },
  {
   "cell_type": "code",
   "execution_count": 63,
   "metadata": {},
   "outputs": [
    {
     "data": {
      "text/plain": [
       "27"
      ]
     },
     "execution_count": 63,
     "metadata": {},
     "output_type": "execute_result"
    }
   ],
   "source": [
    "len(df_trans.iloc[0,0].split(' '))"
   ]
  }
 ],
 "metadata": {
  "kernelspec": {
   "display_name": "Python 3",
   "language": "python",
   "name": "python3"
  },
  "language_info": {
   "codemirror_mode": {
    "name": "ipython",
    "version": 3
   },
   "file_extension": ".py",
   "mimetype": "text/x-python",
   "name": "python",
   "nbconvert_exporter": "python",
   "pygments_lexer": "ipython3",
   "version": "3.7.1"
  }
 },
 "nbformat": 4,
 "nbformat_minor": 2
}
