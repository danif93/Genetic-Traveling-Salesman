{
 "cells": [
  {
   "cell_type": "code",
   "execution_count": 1,
   "metadata": {},
   "outputs": [],
   "source": [
    "import numpy as np\n",
    "import pandas as pd\n",
    "import matplotlib.pyplot as plt\n",
    "import os\n",
    "\n",
    "%matplotlib inline"
   ]
  },
  {
   "cell_type": "markdown",
   "metadata": {},
   "source": [
    "# Increasing numNodes"
   ]
  },
  {
   "cell_type": "markdown",
   "metadata": {},
   "source": [
    "## Total Cost"
   ]
  },
  {
   "cell_type": "code",
   "execution_count": 2,
   "metadata": {},
   "outputs": [],
   "source": [
    "def fill_dataFrame_total(path, files):\n",
    "    df_time = pd.DataFrame()\n",
    "    df_prec = pd.DataFrame()\n",
    "    df_conv = pd.DataFrame()\n",
    "    for file in files:\n",
    "        with open(os.path.join(path,file)) as f:\n",
    "            col = file.split('.')[0]\n",
    "            for line in f:\n",
    "                vals = line.split(' ')\n",
    "                row = vals[0]+','+vals[1]+','+vals[2]\n",
    "                df_time.loc[row,col] = float(vals[3])\n",
    "                df_prec.loc[row,col] = int(vals[4])\n",
    "                df_conv.loc[row,col] = int(vals[5])==1\n",
    "    return df_time,df_prec,df_conv"
   ]
  },
  {
   "cell_type": "markdown",
   "metadata": {},
   "source": [
    "### Sequential"
   ]
  },
  {
   "cell_type": "code",
   "execution_count": 3,
   "metadata": {},
   "outputs": [],
   "source": [
    "path = \"../results/total/sequential\"\n",
    "files = sorted(os.listdir(path))"
   ]
  },
  {
   "cell_type": "code",
   "execution_count": 4,
   "metadata": {},
   "outputs": [],
   "source": [
    "df_seq_time,df_seq_prec,df_seq_conv = fill_dataFrame_total(path,files)"
   ]
  },
  {
   "cell_type": "code",
   "execution_count": 5,
   "metadata": {},
   "outputs": [
    {
     "data": {
      "text/html": [
       "<div>\n",
       "<style scoped>\n",
       "    .dataframe tbody tr th:only-of-type {\n",
       "        vertical-align: middle;\n",
       "    }\n",
       "\n",
       "    .dataframe tbody tr th {\n",
       "        vertical-align: top;\n",
       "    }\n",
       "\n",
       "    .dataframe thead th {\n",
       "        text-align: right;\n",
       "    }\n",
       "</style>\n",
       "<table border=\"1\" class=\"dataframe\">\n",
       "  <thead>\n",
       "    <tr style=\"text-align: right;\">\n",
       "      <th></th>\n",
       "      <th>0</th>\n",
       "    </tr>\n",
       "  </thead>\n",
       "  <tbody>\n",
       "    <tr>\n",
       "      <th>10,10000,5000</th>\n",
       "      <td>0.074393</td>\n",
       "    </tr>\n",
       "    <tr>\n",
       "      <th>50,10000,5000</th>\n",
       "      <td>0.677360</td>\n",
       "    </tr>\n",
       "    <tr>\n",
       "      <th>100,10000,5000</th>\n",
       "      <td>1.790241</td>\n",
       "    </tr>\n",
       "  </tbody>\n",
       "</table>\n",
       "</div>"
      ],
      "text/plain": [
       "                       0\n",
       "10,10000,5000   0.074393\n",
       "50,10000,5000   0.677360\n",
       "100,10000,5000  1.790241"
      ]
     },
     "execution_count": 5,
     "metadata": {},
     "output_type": "execute_result"
    }
   ],
   "source": [
    "df_seq_time"
   ]
  },
  {
   "cell_type": "code",
   "execution_count": 6,
   "metadata": {},
   "outputs": [
    {
     "data": {
      "text/html": [
       "<div>\n",
       "<style scoped>\n",
       "    .dataframe tbody tr th:only-of-type {\n",
       "        vertical-align: middle;\n",
       "    }\n",
       "\n",
       "    .dataframe tbody tr th {\n",
       "        vertical-align: top;\n",
       "    }\n",
       "\n",
       "    .dataframe thead th {\n",
       "        text-align: right;\n",
       "    }\n",
       "</style>\n",
       "<table border=\"1\" class=\"dataframe\">\n",
       "  <thead>\n",
       "    <tr style=\"text-align: right;\">\n",
       "      <th></th>\n",
       "      <th>0</th>\n",
       "    </tr>\n",
       "  </thead>\n",
       "  <tbody>\n",
       "    <tr>\n",
       "      <th>10,10000,5000</th>\n",
       "      <td>204.0</td>\n",
       "    </tr>\n",
       "    <tr>\n",
       "      <th>50,10000,5000</th>\n",
       "      <td>1145.0</td>\n",
       "    </tr>\n",
       "    <tr>\n",
       "      <th>100,10000,5000</th>\n",
       "      <td>2311.0</td>\n",
       "    </tr>\n",
       "  </tbody>\n",
       "</table>\n",
       "</div>"
      ],
      "text/plain": [
       "                     0\n",
       "10,10000,5000    204.0\n",
       "50,10000,5000   1145.0\n",
       "100,10000,5000  2311.0"
      ]
     },
     "execution_count": 6,
     "metadata": {},
     "output_type": "execute_result"
    }
   ],
   "source": [
    "df_seq_prec"
   ]
  },
  {
   "cell_type": "code",
   "execution_count": 7,
   "metadata": {},
   "outputs": [
    {
     "data": {
      "text/html": [
       "<div>\n",
       "<style scoped>\n",
       "    .dataframe tbody tr th:only-of-type {\n",
       "        vertical-align: middle;\n",
       "    }\n",
       "\n",
       "    .dataframe tbody tr th {\n",
       "        vertical-align: top;\n",
       "    }\n",
       "\n",
       "    .dataframe thead th {\n",
       "        text-align: right;\n",
       "    }\n",
       "</style>\n",
       "<table border=\"1\" class=\"dataframe\">\n",
       "  <thead>\n",
       "    <tr style=\"text-align: right;\">\n",
       "      <th></th>\n",
       "      <th>0</th>\n",
       "    </tr>\n",
       "  </thead>\n",
       "  <tbody>\n",
       "    <tr>\n",
       "      <th>10,10000,5000</th>\n",
       "      <td>True</td>\n",
       "    </tr>\n",
       "    <tr>\n",
       "      <th>50,10000,5000</th>\n",
       "      <td>True</td>\n",
       "    </tr>\n",
       "    <tr>\n",
       "      <th>100,10000,5000</th>\n",
       "      <td>True</td>\n",
       "    </tr>\n",
       "  </tbody>\n",
       "</table>\n",
       "</div>"
      ],
      "text/plain": [
       "                   0\n",
       "10,10000,5000   True\n",
       "50,10000,5000   True\n",
       "100,10000,5000  True"
      ]
     },
     "execution_count": 7,
     "metadata": {},
     "output_type": "execute_result"
    }
   ],
   "source": [
    "df_seq_conv"
   ]
  },
  {
   "cell_type": "code",
   "execution_count": 8,
   "metadata": {},
   "outputs": [
    {
     "data": {
      "image/png": "[encoded data removed]",
      "text/plain": [
       "<Figure size 432x288 with 1 Axes>"
      ]
     },
     "metadata": {},
     "output_type": "display_data"
    }
   ],
   "source": [
    "plt.plot(df_seq_prec);\n",
    "plt.legend(df_seq_prec.columns);"
   ]
  },
  {
   "cell_type": "markdown",
   "metadata": {},
   "source": [
    "### Parallel"
   ]
  },
  {
   "cell_type": "code",
   "execution_count": 9,
   "metadata": {},
   "outputs": [],
   "source": [
    "path = \"../results/total/parallel\"\n",
    "files = sorted(os.listdir(path))"
   ]
  },
  {
   "cell_type": "code",
   "execution_count": 10,
   "metadata": {},
   "outputs": [],
   "source": [
    "df_par_time,df_par_prec,df_par_conv = fill_dataFrame_total(path,files)"
   ]
  },
  {
   "cell_type": "code",
   "execution_count": 11,
   "metadata": {},
   "outputs": [
    {
     "data": {
      "text/html": [
       "<div>\n",
       "<style scoped>\n",
       "    .dataframe tbody tr th:only-of-type {\n",
       "        vertical-align: middle;\n",
       "    }\n",
       "\n",
       "    .dataframe tbody tr th {\n",
       "        vertical-align: top;\n",
       "    }\n",
       "\n",
       "    .dataframe thead th {\n",
       "        text-align: right;\n",
       "    }\n",
       "</style>\n",
       "<table border=\"1\" class=\"dataframe\">\n",
       "  <thead>\n",
       "    <tr style=\"text-align: right;\">\n",
       "      <th></th>\n",
       "      <th>0</th>\n",
       "    </tr>\n",
       "  </thead>\n",
       "  <tbody>\n",
       "    <tr>\n",
       "      <th>10,10000,5000</th>\n",
       "      <td>0.124000</td>\n",
       "    </tr>\n",
       "    <tr>\n",
       "      <th>50,10000,5000</th>\n",
       "      <td>0.322184</td>\n",
       "    </tr>\n",
       "    <tr>\n",
       "      <th>100,10000,5000</th>\n",
       "      <td>0.633308</td>\n",
       "    </tr>\n",
       "  </tbody>\n",
       "</table>\n",
       "</div>"
      ],
      "text/plain": [
       "                       0\n",
       "10,10000,5000   0.124000\n",
       "50,10000,5000   0.322184\n",
       "100,10000,5000  0.633308"
      ]
     },
     "execution_count": 11,
     "metadata": {},
     "output_type": "execute_result"
    }
   ],
   "source": [
    "df_par_time"
   ]
  },
  {
   "cell_type": "code",
   "execution_count": 12,
   "metadata": {},
   "outputs": [
    {
     "data": {
      "text/html": [
       "<div>\n",
       "<style scoped>\n",
       "    .dataframe tbody tr th:only-of-type {\n",
       "        vertical-align: middle;\n",
       "    }\n",
       "\n",
       "    .dataframe tbody tr th {\n",
       "        vertical-align: top;\n",
       "    }\n",
       "\n",
       "    .dataframe thead th {\n",
       "        text-align: right;\n",
       "    }\n",
       "</style>\n",
       "<table border=\"1\" class=\"dataframe\">\n",
       "  <thead>\n",
       "    <tr style=\"text-align: right;\">\n",
       "      <th></th>\n",
       "      <th>0</th>\n",
       "    </tr>\n",
       "  </thead>\n",
       "  <tbody>\n",
       "    <tr>\n",
       "      <th>10,10000,5000</th>\n",
       "      <td>204.0</td>\n",
       "    </tr>\n",
       "    <tr>\n",
       "      <th>50,10000,5000</th>\n",
       "      <td>992.0</td>\n",
       "    </tr>\n",
       "    <tr>\n",
       "      <th>100,10000,5000</th>\n",
       "      <td>2788.0</td>\n",
       "    </tr>\n",
       "  </tbody>\n",
       "</table>\n",
       "</div>"
      ],
      "text/plain": [
       "                     0\n",
       "10,10000,5000    204.0\n",
       "50,10000,5000    992.0\n",
       "100,10000,5000  2788.0"
      ]
     },
     "execution_count": 12,
     "metadata": {},
     "output_type": "execute_result"
    }
   ],
   "source": [
    "df_par_prec"
   ]
  },
  {
   "cell_type": "code",
   "execution_count": 13,
   "metadata": {},
   "outputs": [
    {
     "data": {
      "text/html": [
       "<div>\n",
       "<style scoped>\n",
       "    .dataframe tbody tr th:only-of-type {\n",
       "        vertical-align: middle;\n",
       "    }\n",
       "\n",
       "    .dataframe tbody tr th {\n",
       "        vertical-align: top;\n",
       "    }\n",
       "\n",
       "    .dataframe thead th {\n",
       "        text-align: right;\n",
       "    }\n",
       "</style>\n",
       "<table border=\"1\" class=\"dataframe\">\n",
       "  <thead>\n",
       "    <tr style=\"text-align: right;\">\n",
       "      <th></th>\n",
       "      <th>0</th>\n",
       "    </tr>\n",
       "  </thead>\n",
       "  <tbody>\n",
       "    <tr>\n",
       "      <th>10,10000,5000</th>\n",
       "      <td>True</td>\n",
       "    </tr>\n",
       "    <tr>\n",
       "      <th>50,10000,5000</th>\n",
       "      <td>True</td>\n",
       "    </tr>\n",
       "    <tr>\n",
       "      <th>100,10000,5000</th>\n",
       "      <td>True</td>\n",
       "    </tr>\n",
       "  </tbody>\n",
       "</table>\n",
       "</div>"
      ],
      "text/plain": [
       "                   0\n",
       "10,10000,5000   True\n",
       "50,10000,5000   True\n",
       "100,10000,5000  True"
      ]
     },
     "execution_count": 13,
     "metadata": {},
     "output_type": "execute_result"
    }
   ],
   "source": [
    "df_par_conv"
   ]
  },
  {
   "cell_type": "code",
   "execution_count": 14,
   "metadata": {},
   "outputs": [
    {
     "data": {
      "image/png": "[encoded data removed]",
      "text/plain": [
       "<Figure size 432x288 with 1 Axes>"
      ]
     },
     "metadata": {},
     "output_type": "display_data"
    }
   ],
   "source": [
    "plt.plot(df_par_prec);\n",
    "plt.legend(df_par_prec.columns);"
   ]
  },
  {
   "cell_type": "markdown",
   "metadata": {},
   "source": [
    "### Parallel MPI"
   ]
  },
  {
   "cell_type": "code",
   "execution_count": 15,
   "metadata": {},
   "outputs": [],
   "source": [
    "path = \"../results/total/parallelMPI\"\n",
    "files = sorted(os.listdir(path))"
   ]
  },
  {
   "cell_type": "code",
   "execution_count": 16,
   "metadata": {},
   "outputs": [],
   "source": [
    "df_mpi_time,df_mpi_prec,df_mpi_conv = fill_dataFrame_total(path,files)"
   ]
  },
  {
   "cell_type": "code",
   "execution_count": 17,
   "metadata": {},
   "outputs": [
    {
     "data": {
      "text/html": [
       "<div>\n",
       "<style scoped>\n",
       "    .dataframe tbody tr th:only-of-type {\n",
       "        vertical-align: middle;\n",
       "    }\n",
       "\n",
       "    .dataframe tbody tr th {\n",
       "        vertical-align: top;\n",
       "    }\n",
       "\n",
       "    .dataframe thead th {\n",
       "        text-align: right;\n",
       "    }\n",
       "</style>\n",
       "<table border=\"1\" class=\"dataframe\">\n",
       "  <thead>\n",
       "    <tr style=\"text-align: right;\">\n",
       "      <th></th>\n",
       "      <th>0</th>\n",
       "      <th>1</th>\n",
       "      <th>2</th>\n",
       "      <th>3</th>\n",
       "    </tr>\n",
       "  </thead>\n",
       "  <tbody>\n",
       "    <tr>\n",
       "      <th>10,10000,5000</th>\n",
       "      <td>0.565341</td>\n",
       "      <td>0.550870</td>\n",
       "      <td>0.546755</td>\n",
       "      <td>0.536641</td>\n",
       "    </tr>\n",
       "    <tr>\n",
       "      <th>50,10000,5000</th>\n",
       "      <td>1.362287</td>\n",
       "      <td>1.374145</td>\n",
       "      <td>1.350046</td>\n",
       "      <td>1.344589</td>\n",
       "    </tr>\n",
       "    <tr>\n",
       "      <th>100,10000,5000</th>\n",
       "      <td>2.882608</td>\n",
       "      <td>2.859286</td>\n",
       "      <td>2.906264</td>\n",
       "      <td>2.896500</td>\n",
       "    </tr>\n",
       "  </tbody>\n",
       "</table>\n",
       "</div>"
      ],
      "text/plain": [
       "                       0         1         2         3\n",
       "10,10000,5000   0.565341  0.550870  0.546755  0.536641\n",
       "50,10000,5000   1.362287  1.374145  1.350046  1.344589\n",
       "100,10000,5000  2.882608  2.859286  2.906264  2.896500"
      ]
     },
     "execution_count": 17,
     "metadata": {},
     "output_type": "execute_result"
    }
   ],
   "source": [
    "df_mpi_time"
   ]
  },
  {
   "cell_type": "code",
   "execution_count": 18,
   "metadata": {},
   "outputs": [
    {
     "data": {
      "text/html": [
       "<div>\n",
       "<style scoped>\n",
       "    .dataframe tbody tr th:only-of-type {\n",
       "        vertical-align: middle;\n",
       "    }\n",
       "\n",
       "    .dataframe tbody tr th {\n",
       "        vertical-align: top;\n",
       "    }\n",
       "\n",
       "    .dataframe thead th {\n",
       "        text-align: right;\n",
       "    }\n",
       "</style>\n",
       "<table border=\"1\" class=\"dataframe\">\n",
       "  <thead>\n",
       "    <tr style=\"text-align: right;\">\n",
       "      <th></th>\n",
       "      <th>0</th>\n",
       "      <th>1</th>\n",
       "      <th>2</th>\n",
       "      <th>3</th>\n",
       "    </tr>\n",
       "  </thead>\n",
       "  <tbody>\n",
       "    <tr>\n",
       "      <th>10,10000,5000</th>\n",
       "      <td>204.0</td>\n",
       "      <td>204.0</td>\n",
       "      <td>204.0</td>\n",
       "      <td>204.0</td>\n",
       "    </tr>\n",
       "    <tr>\n",
       "      <th>50,10000,5000</th>\n",
       "      <td>1014.0</td>\n",
       "      <td>958.0</td>\n",
       "      <td>968.0</td>\n",
       "      <td>1008.0</td>\n",
       "    </tr>\n",
       "    <tr>\n",
       "      <th>100,10000,5000</th>\n",
       "      <td>2221.0</td>\n",
       "      <td>2078.0</td>\n",
       "      <td>2221.0</td>\n",
       "      <td>2221.0</td>\n",
       "    </tr>\n",
       "  </tbody>\n",
       "</table>\n",
       "</div>"
      ],
      "text/plain": [
       "                     0       1       2       3\n",
       "10,10000,5000    204.0   204.0   204.0   204.0\n",
       "50,10000,5000   1014.0   958.0   968.0  1008.0\n",
       "100,10000,5000  2221.0  2078.0  2221.0  2221.0"
      ]
     },
     "execution_count": 18,
     "metadata": {},
     "output_type": "execute_result"
    }
   ],
   "source": [
    "df_mpi_prec"
   ]
  },
  {
   "cell_type": "code",
   "execution_count": 19,
   "metadata": {},
   "outputs": [
    {
     "data": {
      "text/html": [
       "<div>\n",
       "<style scoped>\n",
       "    .dataframe tbody tr th:only-of-type {\n",
       "        vertical-align: middle;\n",
       "    }\n",
       "\n",
       "    .dataframe tbody tr th {\n",
       "        vertical-align: top;\n",
       "    }\n",
       "\n",
       "    .dataframe thead th {\n",
       "        text-align: right;\n",
       "    }\n",
       "</style>\n",
       "<table border=\"1\" class=\"dataframe\">\n",
       "  <thead>\n",
       "    <tr style=\"text-align: right;\">\n",
       "      <th></th>\n",
       "      <th>0</th>\n",
       "      <th>1</th>\n",
       "      <th>2</th>\n",
       "      <th>3</th>\n",
       "    </tr>\n",
       "  </thead>\n",
       "  <tbody>\n",
       "    <tr>\n",
       "      <th>10,10000,5000</th>\n",
       "      <td>True</td>\n",
       "      <td>True</td>\n",
       "      <td>True</td>\n",
       "      <td>True</td>\n",
       "    </tr>\n",
       "    <tr>\n",
       "      <th>50,10000,5000</th>\n",
       "      <td>True</td>\n",
       "      <td>True</td>\n",
       "      <td>True</td>\n",
       "      <td>True</td>\n",
       "    </tr>\n",
       "    <tr>\n",
       "      <th>100,10000,5000</th>\n",
       "      <td>True</td>\n",
       "      <td>True</td>\n",
       "      <td>True</td>\n",
       "      <td>True</td>\n",
       "    </tr>\n",
       "  </tbody>\n",
       "</table>\n",
       "</div>"
      ],
      "text/plain": [
       "                   0     1     2     3\n",
       "10,10000,5000   True  True  True  True\n",
       "50,10000,5000   True  True  True  True\n",
       "100,10000,5000  True  True  True  True"
      ]
     },
     "execution_count": 19,
     "metadata": {},
     "output_type": "execute_result"
    }
   ],
   "source": [
    "df_mpi_conv"
   ]
  },
  {
   "cell_type": "code",
   "execution_count": 21,
   "metadata": {},
   "outputs": [
    {
     "data": {
      "image/png": "[encoded data removed]",
      "text/plain": [
       "<Figure size 432x288 with 1 Axes>"
      ]
     },
     "metadata": {},
     "output_type": "display_data"
    }
   ],
   "source": [
    "plt.plot(df_mpi_prec);\n",
    "plt.legend(df_mpi_prec.columns);"
   ]
  },
  {
   "cell_type": "markdown",
   "metadata": {},
   "source": [
    "## Detailed Cost"
   ]
  },
  {
   "cell_type": "code",
   "execution_count": 22,
   "metadata": {},
   "outputs": [],
   "source": [
    "def fill_dataFrame_detailed(path, files):\n",
    "    df = pd.DataFrame()\n",
    "    for file in files:\n",
    "        with open(os.path.join(path,file)) as f:\n",
    "            col = file.split('.')[0]\n",
    "            for line in f:\n",
    "                vals = line.split(' ')\n",
    "                row = vals[0]+','+vals[1]+','+vals[2]\n",
    "                try:\n",
    "                    df.loc[row,col] += ' '+vals[3][:-1]\n",
    "                except KeyError:\n",
    "                    df.loc[row,col] = vals[3][:-1]\n",
    "                except TypeError:\n",
    "                    df.loc[row,col] = vals[3][:-1]\n",
    "    return df"
   ]
  },
  {
   "cell_type": "markdown",
   "metadata": {},
   "source": [
    "### Sequential"
   ]
  },
  {
   "cell_type": "code",
   "execution_count": 23,
   "metadata": {},
   "outputs": [],
   "source": [
    "path = \"../results/detailed/sequential\"\n",
    "genFiles = sorted([i for i in os.listdir(path) if \"generation\" in i])\n",
    "pathFiles = sorted([i for i in os.listdir(path) if \"path\" in i])\n",
    "rearrFiles = sorted([i for i in os.listdir(path) if \"rearrange\" in i])\n",
    "sortFiles = sorted([i for i in os.listdir(path) if \"sort\" in i])"
   ]
  },
  {
   "cell_type": "code",
   "execution_count": 24,
   "metadata": {
    "scrolled": true
   },
   "outputs": [
    {
     "data": {
      "text/html": [
       "<div>\n",
       "<style scoped>\n",
       "    .dataframe tbody tr th:only-of-type {\n",
       "        vertical-align: middle;\n",
       "    }\n",
       "\n",
       "    .dataframe tbody tr th {\n",
       "        vertical-align: top;\n",
       "    }\n",
       "\n",
       "    .dataframe thead th {\n",
       "        text-align: right;\n",
       "    }\n",
       "</style>\n",
       "<table border=\"1\" class=\"dataframe\">\n",
       "  <thead>\n",
       "    <tr style=\"text-align: right;\">\n",
       "      <th></th>\n",
       "      <th>generation_0</th>\n",
       "    </tr>\n",
       "  </thead>\n",
       "  <tbody>\n",
       "    <tr>\n",
       "      <th>10,10000,5000</th>\n",
       "      <td>0.002105 0.002055 0.002043 0.002043 0.002043 0...</td>\n",
       "    </tr>\n",
       "    <tr>\n",
       "      <th>50,10000,5000</th>\n",
       "      <td>0.015063 0.014828 0.014824 0.014818 0.014810 0...</td>\n",
       "    </tr>\n",
       "    <tr>\n",
       "      <th>100,10000,5000</th>\n",
       "      <td>0.033577 0.033281 0.033297 0.033300 0.033285 0...</td>\n",
       "    </tr>\n",
       "  </tbody>\n",
       "</table>\n",
       "</div>"
      ],
      "text/plain": [
       "                                                     generation_0\n",
       "10,10000,5000   0.002105 0.002055 0.002043 0.002043 0.002043 0...\n",
       "50,10000,5000   0.015063 0.014828 0.014824 0.014818 0.014810 0...\n",
       "100,10000,5000  0.033577 0.033281 0.033297 0.033300 0.033285 0..."
      ]
     },
     "execution_count": 24,
     "metadata": {},
     "output_type": "execute_result"
    }
   ],
   "source": [
    "df_gen = fill_dataFrame_detailed(path,genFiles)\n",
    "df_gen"
   ]
  },
  {
   "cell_type": "code",
   "execution_count": 25,
   "metadata": {},
   "outputs": [
    {
     "data": {
      "text/plain": [
       "28"
      ]
     },
     "execution_count": 25,
     "metadata": {},
     "output_type": "execute_result"
    }
   ],
   "source": [
    "len(df_gen.iloc[0,0].split(' '))"
   ]
  },
  {
   "cell_type": "code",
   "execution_count": 26,
   "metadata": {},
   "outputs": [
    {
     "data": {
      "text/html": [
       "<div>\n",
       "<style scoped>\n",
       "    .dataframe tbody tr th:only-of-type {\n",
       "        vertical-align: middle;\n",
       "    }\n",
       "\n",
       "    .dataframe tbody tr th {\n",
       "        vertical-align: top;\n",
       "    }\n",
       "\n",
       "    .dataframe thead th {\n",
       "        text-align: right;\n",
       "    }\n",
       "</style>\n",
       "<table border=\"1\" class=\"dataframe\">\n",
       "  <thead>\n",
       "    <tr style=\"text-align: right;\">\n",
       "      <th></th>\n",
       "      <th>path_0</th>\n",
       "    </tr>\n",
       "  </thead>\n",
       "  <tbody>\n",
       "    <tr>\n",
       "      <th>10,10000,5000</th>\n",
       "      <td>0.000170 0.000147 0.000147 0.000147 0.000147 0...</td>\n",
       "    </tr>\n",
       "    <tr>\n",
       "      <th>50,10000,5000</th>\n",
       "      <td>0.000721 0.000696 0.000694 0.000694 0.000695 0...</td>\n",
       "    </tr>\n",
       "    <tr>\n",
       "      <th>100,10000,5000</th>\n",
       "      <td>0.001403 0.001365 0.001362 0.001362 0.001364 0...</td>\n",
       "    </tr>\n",
       "  </tbody>\n",
       "</table>\n",
       "</div>"
      ],
      "text/plain": [
       "                                                           path_0\n",
       "10,10000,5000   0.000170 0.000147 0.000147 0.000147 0.000147 0...\n",
       "50,10000,5000   0.000721 0.000696 0.000694 0.000694 0.000695 0...\n",
       "100,10000,5000  0.001403 0.001365 0.001362 0.001362 0.001364 0..."
      ]
     },
     "execution_count": 26,
     "metadata": {},
     "output_type": "execute_result"
    }
   ],
   "source": [
    "df_path = fill_dataFrame_detailed(path,pathFiles)\n",
    "df_path"
   ]
  },
  {
   "cell_type": "code",
   "execution_count": 27,
   "metadata": {},
   "outputs": [
    {
     "data": {
      "text/plain": [
       "29"
      ]
     },
     "execution_count": 27,
     "metadata": {},
     "output_type": "execute_result"
    }
   ],
   "source": [
    "len(df_path.iloc[0,0].split(' '))"
   ]
  },
  {
   "cell_type": "code",
   "execution_count": 28,
   "metadata": {},
   "outputs": [
    {
     "data": {
      "text/html": [
       "<div>\n",
       "<style scoped>\n",
       "    .dataframe tbody tr th:only-of-type {\n",
       "        vertical-align: middle;\n",
       "    }\n",
       "\n",
       "    .dataframe tbody tr th {\n",
       "        vertical-align: top;\n",
       "    }\n",
       "\n",
       "    .dataframe thead th {\n",
       "        text-align: right;\n",
       "    }\n",
       "</style>\n",
       "<table border=\"1\" class=\"dataframe\">\n",
       "  <thead>\n",
       "    <tr style=\"text-align: right;\">\n",
       "      <th></th>\n",
       "      <th>rearrange_0</th>\n",
       "    </tr>\n",
       "  </thead>\n",
       "  <tbody>\n",
       "    <tr>\n",
       "      <th>10,10000,5000</th>\n",
       "      <td>0.000060 0.000030 0.000030 0.000029 0.000029 0...</td>\n",
       "    </tr>\n",
       "    <tr>\n",
       "      <th>50,10000,5000</th>\n",
       "      <td>0.000268 0.000105 0.000104 0.000103 0.000102 0...</td>\n",
       "    </tr>\n",
       "    <tr>\n",
       "      <th>100,10000,5000</th>\n",
       "      <td>0.000332 0.000161 0.000161 0.000157 0.000156 0...</td>\n",
       "    </tr>\n",
       "  </tbody>\n",
       "</table>\n",
       "</div>"
      ],
      "text/plain": [
       "                                                      rearrange_0\n",
       "10,10000,5000   0.000060 0.000030 0.000030 0.000029 0.000029 0...\n",
       "50,10000,5000   0.000268 0.000105 0.000104 0.000103 0.000102 0...\n",
       "100,10000,5000  0.000332 0.000161 0.000161 0.000157 0.000156 0..."
      ]
     },
     "execution_count": 28,
     "metadata": {},
     "output_type": "execute_result"
    }
   ],
   "source": [
    "df_rearr = fill_dataFrame_detailed(path, rearrFiles)\n",
    "df_rearr"
   ]
  },
  {
   "cell_type": "code",
   "execution_count": 29,
   "metadata": {},
   "outputs": [
    {
     "data": {
      "text/plain": [
       "29"
      ]
     },
     "execution_count": 29,
     "metadata": {},
     "output_type": "execute_result"
    }
   ],
   "source": [
    "len(df_rearr.iloc[0,0].split(' '))"
   ]
  },
  {
   "cell_type": "code",
   "execution_count": 30,
   "metadata": {},
   "outputs": [
    {
     "data": {
      "text/html": [
       "<div>\n",
       "<style scoped>\n",
       "    .dataframe tbody tr th:only-of-type {\n",
       "        vertical-align: middle;\n",
       "    }\n",
       "\n",
       "    .dataframe tbody tr th {\n",
       "        vertical-align: top;\n",
       "    }\n",
       "\n",
       "    .dataframe thead th {\n",
       "        text-align: right;\n",
       "    }\n",
       "</style>\n",
       "<table border=\"1\" class=\"dataframe\">\n",
       "  <thead>\n",
       "    <tr style=\"text-align: right;\">\n",
       "      <th></th>\n",
       "      <th>sort_0</th>\n",
       "    </tr>\n",
       "  </thead>\n",
       "  <tbody>\n",
       "    <tr>\n",
       "      <th>10,10000,5000</th>\n",
       "      <td>0.000723 0.000506 0.000495 0.000494 0.000493 0...</td>\n",
       "    </tr>\n",
       "    <tr>\n",
       "      <th>50,10000,5000</th>\n",
       "      <td>0.000751 0.000526 0.000512 0.000510 0.000507 0...</td>\n",
       "    </tr>\n",
       "    <tr>\n",
       "      <th>100,10000,5000</th>\n",
       "      <td>0.000754 0.000528 0.000514 0.000514 0.000510 0...</td>\n",
       "    </tr>\n",
       "  </tbody>\n",
       "</table>\n",
       "</div>"
      ],
      "text/plain": [
       "                                                           sort_0\n",
       "10,10000,5000   0.000723 0.000506 0.000495 0.000494 0.000493 0...\n",
       "50,10000,5000   0.000751 0.000526 0.000512 0.000510 0.000507 0...\n",
       "100,10000,5000  0.000754 0.000528 0.000514 0.000514 0.000510 0..."
      ]
     },
     "execution_count": 30,
     "metadata": {},
     "output_type": "execute_result"
    }
   ],
   "source": [
    "df_sort = fill_dataFrame_detailed(path, sortFiles)\n",
    "df_sort"
   ]
  },
  {
   "cell_type": "code",
   "execution_count": 31,
   "metadata": {},
   "outputs": [
    {
     "data": {
      "text/plain": [
       "29"
      ]
     },
     "execution_count": 31,
     "metadata": {},
     "output_type": "execute_result"
    }
   ],
   "source": [
    "len(df_sort.iloc[0,0].split(' '))"
   ]
  },
  {
   "cell_type": "markdown",
   "metadata": {},
   "source": [
    "### Parallel"
   ]
  },
  {
   "cell_type": "code",
   "execution_count": 32,
   "metadata": {},
   "outputs": [],
   "source": [
    "path = \"../results/detailed/parallel\"\n",
    "genFiles = sorted([i for i in os.listdir(path) if \"generation\" in i])\n",
    "pathFiles = sorted([i for i in os.listdir(path) if \"path\" in i])\n",
    "rearrFiles = sorted([i for i in os.listdir(path) if \"rearrange\" in i])\n",
    "sortFiles = sorted([i for i in os.listdir(path) if \"sort\" in i])"
   ]
  },
  {
   "cell_type": "code",
   "execution_count": 33,
   "metadata": {
    "scrolled": true
   },
   "outputs": [
    {
     "data": {
      "text/html": [
       "<div>\n",
       "<style scoped>\n",
       "    .dataframe tbody tr th:only-of-type {\n",
       "        vertical-align: middle;\n",
       "    }\n",
       "\n",
       "    .dataframe tbody tr th {\n",
       "        vertical-align: top;\n",
       "    }\n",
       "\n",
       "    .dataframe thead th {\n",
       "        text-align: right;\n",
       "    }\n",
       "</style>\n",
       "<table border=\"1\" class=\"dataframe\">\n",
       "  <thead>\n",
       "    <tr style=\"text-align: right;\">\n",
       "      <th></th>\n",
       "      <th>generation_0</th>\n",
       "    </tr>\n",
       "  </thead>\n",
       "  <tbody>\n",
       "    <tr>\n",
       "      <th>10,10000,5000</th>\n",
       "      <td>0.004018 0.004053 0.004005 0.003981 0.004031 0...</td>\n",
       "    </tr>\n",
       "    <tr>\n",
       "      <th>50,10000,5000</th>\n",
       "      <td>0.006249 0.006218 0.006205 0.006232 0.006235 0...</td>\n",
       "    </tr>\n",
       "    <tr>\n",
       "      <th>100,10000,5000</th>\n",
       "      <td>0.011708 0.012038 0.012073 0.012316 0.011639 0...</td>\n",
       "    </tr>\n",
       "  </tbody>\n",
       "</table>\n",
       "</div>"
      ],
      "text/plain": [
       "                                                     generation_0\n",
       "10,10000,5000   0.004018 0.004053 0.004005 0.003981 0.004031 0...\n",
       "50,10000,5000   0.006249 0.006218 0.006205 0.006232 0.006235 0...\n",
       "100,10000,5000  0.011708 0.012038 0.012073 0.012316 0.011639 0..."
      ]
     },
     "execution_count": 33,
     "metadata": {},
     "output_type": "execute_result"
    }
   ],
   "source": [
    "df_gen = fill_dataFrame_detailed(path,genFiles)\n",
    "df_gen"
   ]
  },
  {
   "cell_type": "code",
   "execution_count": 34,
   "metadata": {},
   "outputs": [
    {
     "data": {
      "text/plain": [
       "28"
      ]
     },
     "execution_count": 34,
     "metadata": {},
     "output_type": "execute_result"
    }
   ],
   "source": [
    "len(df_gen.iloc[0,0].split(' '))"
   ]
  },
  {
   "cell_type": "code",
   "execution_count": 35,
   "metadata": {},
   "outputs": [
    {
     "data": {
      "text/html": [
       "<div>\n",
       "<style scoped>\n",
       "    .dataframe tbody tr th:only-of-type {\n",
       "        vertical-align: middle;\n",
       "    }\n",
       "\n",
       "    .dataframe tbody tr th {\n",
       "        vertical-align: top;\n",
       "    }\n",
       "\n",
       "    .dataframe thead th {\n",
       "        text-align: right;\n",
       "    }\n",
       "</style>\n",
       "<table border=\"1\" class=\"dataframe\">\n",
       "  <thead>\n",
       "    <tr style=\"text-align: right;\">\n",
       "      <th></th>\n",
       "      <th>path_0</th>\n",
       "    </tr>\n",
       "  </thead>\n",
       "  <tbody>\n",
       "    <tr>\n",
       "      <th>10,10000,5000</th>\n",
       "      <td>0.000102 0.000040 0.000036 0.000035 0.000035 0...</td>\n",
       "    </tr>\n",
       "    <tr>\n",
       "      <th>50,10000,5000</th>\n",
       "      <td>0.000242 0.000177 0.000177 0.000179 0.000177 0...</td>\n",
       "    </tr>\n",
       "    <tr>\n",
       "      <th>100,10000,5000</th>\n",
       "      <td>0.000419 0.000347 0.000348 0.000350 0.000348 0...</td>\n",
       "    </tr>\n",
       "  </tbody>\n",
       "</table>\n",
       "</div>"
      ],
      "text/plain": [
       "                                                           path_0\n",
       "10,10000,5000   0.000102 0.000040 0.000036 0.000035 0.000035 0...\n",
       "50,10000,5000   0.000242 0.000177 0.000177 0.000179 0.000177 0...\n",
       "100,10000,5000  0.000419 0.000347 0.000348 0.000350 0.000348 0..."
      ]
     },
     "execution_count": 35,
     "metadata": {},
     "output_type": "execute_result"
    }
   ],
   "source": [
    "df_path = fill_dataFrame_detailed(path, pathFiles)\n",
    "df_path"
   ]
  },
  {
   "cell_type": "code",
   "execution_count": 36,
   "metadata": {},
   "outputs": [
    {
     "data": {
      "text/plain": [
       "29"
      ]
     },
     "execution_count": 36,
     "metadata": {},
     "output_type": "execute_result"
    }
   ],
   "source": [
    "len(df_path.iloc[0,0].split(' '))"
   ]
  },
  {
   "cell_type": "code",
   "execution_count": 37,
   "metadata": {},
   "outputs": [
    {
     "data": {
      "text/html": [
       "<div>\n",
       "<style scoped>\n",
       "    .dataframe tbody tr th:only-of-type {\n",
       "        vertical-align: middle;\n",
       "    }\n",
       "\n",
       "    .dataframe tbody tr th {\n",
       "        vertical-align: top;\n",
       "    }\n",
       "\n",
       "    .dataframe thead th {\n",
       "        text-align: right;\n",
       "    }\n",
       "</style>\n",
       "<table border=\"1\" class=\"dataframe\">\n",
       "  <thead>\n",
       "    <tr style=\"text-align: right;\">\n",
       "      <th></th>\n",
       "      <th>rearrange_0</th>\n",
       "    </tr>\n",
       "  </thead>\n",
       "  <tbody>\n",
       "    <tr>\n",
       "      <th>10,10000,5000</th>\n",
       "      <td>0.000062 0.000036 0.000043 0.000041 0.000038 0...</td>\n",
       "    </tr>\n",
       "    <tr>\n",
       "      <th>50,10000,5000</th>\n",
       "      <td>0.000273 0.000129 0.000157 0.000156 0.000154 0...</td>\n",
       "    </tr>\n",
       "    <tr>\n",
       "      <th>100,10000,5000</th>\n",
       "      <td>0.000442 0.000196 0.000223 0.000223 0.000222 0...</td>\n",
       "    </tr>\n",
       "  </tbody>\n",
       "</table>\n",
       "</div>"
      ],
      "text/plain": [
       "                                                      rearrange_0\n",
       "10,10000,5000   0.000062 0.000036 0.000043 0.000041 0.000038 0...\n",
       "50,10000,5000   0.000273 0.000129 0.000157 0.000156 0.000154 0...\n",
       "100,10000,5000  0.000442 0.000196 0.000223 0.000223 0.000222 0..."
      ]
     },
     "execution_count": 37,
     "metadata": {},
     "output_type": "execute_result"
    }
   ],
   "source": [
    "df_rearr = fill_dataFrame_detailed(path, rearrFiles)\n",
    "df_rearr"
   ]
  },
  {
   "cell_type": "code",
   "execution_count": 38,
   "metadata": {},
   "outputs": [
    {
     "data": {
      "text/plain": [
       "29"
      ]
     },
     "execution_count": 38,
     "metadata": {},
     "output_type": "execute_result"
    }
   ],
   "source": [
    "len(df_rearr.iloc[0,0].split(' '))"
   ]
  },
  {
   "cell_type": "code",
   "execution_count": 39,
   "metadata": {},
   "outputs": [
    {
     "data": {
      "text/html": [
       "<div>\n",
       "<style scoped>\n",
       "    .dataframe tbody tr th:only-of-type {\n",
       "        vertical-align: middle;\n",
       "    }\n",
       "\n",
       "    .dataframe tbody tr th {\n",
       "        vertical-align: top;\n",
       "    }\n",
       "\n",
       "    .dataframe thead th {\n",
       "        text-align: right;\n",
       "    }\n",
       "</style>\n",
       "<table border=\"1\" class=\"dataframe\">\n",
       "  <thead>\n",
       "    <tr style=\"text-align: right;\">\n",
       "      <th></th>\n",
       "      <th>sort_0</th>\n",
       "    </tr>\n",
       "  </thead>\n",
       "  <tbody>\n",
       "    <tr>\n",
       "      <th>10,10000,5000</th>\n",
       "      <td>0.000241 0.000220 0.000213 0.000210 0.000206 0...</td>\n",
       "    </tr>\n",
       "    <tr>\n",
       "      <th>50,10000,5000</th>\n",
       "      <td>0.000247 0.000234 0.000232 0.000229 0.000225 0...</td>\n",
       "    </tr>\n",
       "    <tr>\n",
       "      <th>100,10000,5000</th>\n",
       "      <td>0.000250 0.000239 0.000229 0.000237 0.000234 0...</td>\n",
       "    </tr>\n",
       "  </tbody>\n",
       "</table>\n",
       "</div>"
      ],
      "text/plain": [
       "                                                           sort_0\n",
       "10,10000,5000   0.000241 0.000220 0.000213 0.000210 0.000206 0...\n",
       "50,10000,5000   0.000247 0.000234 0.000232 0.000229 0.000225 0...\n",
       "100,10000,5000  0.000250 0.000239 0.000229 0.000237 0.000234 0..."
      ]
     },
     "execution_count": 39,
     "metadata": {},
     "output_type": "execute_result"
    }
   ],
   "source": [
    "df_sort = fill_dataFrame_detailed(path, sortFiles)\n",
    "df_sort"
   ]
  },
  {
   "cell_type": "code",
   "execution_count": 40,
   "metadata": {},
   "outputs": [
    {
     "data": {
      "text/plain": [
       "29"
      ]
     },
     "execution_count": 40,
     "metadata": {},
     "output_type": "execute_result"
    }
   ],
   "source": [
    "len(df_sort.iloc[0,0].split(' '))"
   ]
  },
  {
   "cell_type": "markdown",
   "metadata": {},
   "source": [
    "### Parallel MPI"
   ]
  },
  {
   "cell_type": "code",
   "execution_count": 41,
   "metadata": {},
   "outputs": [],
   "source": [
    "path = \"../results/detailed/parallelMPI\"\n",
    "genFiles = sorted([i for i in os.listdir(path) if \"generation\" in i])\n",
    "pathFiles = sorted([i for i in os.listdir(path) if \"path\" in i])\n",
    "rearrFiles = sorted([i for i in os.listdir(path) if \"rearrange\" in i])\n",
    "sortFiles = sorted([i for i in os.listdir(path) if \"sort\" in i])\n",
    "transFiles = sorted([i for i in os.listdir(path) if \"transfer\" in i])"
   ]
  },
  {
   "cell_type": "code",
   "execution_count": 42,
   "metadata": {
    "scrolled": true
   },
   "outputs": [
    {
     "data": {
      "text/html": [
       "<div>\n",
       "<style scoped>\n",
       "    .dataframe tbody tr th:only-of-type {\n",
       "        vertical-align: middle;\n",
       "    }\n",
       "\n",
       "    .dataframe tbody tr th {\n",
       "        vertical-align: top;\n",
       "    }\n",
       "\n",
       "    .dataframe thead th {\n",
       "        text-align: right;\n",
       "    }\n",
       "</style>\n",
       "<table border=\"1\" class=\"dataframe\">\n",
       "  <thead>\n",
       "    <tr style=\"text-align: right;\">\n",
       "      <th></th>\n",
       "      <th>generation_0</th>\n",
       "      <th>generation_1</th>\n",
       "      <th>generation_2</th>\n",
       "      <th>generation_3</th>\n",
       "    </tr>\n",
       "  </thead>\n",
       "  <tbody>\n",
       "    <tr>\n",
       "      <th>10,10000,5000</th>\n",
       "      <td>0.007053 0.007526 0.005232 0.003383 0.004779 0...</td>\n",
       "      <td>0.008255 0.005544 0.005941 0.005770 0.008236 0...</td>\n",
       "      <td>0.006735 0.004584 0.004717 0.003639 0.005411 0...</td>\n",
       "      <td>0.006262 0.007882 0.006173 0.009024 0.007306 0...</td>\n",
       "    </tr>\n",
       "    <tr>\n",
       "      <th>50,10000,5000</th>\n",
       "      <td>0.012600 0.022974 0.013497 0.010573 0.010014 0...</td>\n",
       "      <td>0.016508 0.021330 0.012876 0.014394 0.016074 0...</td>\n",
       "      <td>0.017814 0.011150 0.014148 0.016168 0.011780 0...</td>\n",
       "      <td>0.017361 0.018787 0.015812 0.023027 0.017234 0...</td>\n",
       "    </tr>\n",
       "    <tr>\n",
       "      <th>100,10000,5000</th>\n",
       "      <td>0.037245 0.024286 0.020791 0.025156 0.038369 0...</td>\n",
       "      <td>0.033297 0.022472 0.028880 0.025561 0.024995 0...</td>\n",
       "      <td>0.023367 0.034380 0.035428 0.030651 0.033487 0...</td>\n",
       "      <td>0.027510 0.033155 0.022000 0.036702 0.031645 0...</td>\n",
       "    </tr>\n",
       "  </tbody>\n",
       "</table>\n",
       "</div>"
      ],
      "text/plain": [
       "                                                     generation_0  \\\n",
       "10,10000,5000   0.007053 0.007526 0.005232 0.003383 0.004779 0...   \n",
       "50,10000,5000   0.012600 0.022974 0.013497 0.010573 0.010014 0...   \n",
       "100,10000,5000  0.037245 0.024286 0.020791 0.025156 0.038369 0...   \n",
       "\n",
       "                                                     generation_1  \\\n",
       "10,10000,5000   0.008255 0.005544 0.005941 0.005770 0.008236 0...   \n",
       "50,10000,5000   0.016508 0.021330 0.012876 0.014394 0.016074 0...   \n",
       "100,10000,5000  0.033297 0.022472 0.028880 0.025561 0.024995 0...   \n",
       "\n",
       "                                                     generation_2  \\\n",
       "10,10000,5000   0.006735 0.004584 0.004717 0.003639 0.005411 0...   \n",
       "50,10000,5000   0.017814 0.011150 0.014148 0.016168 0.011780 0...   \n",
       "100,10000,5000  0.023367 0.034380 0.035428 0.030651 0.033487 0...   \n",
       "\n",
       "                                                     generation_3  \n",
       "10,10000,5000   0.006262 0.007882 0.006173 0.009024 0.007306 0...  \n",
       "50,10000,5000   0.017361 0.018787 0.015812 0.023027 0.017234 0...  \n",
       "100,10000,5000  0.027510 0.033155 0.022000 0.036702 0.031645 0...  "
      ]
     },
     "execution_count": 42,
     "metadata": {},
     "output_type": "execute_result"
    }
   ],
   "source": [
    "df_gen = fill_dataFrame_detailed(path, genFiles)\n",
    "df_gen"
   ]
  },
  {
   "cell_type": "code",
   "execution_count": 43,
   "metadata": {},
   "outputs": [
    {
     "data": {
      "text/plain": [
       "36"
      ]
     },
     "execution_count": 43,
     "metadata": {},
     "output_type": "execute_result"
    }
   ],
   "source": [
    "len(df_gen.iloc[0,0].split(' '))"
   ]
  },
  {
   "cell_type": "code",
   "execution_count": 44,
   "metadata": {},
   "outputs": [
    {
     "data": {
      "text/html": [
       "<div>\n",
       "<style scoped>\n",
       "    .dataframe tbody tr th:only-of-type {\n",
       "        vertical-align: middle;\n",
       "    }\n",
       "\n",
       "    .dataframe tbody tr th {\n",
       "        vertical-align: top;\n",
       "    }\n",
       "\n",
       "    .dataframe thead th {\n",
       "        text-align: right;\n",
       "    }\n",
       "</style>\n",
       "<table border=\"1\" class=\"dataframe\">\n",
       "  <thead>\n",
       "    <tr style=\"text-align: right;\">\n",
       "      <th></th>\n",
       "      <th>path_0</th>\n",
       "      <th>path_1</th>\n",
       "      <th>path_2</th>\n",
       "      <th>path_3</th>\n",
       "    </tr>\n",
       "  </thead>\n",
       "  <tbody>\n",
       "    <tr>\n",
       "      <th>10,10000,5000</th>\n",
       "      <td>0.004972 0.004894 0.006088 0.006777 0.002473 0...</td>\n",
       "      <td>0.004931 0.000199 0.002895 0.007867 0.003707 0...</td>\n",
       "      <td>0.006346 0.003388 0.000037 0.006919 0.003831 0...</td>\n",
       "      <td>0.003724 0.002075 0.004004 0.002443 0.003391 0...</td>\n",
       "    </tr>\n",
       "    <tr>\n",
       "      <th>50,10000,5000</th>\n",
       "      <td>0.005309 0.010773 0.004900 0.007059 0.000177 0...</td>\n",
       "      <td>0.005397 0.007080 0.003539 0.006814 0.009266 0...</td>\n",
       "      <td>0.004049 0.000183 0.002760 0.002060 0.004056 0...</td>\n",
       "      <td>0.009454 0.005335 0.003605 0.002702 0.006265 0...</td>\n",
       "    </tr>\n",
       "    <tr>\n",
       "      <th>100,10000,5000</th>\n",
       "      <td>0.005917 0.003117 0.004326 0.013634 0.004314 0...</td>\n",
       "      <td>0.013122 0.003346 0.004766 0.003312 0.003107 0...</td>\n",
       "      <td>0.005918 0.005269 0.008686 0.005847 0.005259 0...</td>\n",
       "      <td>0.007102 0.004233 0.004303 0.005253 0.002298 0...</td>\n",
       "    </tr>\n",
       "  </tbody>\n",
       "</table>\n",
       "</div>"
      ],
      "text/plain": [
       "                                                           path_0  \\\n",
       "10,10000,5000   0.004972 0.004894 0.006088 0.006777 0.002473 0...   \n",
       "50,10000,5000   0.005309 0.010773 0.004900 0.007059 0.000177 0...   \n",
       "100,10000,5000  0.005917 0.003117 0.004326 0.013634 0.004314 0...   \n",
       "\n",
       "                                                           path_1  \\\n",
       "10,10000,5000   0.004931 0.000199 0.002895 0.007867 0.003707 0...   \n",
       "50,10000,5000   0.005397 0.007080 0.003539 0.006814 0.009266 0...   \n",
       "100,10000,5000  0.013122 0.003346 0.004766 0.003312 0.003107 0...   \n",
       "\n",
       "                                                           path_2  \\\n",
       "10,10000,5000   0.006346 0.003388 0.000037 0.006919 0.003831 0...   \n",
       "50,10000,5000   0.004049 0.000183 0.002760 0.002060 0.004056 0...   \n",
       "100,10000,5000  0.005918 0.005269 0.008686 0.005847 0.005259 0...   \n",
       "\n",
       "                                                           path_3  \n",
       "10,10000,5000   0.003724 0.002075 0.004004 0.002443 0.003391 0...  \n",
       "50,10000,5000   0.009454 0.005335 0.003605 0.002702 0.006265 0...  \n",
       "100,10000,5000  0.007102 0.004233 0.004303 0.005253 0.002298 0...  "
      ]
     },
     "execution_count": 44,
     "metadata": {},
     "output_type": "execute_result"
    }
   ],
   "source": [
    "df_path = fill_dataFrame_detailed(path, pathFiles)\n",
    "df_path"
   ]
  },
  {
   "cell_type": "code",
   "execution_count": 45,
   "metadata": {},
   "outputs": [
    {
     "data": {
      "text/plain": [
       "37"
      ]
     },
     "execution_count": 45,
     "metadata": {},
     "output_type": "execute_result"
    }
   ],
   "source": [
    "len(df_path.iloc[0,0].split(' '))"
   ]
  },
  {
   "cell_type": "code",
   "execution_count": 46,
   "metadata": {},
   "outputs": [
    {
     "data": {
      "text/html": [
       "<div>\n",
       "<style scoped>\n",
       "    .dataframe tbody tr th:only-of-type {\n",
       "        vertical-align: middle;\n",
       "    }\n",
       "\n",
       "    .dataframe tbody tr th {\n",
       "        vertical-align: top;\n",
       "    }\n",
       "\n",
       "    .dataframe thead th {\n",
       "        text-align: right;\n",
       "    }\n",
       "</style>\n",
       "<table border=\"1\" class=\"dataframe\">\n",
       "  <thead>\n",
       "    <tr style=\"text-align: right;\">\n",
       "      <th></th>\n",
       "      <th>rearrange_0</th>\n",
       "      <th>rearrange_1</th>\n",
       "      <th>rearrange_2</th>\n",
       "      <th>rearrange_3</th>\n",
       "    </tr>\n",
       "  </thead>\n",
       "  <tbody>\n",
       "    <tr>\n",
       "      <th>10,10000,5000</th>\n",
       "      <td>0.000066 0.000044 0.000044 0.000044 0.000042 0...</td>\n",
       "      <td>0.000067 0.000036 0.000043 0.000042 0.000041 0...</td>\n",
       "      <td>0.000072 0.000041 0.000044 0.000044 0.000044 0...</td>\n",
       "      <td>0.000064 0.000043 0.000044 0.000043 0.000042 0...</td>\n",
       "    </tr>\n",
       "    <tr>\n",
       "      <th>50,10000,5000</th>\n",
       "      <td>0.000319 0.000146 0.000167 0.000166 0.000154 0...</td>\n",
       "      <td>0.000278 0.000155 0.000154 0.001303 0.000149 0...</td>\n",
       "      <td>0.000286 0.000123 0.000160 0.000162 0.000158 0...</td>\n",
       "      <td>0.000323 0.000153 0.000158 0.000148 0.000164 0...</td>\n",
       "    </tr>\n",
       "    <tr>\n",
       "      <th>100,10000,5000</th>\n",
       "      <td>0.000658 0.000241 0.009661 0.000306 0.000286 0...</td>\n",
       "      <td>0.000696 0.000291 0.000284 0.000269 0.000256 0...</td>\n",
       "      <td>0.000624 0.000255 0.000263 0.000263 0.000291 0...</td>\n",
       "      <td>0.000633 0.000246 0.000278 0.000242 0.000257 0...</td>\n",
       "    </tr>\n",
       "  </tbody>\n",
       "</table>\n",
       "</div>"
      ],
      "text/plain": [
       "                                                      rearrange_0  \\\n",
       "10,10000,5000   0.000066 0.000044 0.000044 0.000044 0.000042 0...   \n",
       "50,10000,5000   0.000319 0.000146 0.000167 0.000166 0.000154 0...   \n",
       "100,10000,5000  0.000658 0.000241 0.009661 0.000306 0.000286 0...   \n",
       "\n",
       "                                                      rearrange_1  \\\n",
       "10,10000,5000   0.000067 0.000036 0.000043 0.000042 0.000041 0...   \n",
       "50,10000,5000   0.000278 0.000155 0.000154 0.001303 0.000149 0...   \n",
       "100,10000,5000  0.000696 0.000291 0.000284 0.000269 0.000256 0...   \n",
       "\n",
       "                                                      rearrange_2  \\\n",
       "10,10000,5000   0.000072 0.000041 0.000044 0.000044 0.000044 0...   \n",
       "50,10000,5000   0.000286 0.000123 0.000160 0.000162 0.000158 0...   \n",
       "100,10000,5000  0.000624 0.000255 0.000263 0.000263 0.000291 0...   \n",
       "\n",
       "                                                      rearrange_3  \n",
       "10,10000,5000   0.000064 0.000043 0.000044 0.000043 0.000042 0...  \n",
       "50,10000,5000   0.000323 0.000153 0.000158 0.000148 0.000164 0...  \n",
       "100,10000,5000  0.000633 0.000246 0.000278 0.000242 0.000257 0...  "
      ]
     },
     "execution_count": 46,
     "metadata": {},
     "output_type": "execute_result"
    }
   ],
   "source": [
    "df_rearr = fill_dataFrame_detailed(path, rearrFiles)\n",
    "df_rearr"
   ]
  },
  {
   "cell_type": "code",
   "execution_count": 47,
   "metadata": {},
   "outputs": [
    {
     "data": {
      "text/plain": [
       "37"
      ]
     },
     "execution_count": 47,
     "metadata": {},
     "output_type": "execute_result"
    }
   ],
   "source": [
    "len(df_rearr.iloc[0,0].split(' '))"
   ]
  },
  {
   "cell_type": "code",
   "execution_count": 48,
   "metadata": {},
   "outputs": [
    {
     "data": {
      "text/html": [
       "<div>\n",
       "<style scoped>\n",
       "    .dataframe tbody tr th:only-of-type {\n",
       "        vertical-align: middle;\n",
       "    }\n",
       "\n",
       "    .dataframe tbody tr th {\n",
       "        vertical-align: top;\n",
       "    }\n",
       "\n",
       "    .dataframe thead th {\n",
       "        text-align: right;\n",
       "    }\n",
       "</style>\n",
       "<table border=\"1\" class=\"dataframe\">\n",
       "  <thead>\n",
       "    <tr style=\"text-align: right;\">\n",
       "      <th></th>\n",
       "      <th>sort_0</th>\n",
       "      <th>sort_1</th>\n",
       "      <th>sort_2</th>\n",
       "      <th>sort_3</th>\n",
       "    </tr>\n",
       "  </thead>\n",
       "  <tbody>\n",
       "    <tr>\n",
       "      <th>10,10000,5000</th>\n",
       "      <td>0.009641 0.004757 0.005293 0.002776 0.002744 0...</td>\n",
       "      <td>0.013642 0.000220 0.003933 0.007606 0.007672 0...</td>\n",
       "      <td>0.002941 0.002455 0.000218 0.006961 0.002752 0...</td>\n",
       "      <td>0.002442 0.002756 0.002037 0.002722 0.003611 0...</td>\n",
       "    </tr>\n",
       "    <tr>\n",
       "      <th>50,10000,5000</th>\n",
       "      <td>0.007291 0.005146 0.009411 0.006697 0.000224 0...</td>\n",
       "      <td>0.002797 0.004404 0.005929 0.006700 0.002662 0...</td>\n",
       "      <td>0.005070 0.000235 0.002705 0.002477 0.008002 0...</td>\n",
       "      <td>0.005205 0.006510 0.004258 0.002678 0.008347 0...</td>\n",
       "    </tr>\n",
       "    <tr>\n",
       "      <th>100,10000,5000</th>\n",
       "      <td>0.010371 0.000242 0.004284 0.006166 0.009080 0...</td>\n",
       "      <td>0.008062 0.007645 0.013458 0.002711 0.004090 0...</td>\n",
       "      <td>0.002585 0.005633 0.002706 0.007304 0.011818 0...</td>\n",
       "      <td>0.005201 0.003983 0.004479 0.003933 0.002794 0...</td>\n",
       "    </tr>\n",
       "  </tbody>\n",
       "</table>\n",
       "</div>"
      ],
      "text/plain": [
       "                                                           sort_0  \\\n",
       "10,10000,5000   0.009641 0.004757 0.005293 0.002776 0.002744 0...   \n",
       "50,10000,5000   0.007291 0.005146 0.009411 0.006697 0.000224 0...   \n",
       "100,10000,5000  0.010371 0.000242 0.004284 0.006166 0.009080 0...   \n",
       "\n",
       "                                                           sort_1  \\\n",
       "10,10000,5000   0.013642 0.000220 0.003933 0.007606 0.007672 0...   \n",
       "50,10000,5000   0.002797 0.004404 0.005929 0.006700 0.002662 0...   \n",
       "100,10000,5000  0.008062 0.007645 0.013458 0.002711 0.004090 0...   \n",
       "\n",
       "                                                           sort_2  \\\n",
       "10,10000,5000   0.002941 0.002455 0.000218 0.006961 0.002752 0...   \n",
       "50,10000,5000   0.005070 0.000235 0.002705 0.002477 0.008002 0...   \n",
       "100,10000,5000  0.002585 0.005633 0.002706 0.007304 0.011818 0...   \n",
       "\n",
       "                                                           sort_3  \n",
       "10,10000,5000   0.002442 0.002756 0.002037 0.002722 0.003611 0...  \n",
       "50,10000,5000   0.005205 0.006510 0.004258 0.002678 0.008347 0...  \n",
       "100,10000,5000  0.005201 0.003983 0.004479 0.003933 0.002794 0...  "
      ]
     },
     "execution_count": 48,
     "metadata": {},
     "output_type": "execute_result"
    }
   ],
   "source": [
    "df_sort = fill_dataFrame_detailed(path, sortFiles)\n",
    "df_sort"
   ]
  },
  {
   "cell_type": "code",
   "execution_count": 49,
   "metadata": {},
   "outputs": [
    {
     "data": {
      "text/plain": [
       "37"
      ]
     },
     "execution_count": 49,
     "metadata": {},
     "output_type": "execute_result"
    }
   ],
   "source": [
    "len(df_sort.iloc[0,0].split(' '))"
   ]
  },
  {
   "cell_type": "code",
   "execution_count": 50,
   "metadata": {},
   "outputs": [
    {
     "data": {
      "text/html": [
       "<div>\n",
       "<style scoped>\n",
       "    .dataframe tbody tr th:only-of-type {\n",
       "        vertical-align: middle;\n",
       "    }\n",
       "\n",
       "    .dataframe tbody tr th {\n",
       "        vertical-align: top;\n",
       "    }\n",
       "\n",
       "    .dataframe thead th {\n",
       "        text-align: right;\n",
       "    }\n",
       "</style>\n",
       "<table border=\"1\" class=\"dataframe\">\n",
       "  <thead>\n",
       "    <tr style=\"text-align: right;\">\n",
       "      <th></th>\n",
       "      <th>transfer_0</th>\n",
       "      <th>transfer_1</th>\n",
       "      <th>transfer_2</th>\n",
       "      <th>transfer_3</th>\n",
       "    </tr>\n",
       "  </thead>\n",
       "  <tbody>\n",
       "    <tr>\n",
       "      <th>10,10000,5000</th>\n",
       "      <td>0.046671 0.007166 0.000005 0.015929 0.020588 0...</td>\n",
       "      <td>0.000028 0.000006 0.007380 0.008683 0.005930 0...</td>\n",
       "      <td>0.040292 0.008603 0.005502 0.010127 0.010032 0...</td>\n",
       "      <td>0.022503 0.018761 0.009833 0.000006 0.000006 0...</td>\n",
       "    </tr>\n",
       "    <tr>\n",
       "      <th>50,10000,5000</th>\n",
       "      <td>0.004131 0.015372 0.012382 0.002404 0.099636 0...</td>\n",
       "      <td>0.002990 0.000010 0.000009 0.000009 0.120187 0...</td>\n",
       "      <td>0.065806 0.058796 0.031799 0.009294 0.000013 0...</td>\n",
       "      <td>0.000038 0.018597 0.034477 0.007989 0.109115 0...</td>\n",
       "    </tr>\n",
       "    <tr>\n",
       "      <th>100,10000,5000</th>\n",
       "      <td>0.008905 0.027162 0.173401 0.000010 0.199960 0...</td>\n",
       "      <td>0.005770 0.042246 0.225737 0.041830 0.000017 0...</td>\n",
       "      <td>0.000038 0.000012 0.032988 0.012171 0.214613 0...</td>\n",
       "      <td>0.059023 0.030166 0.000016 0.249314 0.003004 0...</td>\n",
       "    </tr>\n",
       "  </tbody>\n",
       "</table>\n",
       "</div>"
      ],
      "text/plain": [
       "                                                       transfer_0  \\\n",
       "10,10000,5000   0.046671 0.007166 0.000005 0.015929 0.020588 0...   \n",
       "50,10000,5000   0.004131 0.015372 0.012382 0.002404 0.099636 0...   \n",
       "100,10000,5000  0.008905 0.027162 0.173401 0.000010 0.199960 0...   \n",
       "\n",
       "                                                       transfer_1  \\\n",
       "10,10000,5000   0.000028 0.000006 0.007380 0.008683 0.005930 0...   \n",
       "50,10000,5000   0.002990 0.000010 0.000009 0.000009 0.120187 0...   \n",
       "100,10000,5000  0.005770 0.042246 0.225737 0.041830 0.000017 0...   \n",
       "\n",
       "                                                       transfer_2  \\\n",
       "10,10000,5000   0.040292 0.008603 0.005502 0.010127 0.010032 0...   \n",
       "50,10000,5000   0.065806 0.058796 0.031799 0.009294 0.000013 0...   \n",
       "100,10000,5000  0.000038 0.000012 0.032988 0.012171 0.214613 0...   \n",
       "\n",
       "                                                       transfer_3  \n",
       "10,10000,5000   0.022503 0.018761 0.009833 0.000006 0.000006 0...  \n",
       "50,10000,5000   0.000038 0.018597 0.034477 0.007989 0.109115 0...  \n",
       "100,10000,5000  0.059023 0.030166 0.000016 0.249314 0.003004 0...  "
      ]
     },
     "execution_count": 50,
     "metadata": {},
     "output_type": "execute_result"
    }
   ],
   "source": [
    "df_trans = fill_dataFrame_detailed(path, transFiles)\n",
    "df_trans"
   ]
  },
  {
   "cell_type": "code",
   "execution_count": 51,
   "metadata": {},
   "outputs": [
    {
     "data": {
      "text/plain": [
       "9"
      ]
     },
     "execution_count": 51,
     "metadata": {},
     "output_type": "execute_result"
    }
   ],
   "source": [
    "len(df_trans.iloc[0,0].split(' '))"
   ]
  }
 ],
 "metadata": {
  "kernelspec": {
   "display_name": "Python 3",
   "language": "python",
   "name": "python3"
  },
  "language_info": {
   "codemirror_mode": {
    "name": "ipython",
    "version": 3
   },
   "file_extension": ".py",
   "mimetype": "text/x-python",
   "name": "python",
   "nbconvert_exporter": "python",
   "pygments_lexer": "ipython3",
   "version": "3.7.1"
  }
 },
 "nbformat": 4,
 "nbformat_minor": 2
}
